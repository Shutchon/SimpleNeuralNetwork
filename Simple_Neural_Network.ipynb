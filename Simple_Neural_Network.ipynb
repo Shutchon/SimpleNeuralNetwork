{
  "cells": [
    {
      "cell_type": "markdown",
      "metadata": {
        "id": "tT_iyMakksYZ"
      },
      "source": [
        "# Simple Neural Network"
      ]
    },
    {
      "cell_type": "code",
      "execution_count": 1,
      "metadata": {
        "colab": {
          "base_uri": "https://localhost:8080/"
        },
        "id": "6IlUoU8YGlQ7",
        "outputId": "21f3586a-73e7-46f4-f09e-7e4ed72017d4"
      },
      "outputs": [
        {
          "output_type": "stream",
          "name": "stdout",
          "text": [
            "\u001b[2K     \u001b[90m━━━━━━━━━━━━━━━━━━━━━━━━━━━━━━━━━━━━━━━━\u001b[0m \u001b[32m719.8/719.8 kB\u001b[0m \u001b[31m8.4 MB/s\u001b[0m eta \u001b[36m0:00:00\u001b[0m\n",
            "\u001b[2K     \u001b[90m━━━━━━━━━━━━━━━━━━━━━━━━━━━━━━━━━━━━━━━━\u001b[0m \u001b[32m536.6/536.6 kB\u001b[0m \u001b[31m29.9 MB/s\u001b[0m eta \u001b[36m0:00:00\u001b[0m\n",
            "\u001b[2K     \u001b[90m━━━━━━━━━━━━━━━━━━━━━━━━━━━━━━━━━━━━━━━━\u001b[0m \u001b[32m38.3/38.3 MB\u001b[0m \u001b[31m13.7 MB/s\u001b[0m eta \u001b[36m0:00:00\u001b[0m\n",
            "\u001b[2K     \u001b[90m━━━━━━━━━━━━━━━━━━━━━━━━━━━━━━━━━━━━━━━━\u001b[0m \u001b[32m116.3/116.3 kB\u001b[0m \u001b[31m12.5 MB/s\u001b[0m eta \u001b[36m0:00:00\u001b[0m\n",
            "\u001b[2K     \u001b[90m━━━━━━━━━━━━━━━━━━━━━━━━━━━━━━━━━━━━━━━━\u001b[0m \u001b[32m134.8/134.8 kB\u001b[0m \u001b[31m17.8 MB/s\u001b[0m eta \u001b[36m0:00:00\u001b[0m\n",
            "\u001b[2K     \u001b[90m━━━━━━━━━━━━━━━━━━━━━━━━━━━━━━━━━━━━━━━━\u001b[0m \u001b[32m1.6/1.6 MB\u001b[0m \u001b[31m25.1 MB/s\u001b[0m eta \u001b[36m0:00:00\u001b[0m\n",
            "\u001b[?25h\u001b[31mERROR: pip's dependency resolver does not currently take into account all the packages that are installed. This behaviour is the source of the following dependency conflicts.\n",
            "ibis-framework 7.1.0 requires pyarrow<15,>=2, but you have pyarrow 15.0.0 which is incompatible.\u001b[0m\u001b[31m\n",
            "\u001b[0m"
          ]
        }
      ],
      "source": [
        "#ติดตั้ง fastai\n",
        "!pip install -q fastbook==0.0.29\n",
        "import fastbook"
      ]
    },
    {
      "cell_type": "code",
      "execution_count": 2,
      "metadata": {
        "id": "-2VyXV7kpoju"
      },
      "outputs": [],
      "source": [
        "from fastai.vision.all import *\n",
        "from fastbook import *\n",
        "import torch\n",
        "\n",
        "matplotlib.rc('image', cmap='Greys')\n",
        "\n",
        "# เขียน plot_function ใหม่เพื่อความสะดวก\n",
        "# เนื่องจาก pytorch ใหม่ต้องใช้อาร์กิวเมนต์ขั้นตอนสำหรับ torch.linspace\n",
        "def plot_function(f, tx=None, ty=None, title=None, min=-2, max=2, figsize=(6,4)):\n",
        "    x = torch.linspace(min, max, steps=100)\n",
        "    fig,ax = plt.subplots(figsize=figsize)\n",
        "    ax.plot(x,f(x))"
      ]
    },
    {
      "cell_type": "markdown",
      "metadata": {
        "id": "gBWvqPiOpoju"
      },
      "source": [
        "# เทรนโมเดลจำแนกรูปเลข 3 และเลข 7 จาก [ชุดข้อมูล MNIST](http://yann.lecun.com/exdb/mnist/)"
      ]
    },
    {
      "cell_type": "markdown",
      "metadata": {
        "id": "_5WWrXnD6Vpj"
      },
      "source": [
        "## โหลดข้อมูลรูปเลข 3 และเลข 7"
      ]
    },
    {
      "cell_type": "code",
      "execution_count": 3,
      "metadata": {
        "colab": {
          "base_uri": "https://localhost:8080/",
          "height": 37
        },
        "id": "wkh3fHu5pojw",
        "outputId": "ca5d231c-1817-406b-e4b4-9bb109ef713e"
      },
      "outputs": [
        {
          "output_type": "display_data",
          "data": {
            "text/plain": [
              "<IPython.core.display.HTML object>"
            ],
            "text/html": [
              "\n",
              "<style>\n",
              "    /* Turns off some styling */\n",
              "    progress {\n",
              "        /* gets rid of default border in Firefox and Opera. */\n",
              "        border: none;\n",
              "        /* Needs to be in here for Safari polyfill so background images work as expected. */\n",
              "        background-size: auto;\n",
              "    }\n",
              "    progress:not([value]), progress:not([value])::-webkit-progress-bar {\n",
              "        background: repeating-linear-gradient(45deg, #7e7e7e, #7e7e7e 10px, #5c5c5c 10px, #5c5c5c 20px);\n",
              "    }\n",
              "    .progress-bar-interrupted, .progress-bar-interrupted::-webkit-progress-bar {\n",
              "        background: #F44336;\n",
              "    }\n",
              "</style>\n"
            ]
          },
          "metadata": {}
        },
        {
          "output_type": "display_data",
          "data": {
            "text/plain": [
              "<IPython.core.display.HTML object>"
            ],
            "text/html": [
              "\n",
              "    <div>\n",
              "      <progress value='3219456' class='' max='3214948' style='width:300px; height:20px; vertical-align: middle;'></progress>\n",
              "      100.14% [3219456/3214948 00:01&lt;00:00]\n",
              "    </div>\n",
              "    "
            ]
          },
          "metadata": {}
        }
      ],
      "source": [
        "path = untar_data(URLs.MNIST_SAMPLE)"
      ]
    },
    {
      "cell_type": "code",
      "execution_count": 4,
      "metadata": {
        "colab": {
          "base_uri": "https://localhost:8080/"
        },
        "id": "Z6OjxHEPpojw",
        "outputId": "bb83b7e8-8595-4b21-a6e8-e7eca27c81f7"
      },
      "outputs": [
        {
          "output_type": "execute_result",
          "data": {
            "text/plain": [
              "(#3) [Path('/root/.fastai/data/mnist_sample/valid'),Path('/root/.fastai/data/mnist_sample/labels.csv'),Path('/root/.fastai/data/mnist_sample/train')]"
            ]
          },
          "metadata": {},
          "execution_count": 4
        }
      ],
      "source": [
        "#แบ่งเป็น train, validation, test\n",
        "path.ls()"
      ]
    },
    {
      "cell_type": "code",
      "execution_count": 5,
      "metadata": {
        "colab": {
          "base_uri": "https://localhost:8080/"
        },
        "id": "mMmCdDscpojw",
        "outputId": "0995380f-5153-4286-a085-3cf7f81576ef"
      },
      "outputs": [
        {
          "output_type": "execute_result",
          "data": {
            "text/plain": [
              "(#2) [Path('/root/.fastai/data/mnist_sample/train/7'),Path('/root/.fastai/data/mnist_sample/train/3')]"
            ]
          },
          "metadata": {},
          "execution_count": 5
        }
      ],
      "source": [
        "#ในแต่ละ set จะมีเลข 3 และ 7\n",
        "(path/'train').ls()"
      ]
    },
    {
      "cell_type": "code",
      "execution_count": 6,
      "metadata": {
        "colab": {
          "base_uri": "https://localhost:8080/"
        },
        "id": "EilsFTaWpojx",
        "outputId": "95b31352-7b24-4619-8ac4-ab6af0ff6d25"
      },
      "outputs": [
        {
          "output_type": "execute_result",
          "data": {
            "text/plain": [
              "(#6131) [Path('/root/.fastai/data/mnist_sample/train/3/10.png'),Path('/root/.fastai/data/mnist_sample/train/3/10000.png'),Path('/root/.fastai/data/mnist_sample/train/3/10011.png'),Path('/root/.fastai/data/mnist_sample/train/3/10031.png'),Path('/root/.fastai/data/mnist_sample/train/3/10034.png'),Path('/root/.fastai/data/mnist_sample/train/3/10042.png'),Path('/root/.fastai/data/mnist_sample/train/3/10052.png'),Path('/root/.fastai/data/mnist_sample/train/3/1007.png'),Path('/root/.fastai/data/mnist_sample/train/3/10074.png'),Path('/root/.fastai/data/mnist_sample/train/3/10091.png')...]"
            ]
          },
          "metadata": {},
          "execution_count": 6
        }
      ],
      "source": [
        "#ในละ folder 3 และ 7 จะเป็นไฟล์รูป\n",
        "threes = (path/'train'/'3').ls().sorted()\n",
        "sevens = (path/'train'/'7').ls().sorted()\n",
        "threes"
      ]
    },
    {
      "cell_type": "code",
      "execution_count": 7,
      "metadata": {
        "colab": {
          "base_uri": "https://localhost:8080/"
        },
        "id": "2nKh8v3OBG5G",
        "outputId": "7a08772e-f487-4c6d-d03a-4db84bfdcc8f"
      },
      "outputs": [
        {
          "output_type": "execute_result",
          "data": {
            "text/plain": [
              "(6131, 6265)"
            ]
          },
          "metadata": {},
          "execution_count": 7
        }
      ],
      "source": [
        "#จำนวนรูปในแต่ละ class\n",
        "len(threes), len(sevens)"
      ]
    },
    {
      "cell_type": "code",
      "execution_count": 8,
      "metadata": {
        "colab": {
          "base_uri": "https://localhost:8080/",
          "height": 45
        },
        "id": "jJEUNNQKpojx",
        "outputId": "5f02ef59-df3c-4d84-8d98-082bde2fd7ad"
      },
      "outputs": [
        {
          "output_type": "execute_result",
          "data": {
            "text/plain": [
              "<PIL.PngImagePlugin.PngImageFile image mode=L size=28x28>"
            ],
            "image/png": "[encoded data removed]"
          },
          "metadata": {},
          "execution_count": 8
        }
      ],
      "source": [
        "im3_path = threes[6000]\n",
        "im3 = Image.open(im3_path)\n",
        "im3"
      ]
    },
    {
      "cell_type": "code",
      "source": [
        "im7_path = sevens[6000]\n",
        "im7 = Image.open(im7_path)\n",
        "im7"
      ],
      "metadata": {
        "id": "tCHMPwbbqgFC",
        "outputId": "8f792005-1287-4854-8703-2846def691c7",
        "colab": {
          "base_uri": "https://localhost:8080/",
          "height": 45
        }
      },
      "execution_count": 9,
      "outputs": [
        {
          "output_type": "execute_result",
          "data": {
            "text/plain": [
              "<PIL.PngImagePlugin.PngImageFile image mode=L size=28x28>"
            ],
            "image/png": "[encoded data removed]"
          },
          "metadata": {},
          "execution_count": 9
        }
      ]
    },
    {
      "cell_type": "code",
      "execution_count": 10,
      "metadata": {
        "colab": {
          "base_uri": "https://localhost:8080/"
        },
        "id": "GBYX4Mf0BTb6",
        "outputId": "6666f625-ed20-463e-bc32-da77eb85d94d"
      },
      "outputs": [
        {
          "output_type": "execute_result",
          "data": {
            "text/plain": [
              "(28, 28)"
            ]
          },
          "metadata": {},
          "execution_count": 10
        }
      ],
      "source": [
        "#รูปขนาด 28 x 28 pixels\n",
        "array(im3).shape"
      ]
    },
    {
      "cell_type": "code",
      "execution_count": 11,
      "metadata": {
        "colab": {
          "base_uri": "https://localhost:8080/"
        },
        "id": "RZphr7qzpojx",
        "outputId": "fbdb8fe4-d77c-4a58-b8a8-7e3ddab3bb19"
      },
      "outputs": [
        {
          "output_type": "execute_result",
          "data": {
            "text/plain": [
              "array([[0, 0, 0, 0, 0, 0],\n",
              "       [0, 0, 0, 0, 0, 0],\n",
              "       [0, 0, 0, 0, 0, 0],\n",
              "       [0, 0, 0, 0, 0, 0],\n",
              "       [0, 0, 0, 0, 0, 0],\n",
              "       [0, 0, 0, 0, 0, 0]], dtype=uint8)"
            ]
          },
          "metadata": {},
          "execution_count": 11
        }
      ],
      "source": [
        "#เปลี่ยนจาก numpy array\n",
        "array(im3)[4:10,4:10]"
      ]
    },
    {
      "cell_type": "code",
      "execution_count": 12,
      "metadata": {
        "colab": {
          "base_uri": "https://localhost:8080/"
        },
        "id": "o52Dig-Vpojx",
        "outputId": "1fe76fa7-750b-4e1c-d0b8-5bf42ffa6f2a"
      },
      "outputs": [
        {
          "output_type": "execute_result",
          "data": {
            "text/plain": [
              "tensor([[0, 0, 0, 0, 0, 0],\n",
              "        [0, 0, 0, 0, 0, 0],\n",
              "        [0, 0, 0, 0, 0, 0],\n",
              "        [0, 0, 0, 0, 0, 0],\n",
              "        [0, 0, 0, 0, 0, 0],\n",
              "        [0, 0, 0, 0, 0, 0]], dtype=torch.uint8)"
            ]
          },
          "metadata": {},
          "execution_count": 12
        }
      ],
      "source": [
        "#เป็น torch tensor\n",
        "tensor(im3)[4:10,4:10]"
      ]
    },
    {
      "cell_type": "code",
      "execution_count": 13,
      "metadata": {
        "colab": {
          "base_uri": "https://localhost:8080/",
          "height": 927
        },
        "id": "0yZCaBRNpojy",
        "outputId": "67a643c6-a1eb-4827-87f1-c94f45a80402"
      },
      "outputs": [
        {
          "output_type": "execute_result",
          "data": {
            "text/plain": [
              "<pandas.io.formats.style.Styler at 0x7deb763acb20>"
            ],
            "text/html": [
              "<style type=\"text/css\">\n",
              "#T_84fde_row0_col0, #T_84fde_row0_col1, #T_84fde_row0_col2, #T_84fde_row0_col3, #T_84fde_row0_col4, #T_84fde_row0_col5, #T_84fde_row0_col6, #T_84fde_row0_col7, #T_84fde_row0_col8, #T_84fde_row0_col9, #T_84fde_row0_col10, #T_84fde_row0_col11, #T_84fde_row0_col12, #T_84fde_row0_col13, #T_84fde_row0_col14, #T_84fde_row0_col15, #T_84fde_row0_col16, #T_84fde_row0_col17, #T_84fde_row0_col18, #T_84fde_row0_col19, #T_84fde_row0_col20, #T_84fde_row0_col21, #T_84fde_row0_col22, #T_84fde_row0_col23, #T_84fde_row0_col24, #T_84fde_row0_col25, #T_84fde_row0_col26, #T_84fde_row0_col27, #T_84fde_row1_col0, #T_84fde_row1_col1, #T_84fde_row1_col2, #T_84fde_row1_col3, #T_84fde_row1_col4, #T_84fde_row1_col5, #T_84fde_row1_col6, #T_84fde_row1_col7, #T_84fde_row1_col8, #T_84fde_row1_col9, #T_84fde_row1_col10, #T_84fde_row1_col11, #T_84fde_row1_col12, #T_84fde_row1_col13, #T_84fde_row1_col14, #T_84fde_row1_col15, #T_84fde_row1_col16, #T_84fde_row1_col17, #T_84fde_row1_col18, #T_84fde_row1_col19, #T_84fde_row1_col20, #T_84fde_row1_col21, #T_84fde_row1_col22, #T_84fde_row1_col23, #T_84fde_row1_col24, #T_84fde_row1_col25, #T_84fde_row1_col26, #T_84fde_row1_col27, #T_84fde_row2_col0, #T_84fde_row2_col1, #T_84fde_row2_col2, #T_84fde_row2_col3, #T_84fde_row2_col4, #T_84fde_row2_col5, #T_84fde_row2_col6, #T_84fde_row2_col7, #T_84fde_row2_col8, #T_84fde_row2_col9, #T_84fde_row2_col10, #T_84fde_row2_col11, #T_84fde_row2_col12, #T_84fde_row2_col13, #T_84fde_row2_col14, #T_84fde_row2_col15, #T_84fde_row2_col16, #T_84fde_row2_col17, #T_84fde_row2_col18, #T_84fde_row2_col19, #T_84fde_row2_col20, #T_84fde_row2_col21, #T_84fde_row2_col22, #T_84fde_row2_col23, #T_84fde_row2_col24, #T_84fde_row2_col25, #T_84fde_row2_col26, #T_84fde_row2_col27, #T_84fde_row3_col0, #T_84fde_row3_col1, #T_84fde_row3_col2, #T_84fde_row3_col3, #T_84fde_row3_col4, #T_84fde_row3_col5, #T_84fde_row3_col6, #T_84fde_row3_col7, #T_84fde_row3_col8, #T_84fde_row3_col9, #T_84fde_row3_col10, #T_84fde_row3_col11, #T_84fde_row3_col12, #T_84fde_row3_col13, #T_84fde_row3_col14, #T_84fde_row3_col15, #T_84fde_row3_col16, #T_84fde_row3_col17, #T_84fde_row3_col18, #T_84fde_row3_col19, #T_84fde_row3_col20, #T_84fde_row3_col21, #T_84fde_row3_col22, #T_84fde_row3_col23, #T_84fde_row3_col24, #T_84fde_row3_col25, #T_84fde_row3_col26, #T_84fde_row3_col27, #T_84fde_row4_col0, #T_84fde_row4_col1, #T_84fde_row4_col2, #T_84fde_row4_col3, #T_84fde_row4_col4, #T_84fde_row4_col5, #T_84fde_row4_col6, #T_84fde_row4_col7, #T_84fde_row4_col8, #T_84fde_row4_col9, #T_84fde_row4_col10, #T_84fde_row4_col11, #T_84fde_row4_col12, #T_84fde_row4_col13, #T_84fde_row4_col14, #T_84fde_row4_col15, #T_84fde_row4_col16, #T_84fde_row4_col17, #T_84fde_row4_col18, #T_84fde_row4_col19, #T_84fde_row4_col20, #T_84fde_row4_col21, #T_84fde_row4_col22, #T_84fde_row4_col23, #T_84fde_row4_col24, #T_84fde_row4_col25, #T_84fde_row4_col26, #T_84fde_row4_col27, #T_84fde_row5_col0, #T_84fde_row5_col1, #T_84fde_row5_col2, #T_84fde_row5_col3, #T_84fde_row5_col4, #T_84fde_row5_col5, #T_84fde_row5_col6, #T_84fde_row5_col7, #T_84fde_row5_col8, #T_84fde_row5_col9, #T_84fde_row5_col10, #T_84fde_row5_col11, #T_84fde_row5_col12, #T_84fde_row5_col13, #T_84fde_row5_col22, #T_84fde_row5_col23, #T_84fde_row5_col24, #T_84fde_row5_col25, #T_84fde_row5_col26, #T_84fde_row5_col27, #T_84fde_row6_col0, #T_84fde_row6_col1, #T_84fde_row6_col2, #T_84fde_row6_col3, #T_84fde_row6_col4, #T_84fde_row6_col5, #T_84fde_row6_col6, #T_84fde_row6_col7, #T_84fde_row6_col8, #T_84fde_row6_col9, #T_84fde_row6_col10, #T_84fde_row6_col11, #T_84fde_row6_col23, #T_84fde_row6_col24, #T_84fde_row6_col25, #T_84fde_row6_col26, #T_84fde_row6_col27, #T_84fde_row7_col0, #T_84fde_row7_col1, #T_84fde_row7_col2, #T_84fde_row7_col3, #T_84fde_row7_col4, #T_84fde_row7_col5, #T_84fde_row7_col6, #T_84fde_row7_col7, #T_84fde_row7_col8, #T_84fde_row7_col9, #T_84fde_row7_col23, #T_84fde_row7_col24, #T_84fde_row7_col25, #T_84fde_row7_col26, #T_84fde_row7_col27, #T_84fde_row8_col0, #T_84fde_row8_col1, #T_84fde_row8_col2, #T_84fde_row8_col3, #T_84fde_row8_col4, #T_84fde_row8_col5, #T_84fde_row8_col6, #T_84fde_row8_col7, #T_84fde_row8_col8, #T_84fde_row8_col9, #T_84fde_row8_col23, #T_84fde_row8_col24, #T_84fde_row8_col25, #T_84fde_row8_col26, #T_84fde_row8_col27, #T_84fde_row9_col0, #T_84fde_row9_col1, #T_84fde_row9_col2, #T_84fde_row9_col3, #T_84fde_row9_col4, #T_84fde_row9_col5, #T_84fde_row9_col6, #T_84fde_row9_col7, #T_84fde_row9_col8, #T_84fde_row9_col9, #T_84fde_row9_col14, #T_84fde_row9_col15, #T_84fde_row9_col16, #T_84fde_row9_col21, #T_84fde_row9_col22, #T_84fde_row9_col23, #T_84fde_row9_col24, #T_84fde_row9_col25, #T_84fde_row9_col26, #T_84fde_row9_col27, #T_84fde_row10_col0, #T_84fde_row10_col1, #T_84fde_row10_col2, #T_84fde_row10_col3, #T_84fde_row10_col4, #T_84fde_row10_col5, #T_84fde_row10_col6, #T_84fde_row10_col7, #T_84fde_row10_col8, #T_84fde_row10_col9, #T_84fde_row10_col10, #T_84fde_row10_col11, #T_84fde_row10_col12, #T_84fde_row10_col13, #T_84fde_row10_col14, #T_84fde_row10_col20, #T_84fde_row10_col21, #T_84fde_row10_col22, #T_84fde_row10_col23, #T_84fde_row10_col24, #T_84fde_row10_col25, #T_84fde_row10_col26, #T_84fde_row10_col27, #T_84fde_row11_col0, #T_84fde_row11_col1, #T_84fde_row11_col2, #T_84fde_row11_col3, #T_84fde_row11_col4, #T_84fde_row11_col5, #T_84fde_row11_col6, #T_84fde_row11_col7, #T_84fde_row11_col8, #T_84fde_row11_col9, #T_84fde_row11_col10, #T_84fde_row11_col11, #T_84fde_row11_col12, #T_84fde_row11_col13, #T_84fde_row11_col20, #T_84fde_row11_col21, #T_84fde_row11_col22, #T_84fde_row11_col23, #T_84fde_row11_col24, #T_84fde_row11_col25, #T_84fde_row11_col26, #T_84fde_row11_col27, #T_84fde_row12_col0, #T_84fde_row12_col1, #T_84fde_row12_col2, #T_84fde_row12_col3, #T_84fde_row12_col4, #T_84fde_row12_col5, #T_84fde_row12_col6, #T_84fde_row12_col7, #T_84fde_row12_col8, #T_84fde_row12_col9, #T_84fde_row12_col10, #T_84fde_row12_col11, #T_84fde_row12_col12, #T_84fde_row12_col13, #T_84fde_row12_col19, #T_84fde_row12_col20, #T_84fde_row12_col21, #T_84fde_row12_col22, #T_84fde_row12_col23, #T_84fde_row12_col24, #T_84fde_row12_col25, #T_84fde_row12_col26, #T_84fde_row12_col27, #T_84fde_row13_col0, #T_84fde_row13_col1, #T_84fde_row13_col2, #T_84fde_row13_col3, #T_84fde_row13_col4, #T_84fde_row13_col5, #T_84fde_row13_col6, #T_84fde_row13_col7, #T_84fde_row13_col8, #T_84fde_row13_col9, #T_84fde_row13_col10, #T_84fde_row13_col11, #T_84fde_row13_col12, #T_84fde_row13_col18, #T_84fde_row13_col19, #T_84fde_row13_col20, #T_84fde_row13_col21, #T_84fde_row13_col22, #T_84fde_row13_col23, #T_84fde_row13_col24, #T_84fde_row13_col25, #T_84fde_row13_col26, #T_84fde_row13_col27, #T_84fde_row14_col0, #T_84fde_row14_col1, #T_84fde_row14_col2, #T_84fde_row14_col3, #T_84fde_row14_col4, #T_84fde_row14_col5, #T_84fde_row14_col6, #T_84fde_row14_col7, #T_84fde_row14_col8, #T_84fde_row14_col9, #T_84fde_row14_col10, #T_84fde_row14_col11, #T_84fde_row14_col12, #T_84fde_row14_col17, #T_84fde_row14_col18, #T_84fde_row14_col19, #T_84fde_row14_col20, #T_84fde_row14_col21, #T_84fde_row14_col22, #T_84fde_row14_col23, #T_84fde_row14_col24, #T_84fde_row14_col25, #T_84fde_row14_col26, #T_84fde_row14_col27, #T_84fde_row15_col0, #T_84fde_row15_col1, #T_84fde_row15_col2, #T_84fde_row15_col3, #T_84fde_row15_col4, #T_84fde_row15_col5, #T_84fde_row15_col6, #T_84fde_row15_col7, #T_84fde_row15_col8, #T_84fde_row15_col9, #T_84fde_row15_col10, #T_84fde_row15_col11, #T_84fde_row15_col12, #T_84fde_row15_col17, #T_84fde_row15_col18, #T_84fde_row15_col19, #T_84fde_row15_col20, #T_84fde_row15_col21, #T_84fde_row15_col22, #T_84fde_row15_col23, #T_84fde_row15_col24, #T_84fde_row15_col25, #T_84fde_row15_col26, #T_84fde_row15_col27, #T_84fde_row16_col0, #T_84fde_row16_col1, #T_84fde_row16_col2, #T_84fde_row16_col3, #T_84fde_row16_col4, #T_84fde_row16_col5, #T_84fde_row16_col6, #T_84fde_row16_col7, #T_84fde_row16_col8, #T_84fde_row16_col9, #T_84fde_row16_col10, #T_84fde_row16_col11, #T_84fde_row16_col12, #T_84fde_row16_col18, #T_84fde_row16_col19, #T_84fde_row16_col20, #T_84fde_row16_col21, #T_84fde_row16_col22, #T_84fde_row16_col23, #T_84fde_row16_col24, #T_84fde_row16_col25, #T_84fde_row16_col26, #T_84fde_row16_col27, #T_84fde_row17_col0, #T_84fde_row17_col1, #T_84fde_row17_col2, #T_84fde_row17_col3, #T_84fde_row17_col4, #T_84fde_row17_col5, #T_84fde_row17_col6, #T_84fde_row17_col7, #T_84fde_row17_col8, #T_84fde_row17_col9, #T_84fde_row17_col10, #T_84fde_row17_col11, #T_84fde_row17_col12, #T_84fde_row17_col13, #T_84fde_row17_col14, #T_84fde_row17_col18, #T_84fde_row17_col19, #T_84fde_row17_col20, #T_84fde_row17_col21, #T_84fde_row17_col22, #T_84fde_row17_col23, #T_84fde_row17_col24, #T_84fde_row17_col25, #T_84fde_row17_col26, #T_84fde_row17_col27, #T_84fde_row18_col0, #T_84fde_row18_col1, #T_84fde_row18_col2, #T_84fde_row18_col3, #T_84fde_row18_col4, #T_84fde_row18_col5, #T_84fde_row18_col6, #T_84fde_row18_col7, #T_84fde_row18_col8, #T_84fde_row18_col9, #T_84fde_row18_col10, #T_84fde_row18_col11, #T_84fde_row18_col12, #T_84fde_row18_col13, #T_84fde_row18_col14, #T_84fde_row18_col18, #T_84fde_row18_col19, #T_84fde_row18_col20, #T_84fde_row18_col21, #T_84fde_row18_col22, #T_84fde_row18_col23, #T_84fde_row18_col24, #T_84fde_row18_col25, #T_84fde_row18_col26, #T_84fde_row18_col27, #T_84fde_row19_col0, #T_84fde_row19_col1, #T_84fde_row19_col2, #T_84fde_row19_col3, #T_84fde_row19_col4, #T_84fde_row19_col5, #T_84fde_row19_col6, #T_84fde_row19_col7, #T_84fde_row19_col8, #T_84fde_row19_col9, #T_84fde_row19_col10, #T_84fde_row19_col11, #T_84fde_row19_col12, #T_84fde_row19_col13, #T_84fde_row19_col19, #T_84fde_row19_col20, #T_84fde_row19_col21, #T_84fde_row19_col22, #T_84fde_row19_col23, #T_84fde_row19_col24, #T_84fde_row19_col25, #T_84fde_row19_col26, #T_84fde_row19_col27, #T_84fde_row20_col0, #T_84fde_row20_col1, #T_84fde_row20_col2, #T_84fde_row20_col3, #T_84fde_row20_col4, #T_84fde_row20_col5, #T_84fde_row20_col6, #T_84fde_row20_col7, #T_84fde_row20_col8, #T_84fde_row20_col9, #T_84fde_row20_col10, #T_84fde_row20_col11, #T_84fde_row20_col18, #T_84fde_row20_col19, #T_84fde_row20_col20, #T_84fde_row20_col21, #T_84fde_row20_col22, #T_84fde_row20_col23, #T_84fde_row20_col24, #T_84fde_row20_col25, #T_84fde_row20_col26, #T_84fde_row20_col27, #T_84fde_row21_col0, #T_84fde_row21_col1, #T_84fde_row21_col2, #T_84fde_row21_col3, #T_84fde_row21_col4, #T_84fde_row21_col18, #T_84fde_row21_col19, #T_84fde_row21_col20, #T_84fde_row21_col21, #T_84fde_row21_col22, #T_84fde_row21_col23, #T_84fde_row21_col24, #T_84fde_row21_col25, #T_84fde_row21_col26, #T_84fde_row21_col27, #T_84fde_row22_col0, #T_84fde_row22_col1, #T_84fde_row22_col2, #T_84fde_row22_col3, #T_84fde_row22_col4, #T_84fde_row22_col16, #T_84fde_row22_col17, #T_84fde_row22_col18, #T_84fde_row22_col19, #T_84fde_row22_col20, #T_84fde_row22_col21, #T_84fde_row22_col22, #T_84fde_row22_col23, #T_84fde_row22_col24, #T_84fde_row22_col25, #T_84fde_row22_col26, #T_84fde_row22_col27, #T_84fde_row23_col0, #T_84fde_row23_col1, #T_84fde_row23_col2, #T_84fde_row23_col3, #T_84fde_row23_col4, #T_84fde_row23_col15, #T_84fde_row23_col16, #T_84fde_row23_col17, #T_84fde_row23_col18, #T_84fde_row23_col19, #T_84fde_row23_col20, #T_84fde_row23_col21, #T_84fde_row23_col22, #T_84fde_row23_col23, #T_84fde_row23_col24, #T_84fde_row23_col25, #T_84fde_row23_col26, #T_84fde_row23_col27, #T_84fde_row24_col0, #T_84fde_row24_col1, #T_84fde_row24_col2, #T_84fde_row24_col3, #T_84fde_row24_col4, #T_84fde_row24_col13, #T_84fde_row24_col14, #T_84fde_row24_col15, #T_84fde_row24_col16, #T_84fde_row24_col17, #T_84fde_row24_col18, #T_84fde_row24_col19, #T_84fde_row24_col20, #T_84fde_row24_col21, #T_84fde_row24_col22, #T_84fde_row24_col23, #T_84fde_row24_col24, #T_84fde_row24_col25, #T_84fde_row24_col26, #T_84fde_row24_col27, #T_84fde_row25_col0, #T_84fde_row25_col1, #T_84fde_row25_col2, #T_84fde_row25_col3, #T_84fde_row25_col4, #T_84fde_row25_col5, #T_84fde_row25_col6, #T_84fde_row25_col7, #T_84fde_row25_col8, #T_84fde_row25_col9, #T_84fde_row25_col10, #T_84fde_row25_col11, #T_84fde_row25_col12, #T_84fde_row25_col13, #T_84fde_row25_col14, #T_84fde_row25_col15, #T_84fde_row25_col16, #T_84fde_row25_col17, #T_84fde_row25_col18, #T_84fde_row25_col19, #T_84fde_row25_col20, #T_84fde_row25_col21, #T_84fde_row25_col22, #T_84fde_row25_col23, #T_84fde_row25_col24, #T_84fde_row25_col25, #T_84fde_row25_col26, #T_84fde_row25_col27, #T_84fde_row26_col0, #T_84fde_row26_col1, #T_84fde_row26_col2, #T_84fde_row26_col3, #T_84fde_row26_col4, #T_84fde_row26_col5, #T_84fde_row26_col6, #T_84fde_row26_col7, #T_84fde_row26_col8, #T_84fde_row26_col9, #T_84fde_row26_col10, #T_84fde_row26_col11, #T_84fde_row26_col12, #T_84fde_row26_col13, #T_84fde_row26_col14, #T_84fde_row26_col15, #T_84fde_row26_col16, #T_84fde_row26_col17, #T_84fde_row26_col18, #T_84fde_row26_col19, #T_84fde_row26_col20, #T_84fde_row26_col21, #T_84fde_row26_col22, #T_84fde_row26_col23, #T_84fde_row26_col24, #T_84fde_row26_col25, #T_84fde_row26_col26, #T_84fde_row26_col27, #T_84fde_row27_col0, #T_84fde_row27_col1, #T_84fde_row27_col2, #T_84fde_row27_col3, #T_84fde_row27_col4, #T_84fde_row27_col5, #T_84fde_row27_col6, #T_84fde_row27_col7, #T_84fde_row27_col8, #T_84fde_row27_col9, #T_84fde_row27_col10, #T_84fde_row27_col11, #T_84fde_row27_col12, #T_84fde_row27_col13, #T_84fde_row27_col14, #T_84fde_row27_col15, #T_84fde_row27_col16, #T_84fde_row27_col17, #T_84fde_row27_col18, #T_84fde_row27_col19, #T_84fde_row27_col20, #T_84fde_row27_col21, #T_84fde_row27_col22, #T_84fde_row27_col23, #T_84fde_row27_col24, #T_84fde_row27_col25, #T_84fde_row27_col26, #T_84fde_row27_col27 {\n",
              "  font-size: 6pt;\n",
              "  background-color: #ffffff;\n",
              "  color: #000000;\n",
              "}\n",
              "#T_84fde_row5_col14, #T_84fde_row11_col15 {\n",
              "  font-size: 6pt;\n",
              "  background-color: #ececec;\n",
              "  color: #000000;\n",
              "}\n",
              "#T_84fde_row5_col15 {\n",
              "  font-size: 6pt;\n",
              "  background-color: #d6d6d6;\n",
              "  color: #000000;\n",
              "}\n",
              "#T_84fde_row5_col16 {\n",
              "  font-size: 6pt;\n",
              "  background-color: #767676;\n",
              "  color: #f1f1f1;\n",
              "}\n",
              "#T_84fde_row5_col17 {\n",
              "  font-size: 6pt;\n",
              "  background-color: #363636;\n",
              "  color: #f1f1f1;\n",
              "}\n",
              "#T_84fde_row5_col18, #T_84fde_row5_col19, #T_84fde_row6_col17, #T_84fde_row6_col20, #T_84fde_row7_col13, #T_84fde_row7_col20, #T_84fde_row7_col21, #T_84fde_row7_col22, #T_84fde_row8_col11, #T_84fde_row8_col12, #T_84fde_row8_col13, #T_84fde_row10_col18, #T_84fde_row11_col17, #T_84fde_row15_col14, #T_84fde_row20_col14, #T_84fde_row20_col15, #T_84fde_row20_col16, #T_84fde_row21_col13, #T_84fde_row22_col5, #T_84fde_row22_col6, #T_84fde_row22_col7, #T_84fde_row22_col10, #T_84fde_row22_col11, #T_84fde_row22_col12, #T_84fde_row22_col13, #T_84fde_row23_col6, #T_84fde_row23_col7, #T_84fde_row23_col8, #T_84fde_row23_col9, #T_84fde_row23_col10, #T_84fde_row23_col11, #T_84fde_row24_col9 {\n",
              "  font-size: 6pt;\n",
              "  background-color: #000000;\n",
              "  color: #f1f1f1;\n",
              "}\n",
              "#T_84fde_row5_col20, #T_84fde_row10_col17 {\n",
              "  font-size: 6pt;\n",
              "  background-color: #080808;\n",
              "  color: #f1f1f1;\n",
              "}\n",
              "#T_84fde_row5_col21, #T_84fde_row8_col16 {\n",
              "  font-size: 6pt;\n",
              "  background-color: #e4e4e4;\n",
              "  color: #000000;\n",
              "}\n",
              "#T_84fde_row6_col12, #T_84fde_row21_col8, #T_84fde_row24_col12 {\n",
              "  font-size: 6pt;\n",
              "  background-color: #eeeeee;\n",
              "  color: #000000;\n",
              "}\n",
              "#T_84fde_row6_col13, #T_84fde_row21_col6, #T_84fde_row21_col7 {\n",
              "  font-size: 6pt;\n",
              "  background-color: #a0a0a0;\n",
              "  color: #f1f1f1;\n",
              "}\n",
              "#T_84fde_row6_col14 {\n",
              "  font-size: 6pt;\n",
              "  background-color: #131313;\n",
              "  color: #f1f1f1;\n",
              "}\n",
              "#T_84fde_row6_col15, #T_84fde_row6_col16, #T_84fde_row6_col18, #T_84fde_row6_col19, #T_84fde_row7_col14, #T_84fde_row7_col15, #T_84fde_row7_col16, #T_84fde_row7_col19, #T_84fde_row8_col19, #T_84fde_row9_col19, #T_84fde_row11_col16, #T_84fde_row12_col15, #T_84fde_row12_col16, #T_84fde_row14_col14, #T_84fde_row17_col16, #T_84fde_row18_col16, #T_84fde_row19_col16, #T_84fde_row21_col14 {\n",
              "  font-size: 6pt;\n",
              "  background-color: #010101;\n",
              "  color: #f1f1f1;\n",
              "}\n",
              "#T_84fde_row6_col21 {\n",
              "  font-size: 6pt;\n",
              "  background-color: #1f1f1f;\n",
              "  color: #f1f1f1;\n",
              "}\n",
              "#T_84fde_row6_col22, #T_84fde_row18_col17 {\n",
              "  font-size: 6pt;\n",
              "  background-color: #303030;\n",
              "  color: #f1f1f1;\n",
              "}\n",
              "#T_84fde_row7_col10, #T_84fde_row8_col17, #T_84fde_row11_col19, #T_84fde_row16_col13, #T_84fde_row23_col14 {\n",
              "  font-size: 6pt;\n",
              "  background-color: #f8f8f8;\n",
              "  color: #000000;\n",
              "}\n",
              "#T_84fde_row7_col11 {\n",
              "  font-size: 6pt;\n",
              "  background-color: #616161;\n",
              "  color: #f1f1f1;\n",
              "}\n",
              "#T_84fde_row7_col12 {\n",
              "  font-size: 6pt;\n",
              "  background-color: #070707;\n",
              "  color: #f1f1f1;\n",
              "}\n",
              "#T_84fde_row7_col17 {\n",
              "  font-size: 6pt;\n",
              "  background-color: #353535;\n",
              "  color: #f1f1f1;\n",
              "}\n",
              "#T_84fde_row7_col18 {\n",
              "  font-size: 6pt;\n",
              "  background-color: #3d3d3d;\n",
              "  color: #f1f1f1;\n",
              "}\n",
              "#T_84fde_row8_col10, #T_84fde_row24_col6 {\n",
              "  font-size: 6pt;\n",
              "  background-color: #979797;\n",
              "  color: #f1f1f1;\n",
              "}\n",
              "#T_84fde_row8_col14 {\n",
              "  font-size: 6pt;\n",
              "  background-color: #323232;\n",
              "  color: #f1f1f1;\n",
              "}\n",
              "#T_84fde_row8_col15 {\n",
              "  font-size: 6pt;\n",
              "  background-color: #929292;\n",
              "  color: #f1f1f1;\n",
              "}\n",
              "#T_84fde_row8_col18 {\n",
              "  font-size: 6pt;\n",
              "  background-color: #9d9d9d;\n",
              "  color: #f1f1f1;\n",
              "}\n",
              "#T_84fde_row8_col20 {\n",
              "  font-size: 6pt;\n",
              "  background-color: #161616;\n",
              "  color: #f1f1f1;\n",
              "}\n",
              "#T_84fde_row8_col21 {\n",
              "  font-size: 6pt;\n",
              "  background-color: #a3a3a3;\n",
              "  color: #f1f1f1;\n",
              "}\n",
              "#T_84fde_row8_col22 {\n",
              "  font-size: 6pt;\n",
              "  background-color: #f3f3f3;\n",
              "  color: #000000;\n",
              "}\n",
              "#T_84fde_row9_col10, #T_84fde_row20_col17 {\n",
              "  font-size: 6pt;\n",
              "  background-color: #bdbdbd;\n",
              "  color: #000000;\n",
              "}\n",
              "#T_84fde_row9_col11, #T_84fde_row22_col8 {\n",
              "  font-size: 6pt;\n",
              "  background-color: #232323;\n",
              "  color: #f1f1f1;\n",
              "}\n",
              "#T_84fde_row9_col12 {\n",
              "  font-size: 6pt;\n",
              "  background-color: #6f6f6f;\n",
              "  color: #f1f1f1;\n",
              "}\n",
              "#T_84fde_row9_col13 {\n",
              "  font-size: 6pt;\n",
              "  background-color: #cbcbcb;\n",
              "  color: #000000;\n",
              "}\n",
              "#T_84fde_row9_col17, #T_84fde_row13_col17 {\n",
              "  font-size: 6pt;\n",
              "  background-color: #fbfbfb;\n",
              "  color: #000000;\n",
              "}\n",
              "#T_84fde_row9_col18 {\n",
              "  font-size: 6pt;\n",
              "  background-color: #393939;\n",
              "  color: #f1f1f1;\n",
              "}\n",
              "#T_84fde_row9_col20 {\n",
              "  font-size: 6pt;\n",
              "  background-color: #636363;\n",
              "  color: #f1f1f1;\n",
              "}\n",
              "#T_84fde_row10_col15, #T_84fde_row11_col14, #T_84fde_row21_col9 {\n",
              "  font-size: 6pt;\n",
              "  background-color: #fdfdfd;\n",
              "  color: #000000;\n",
              "}\n",
              "#T_84fde_row10_col16, #T_84fde_row12_col14 {\n",
              "  font-size: 6pt;\n",
              "  background-color: #c3c3c3;\n",
              "  color: #000000;\n",
              "}\n",
              "#T_84fde_row10_col19 {\n",
              "  font-size: 6pt;\n",
              "  background-color: #656565;\n",
              "  color: #f1f1f1;\n",
              "}\n",
              "#T_84fde_row11_col18 {\n",
              "  font-size: 6pt;\n",
              "  background-color: #141414;\n",
              "  color: #f1f1f1;\n",
              "}\n",
              "#T_84fde_row12_col17 {\n",
              "  font-size: 6pt;\n",
              "  background-color: #5c5c5c;\n",
              "  color: #f1f1f1;\n",
              "}\n",
              "#T_84fde_row12_col18 {\n",
              "  font-size: 6pt;\n",
              "  background-color: #eaeaea;\n",
              "  color: #000000;\n",
              "}\n",
              "#T_84fde_row13_col13 {\n",
              "  font-size: 6pt;\n",
              "  background-color: #afafaf;\n",
              "  color: #000000;\n",
              "}\n",
              "#T_84fde_row13_col14 {\n",
              "  font-size: 6pt;\n",
              "  background-color: #0a0a0a;\n",
              "  color: #f1f1f1;\n",
              "}\n",
              "#T_84fde_row13_col15, #T_84fde_row16_col15 {\n",
              "  font-size: 6pt;\n",
              "  background-color: #050505;\n",
              "  color: #f1f1f1;\n",
              "}\n",
              "#T_84fde_row13_col16 {\n",
              "  font-size: 6pt;\n",
              "  background-color: #5a5a5a;\n",
              "  color: #f1f1f1;\n",
              "}\n",
              "#T_84fde_row14_col13, #T_84fde_row16_col14 {\n",
              "  font-size: 6pt;\n",
              "  background-color: #757575;\n",
              "  color: #f1f1f1;\n",
              "}\n",
              "#T_84fde_row14_col15, #T_84fde_row16_col16 {\n",
              "  font-size: 6pt;\n",
              "  background-color: #0f0f0f;\n",
              "  color: #f1f1f1;\n",
              "}\n",
              "#T_84fde_row14_col16 {\n",
              "  font-size: 6pt;\n",
              "  background-color: #f1f1f1;\n",
              "  color: #000000;\n",
              "}\n",
              "#T_84fde_row15_col13, #T_84fde_row21_col16 {\n",
              "  font-size: 6pt;\n",
              "  background-color: #8d8d8d;\n",
              "  color: #f1f1f1;\n",
              "}\n",
              "#T_84fde_row15_col15, #T_84fde_row24_col10 {\n",
              "  font-size: 6pt;\n",
              "  background-color: #090909;\n",
              "  color: #f1f1f1;\n",
              "}\n",
              "#T_84fde_row15_col16 {\n",
              "  font-size: 6pt;\n",
              "  background-color: #adadad;\n",
              "  color: #000000;\n",
              "}\n",
              "#T_84fde_row16_col17 {\n",
              "  font-size: 6pt;\n",
              "  background-color: #b8b8b8;\n",
              "  color: #000000;\n",
              "}\n",
              "#T_84fde_row17_col15, #T_84fde_row21_col11 {\n",
              "  font-size: 6pt;\n",
              "  background-color: #7f7f7f;\n",
              "  color: #f1f1f1;\n",
              "}\n",
              "#T_84fde_row17_col17 {\n",
              "  font-size: 6pt;\n",
              "  background-color: #575757;\n",
              "  color: #f1f1f1;\n",
              "}\n",
              "#T_84fde_row18_col15 {\n",
              "  font-size: 6pt;\n",
              "  background-color: #909090;\n",
              "  color: #f1f1f1;\n",
              "}\n",
              "#T_84fde_row19_col14 {\n",
              "  font-size: 6pt;\n",
              "  background-color: #dbdbdb;\n",
              "  color: #000000;\n",
              "}\n",
              "#T_84fde_row19_col15 {\n",
              "  font-size: 6pt;\n",
              "  background-color: #1d1d1d;\n",
              "  color: #f1f1f1;\n",
              "}\n",
              "#T_84fde_row19_col17 {\n",
              "  font-size: 6pt;\n",
              "  background-color: #505050;\n",
              "  color: #f1f1f1;\n",
              "}\n",
              "#T_84fde_row19_col18 {\n",
              "  font-size: 6pt;\n",
              "  background-color: #f4f4f4;\n",
              "  color: #000000;\n",
              "}\n",
              "#T_84fde_row20_col12 {\n",
              "  font-size: 6pt;\n",
              "  background-color: #d4d4d4;\n",
              "  color: #000000;\n",
              "}\n",
              "#T_84fde_row20_col13 {\n",
              "  font-size: 6pt;\n",
              "  background-color: #4b4b4b;\n",
              "  color: #f1f1f1;\n",
              "}\n",
              "#T_84fde_row21_col5 {\n",
              "  font-size: 6pt;\n",
              "  background-color: #e7e7e7;\n",
              "  color: #000000;\n",
              "}\n",
              "#T_84fde_row21_col10 {\n",
              "  font-size: 6pt;\n",
              "  background-color: #d8d8d8;\n",
              "  color: #000000;\n",
              "}\n",
              "#T_84fde_row21_col12, #T_84fde_row21_col15 {\n",
              "  font-size: 6pt;\n",
              "  background-color: #030303;\n",
              "  color: #f1f1f1;\n",
              "}\n",
              "#T_84fde_row21_col17 {\n",
              "  font-size: 6pt;\n",
              "  background-color: #fefefe;\n",
              "  color: #000000;\n",
              "}\n",
              "#T_84fde_row22_col9, #T_84fde_row24_col8 {\n",
              "  font-size: 6pt;\n",
              "  background-color: #4d4d4d;\n",
              "  color: #f1f1f1;\n",
              "}\n",
              "#T_84fde_row22_col14 {\n",
              "  font-size: 6pt;\n",
              "  background-color: #171717;\n",
              "  color: #f1f1f1;\n",
              "}\n",
              "#T_84fde_row22_col15 {\n",
              "  font-size: 6pt;\n",
              "  background-color: #c5c5c5;\n",
              "  color: #000000;\n",
              "}\n",
              "#T_84fde_row23_col5 {\n",
              "  font-size: 6pt;\n",
              "  background-color: #c4c4c4;\n",
              "  color: #000000;\n",
              "}\n",
              "#T_84fde_row23_col12 {\n",
              "  font-size: 6pt;\n",
              "  background-color: #1a1a1a;\n",
              "  color: #f1f1f1;\n",
              "}\n",
              "#T_84fde_row23_col13 {\n",
              "  font-size: 6pt;\n",
              "  background-color: #606060;\n",
              "  color: #f1f1f1;\n",
              "}\n",
              "#T_84fde_row24_col5 {\n",
              "  font-size: 6pt;\n",
              "  background-color: #f5f5f5;\n",
              "  color: #000000;\n",
              "}\n",
              "#T_84fde_row24_col7, #T_84fde_row24_col11 {\n",
              "  font-size: 6pt;\n",
              "  background-color: #777777;\n",
              "  color: #f1f1f1;\n",
              "}\n",
              "</style>\n",
              "<table id=\"T_84fde\" class=\"dataframe\">\n",
              "  <thead>\n",
              "    <tr>\n",
              "      <th class=\"blank level0\" >&nbsp;</th>\n",
              "      <th id=\"T_84fde_level0_col0\" class=\"col_heading level0 col0\" >0</th>\n",
              "      <th id=\"T_84fde_level0_col1\" class=\"col_heading level0 col1\" >1</th>\n",
              "      <th id=\"T_84fde_level0_col2\" class=\"col_heading level0 col2\" >2</th>\n",
              "      <th id=\"T_84fde_level0_col3\" class=\"col_heading level0 col3\" >3</th>\n",
              "      <th id=\"T_84fde_level0_col4\" class=\"col_heading level0 col4\" >4</th>\n",
              "      <th id=\"T_84fde_level0_col5\" class=\"col_heading level0 col5\" >5</th>\n",
              "      <th id=\"T_84fde_level0_col6\" class=\"col_heading level0 col6\" >6</th>\n",
              "      <th id=\"T_84fde_level0_col7\" class=\"col_heading level0 col7\" >7</th>\n",
              "      <th id=\"T_84fde_level0_col8\" class=\"col_heading level0 col8\" >8</th>\n",
              "      <th id=\"T_84fde_level0_col9\" class=\"col_heading level0 col9\" >9</th>\n",
              "      <th id=\"T_84fde_level0_col10\" class=\"col_heading level0 col10\" >10</th>\n",
              "      <th id=\"T_84fde_level0_col11\" class=\"col_heading level0 col11\" >11</th>\n",
              "      <th id=\"T_84fde_level0_col12\" class=\"col_heading level0 col12\" >12</th>\n",
              "      <th id=\"T_84fde_level0_col13\" class=\"col_heading level0 col13\" >13</th>\n",
              "      <th id=\"T_84fde_level0_col14\" class=\"col_heading level0 col14\" >14</th>\n",
              "      <th id=\"T_84fde_level0_col15\" class=\"col_heading level0 col15\" >15</th>\n",
              "      <th id=\"T_84fde_level0_col16\" class=\"col_heading level0 col16\" >16</th>\n",
              "      <th id=\"T_84fde_level0_col17\" class=\"col_heading level0 col17\" >17</th>\n",
              "      <th id=\"T_84fde_level0_col18\" class=\"col_heading level0 col18\" >18</th>\n",
              "      <th id=\"T_84fde_level0_col19\" class=\"col_heading level0 col19\" >19</th>\n",
              "      <th id=\"T_84fde_level0_col20\" class=\"col_heading level0 col20\" >20</th>\n",
              "      <th id=\"T_84fde_level0_col21\" class=\"col_heading level0 col21\" >21</th>\n",
              "      <th id=\"T_84fde_level0_col22\" class=\"col_heading level0 col22\" >22</th>\n",
              "      <th id=\"T_84fde_level0_col23\" class=\"col_heading level0 col23\" >23</th>\n",
              "      <th id=\"T_84fde_level0_col24\" class=\"col_heading level0 col24\" >24</th>\n",
              "      <th id=\"T_84fde_level0_col25\" class=\"col_heading level0 col25\" >25</th>\n",
              "      <th id=\"T_84fde_level0_col26\" class=\"col_heading level0 col26\" >26</th>\n",
              "      <th id=\"T_84fde_level0_col27\" class=\"col_heading level0 col27\" >27</th>\n",
              "    </tr>\n",
              "  </thead>\n",
              "  <tbody>\n",
              "    <tr>\n",
              "      <th id=\"T_84fde_level0_row0\" class=\"row_heading level0 row0\" >0</th>\n",
              "      <td id=\"T_84fde_row0_col0\" class=\"data row0 col0\" >0</td>\n",
              "      <td id=\"T_84fde_row0_col1\" class=\"data row0 col1\" >0</td>\n",
              "      <td id=\"T_84fde_row0_col2\" class=\"data row0 col2\" >0</td>\n",
              "      <td id=\"T_84fde_row0_col3\" class=\"data row0 col3\" >0</td>\n",
              "      <td id=\"T_84fde_row0_col4\" class=\"data row0 col4\" >0</td>\n",
              "      <td id=\"T_84fde_row0_col5\" class=\"data row0 col5\" >0</td>\n",
              "      <td id=\"T_84fde_row0_col6\" class=\"data row0 col6\" >0</td>\n",
              "      <td id=\"T_84fde_row0_col7\" class=\"data row0 col7\" >0</td>\n",
              "      <td id=\"T_84fde_row0_col8\" class=\"data row0 col8\" >0</td>\n",
              "      <td id=\"T_84fde_row0_col9\" class=\"data row0 col9\" >0</td>\n",
              "      <td id=\"T_84fde_row0_col10\" class=\"data row0 col10\" >0</td>\n",
              "      <td id=\"T_84fde_row0_col11\" class=\"data row0 col11\" >0</td>\n",
              "      <td id=\"T_84fde_row0_col12\" class=\"data row0 col12\" >0</td>\n",
              "      <td id=\"T_84fde_row0_col13\" class=\"data row0 col13\" >0</td>\n",
              "      <td id=\"T_84fde_row0_col14\" class=\"data row0 col14\" >0</td>\n",
              "      <td id=\"T_84fde_row0_col15\" class=\"data row0 col15\" >0</td>\n",
              "      <td id=\"T_84fde_row0_col16\" class=\"data row0 col16\" >0</td>\n",
              "      <td id=\"T_84fde_row0_col17\" class=\"data row0 col17\" >0</td>\n",
              "      <td id=\"T_84fde_row0_col18\" class=\"data row0 col18\" >0</td>\n",
              "      <td id=\"T_84fde_row0_col19\" class=\"data row0 col19\" >0</td>\n",
              "      <td id=\"T_84fde_row0_col20\" class=\"data row0 col20\" >0</td>\n",
              "      <td id=\"T_84fde_row0_col21\" class=\"data row0 col21\" >0</td>\n",
              "      <td id=\"T_84fde_row0_col22\" class=\"data row0 col22\" >0</td>\n",
              "      <td id=\"T_84fde_row0_col23\" class=\"data row0 col23\" >0</td>\n",
              "      <td id=\"T_84fde_row0_col24\" class=\"data row0 col24\" >0</td>\n",
              "      <td id=\"T_84fde_row0_col25\" class=\"data row0 col25\" >0</td>\n",
              "      <td id=\"T_84fde_row0_col26\" class=\"data row0 col26\" >0</td>\n",
              "      <td id=\"T_84fde_row0_col27\" class=\"data row0 col27\" >0</td>\n",
              "    </tr>\n",
              "    <tr>\n",
              "      <th id=\"T_84fde_level0_row1\" class=\"row_heading level0 row1\" >1</th>\n",
              "      <td id=\"T_84fde_row1_col0\" class=\"data row1 col0\" >0</td>\n",
              "      <td id=\"T_84fde_row1_col1\" class=\"data row1 col1\" >0</td>\n",
              "      <td id=\"T_84fde_row1_col2\" class=\"data row1 col2\" >0</td>\n",
              "      <td id=\"T_84fde_row1_col3\" class=\"data row1 col3\" >0</td>\n",
              "      <td id=\"T_84fde_row1_col4\" class=\"data row1 col4\" >0</td>\n",
              "      <td id=\"T_84fde_row1_col5\" class=\"data row1 col5\" >0</td>\n",
              "      <td id=\"T_84fde_row1_col6\" class=\"data row1 col6\" >0</td>\n",
              "      <td id=\"T_84fde_row1_col7\" class=\"data row1 col7\" >0</td>\n",
              "      <td id=\"T_84fde_row1_col8\" class=\"data row1 col8\" >0</td>\n",
              "      <td id=\"T_84fde_row1_col9\" class=\"data row1 col9\" >0</td>\n",
              "      <td id=\"T_84fde_row1_col10\" class=\"data row1 col10\" >0</td>\n",
              "      <td id=\"T_84fde_row1_col11\" class=\"data row1 col11\" >0</td>\n",
              "      <td id=\"T_84fde_row1_col12\" class=\"data row1 col12\" >0</td>\n",
              "      <td id=\"T_84fde_row1_col13\" class=\"data row1 col13\" >0</td>\n",
              "      <td id=\"T_84fde_row1_col14\" class=\"data row1 col14\" >0</td>\n",
              "      <td id=\"T_84fde_row1_col15\" class=\"data row1 col15\" >0</td>\n",
              "      <td id=\"T_84fde_row1_col16\" class=\"data row1 col16\" >0</td>\n",
              "      <td id=\"T_84fde_row1_col17\" class=\"data row1 col17\" >0</td>\n",
              "      <td id=\"T_84fde_row1_col18\" class=\"data row1 col18\" >0</td>\n",
              "      <td id=\"T_84fde_row1_col19\" class=\"data row1 col19\" >0</td>\n",
              "      <td id=\"T_84fde_row1_col20\" class=\"data row1 col20\" >0</td>\n",
              "      <td id=\"T_84fde_row1_col21\" class=\"data row1 col21\" >0</td>\n",
              "      <td id=\"T_84fde_row1_col22\" class=\"data row1 col22\" >0</td>\n",
              "      <td id=\"T_84fde_row1_col23\" class=\"data row1 col23\" >0</td>\n",
              "      <td id=\"T_84fde_row1_col24\" class=\"data row1 col24\" >0</td>\n",
              "      <td id=\"T_84fde_row1_col25\" class=\"data row1 col25\" >0</td>\n",
              "      <td id=\"T_84fde_row1_col26\" class=\"data row1 col26\" >0</td>\n",
              "      <td id=\"T_84fde_row1_col27\" class=\"data row1 col27\" >0</td>\n",
              "    </tr>\n",
              "    <tr>\n",
              "      <th id=\"T_84fde_level0_row2\" class=\"row_heading level0 row2\" >2</th>\n",
              "      <td id=\"T_84fde_row2_col0\" class=\"data row2 col0\" >0</td>\n",
              "      <td id=\"T_84fde_row2_col1\" class=\"data row2 col1\" >0</td>\n",
              "      <td id=\"T_84fde_row2_col2\" class=\"data row2 col2\" >0</td>\n",
              "      <td id=\"T_84fde_row2_col3\" class=\"data row2 col3\" >0</td>\n",
              "      <td id=\"T_84fde_row2_col4\" class=\"data row2 col4\" >0</td>\n",
              "      <td id=\"T_84fde_row2_col5\" class=\"data row2 col5\" >0</td>\n",
              "      <td id=\"T_84fde_row2_col6\" class=\"data row2 col6\" >0</td>\n",
              "      <td id=\"T_84fde_row2_col7\" class=\"data row2 col7\" >0</td>\n",
              "      <td id=\"T_84fde_row2_col8\" class=\"data row2 col8\" >0</td>\n",
              "      <td id=\"T_84fde_row2_col9\" class=\"data row2 col9\" >0</td>\n",
              "      <td id=\"T_84fde_row2_col10\" class=\"data row2 col10\" >0</td>\n",
              "      <td id=\"T_84fde_row2_col11\" class=\"data row2 col11\" >0</td>\n",
              "      <td id=\"T_84fde_row2_col12\" class=\"data row2 col12\" >0</td>\n",
              "      <td id=\"T_84fde_row2_col13\" class=\"data row2 col13\" >0</td>\n",
              "      <td id=\"T_84fde_row2_col14\" class=\"data row2 col14\" >0</td>\n",
              "      <td id=\"T_84fde_row2_col15\" class=\"data row2 col15\" >0</td>\n",
              "      <td id=\"T_84fde_row2_col16\" class=\"data row2 col16\" >0</td>\n",
              "      <td id=\"T_84fde_row2_col17\" class=\"data row2 col17\" >0</td>\n",
              "      <td id=\"T_84fde_row2_col18\" class=\"data row2 col18\" >0</td>\n",
              "      <td id=\"T_84fde_row2_col19\" class=\"data row2 col19\" >0</td>\n",
              "      <td id=\"T_84fde_row2_col20\" class=\"data row2 col20\" >0</td>\n",
              "      <td id=\"T_84fde_row2_col21\" class=\"data row2 col21\" >0</td>\n",
              "      <td id=\"T_84fde_row2_col22\" class=\"data row2 col22\" >0</td>\n",
              "      <td id=\"T_84fde_row2_col23\" class=\"data row2 col23\" >0</td>\n",
              "      <td id=\"T_84fde_row2_col24\" class=\"data row2 col24\" >0</td>\n",
              "      <td id=\"T_84fde_row2_col25\" class=\"data row2 col25\" >0</td>\n",
              "      <td id=\"T_84fde_row2_col26\" class=\"data row2 col26\" >0</td>\n",
              "      <td id=\"T_84fde_row2_col27\" class=\"data row2 col27\" >0</td>\n",
              "    </tr>\n",
              "    <tr>\n",
              "      <th id=\"T_84fde_level0_row3\" class=\"row_heading level0 row3\" >3</th>\n",
              "      <td id=\"T_84fde_row3_col0\" class=\"data row3 col0\" >0</td>\n",
              "      <td id=\"T_84fde_row3_col1\" class=\"data row3 col1\" >0</td>\n",
              "      <td id=\"T_84fde_row3_col2\" class=\"data row3 col2\" >0</td>\n",
              "      <td id=\"T_84fde_row3_col3\" class=\"data row3 col3\" >0</td>\n",
              "      <td id=\"T_84fde_row3_col4\" class=\"data row3 col4\" >0</td>\n",
              "      <td id=\"T_84fde_row3_col5\" class=\"data row3 col5\" >0</td>\n",
              "      <td id=\"T_84fde_row3_col6\" class=\"data row3 col6\" >0</td>\n",
              "      <td id=\"T_84fde_row3_col7\" class=\"data row3 col7\" >0</td>\n",
              "      <td id=\"T_84fde_row3_col8\" class=\"data row3 col8\" >0</td>\n",
              "      <td id=\"T_84fde_row3_col9\" class=\"data row3 col9\" >0</td>\n",
              "      <td id=\"T_84fde_row3_col10\" class=\"data row3 col10\" >0</td>\n",
              "      <td id=\"T_84fde_row3_col11\" class=\"data row3 col11\" >0</td>\n",
              "      <td id=\"T_84fde_row3_col12\" class=\"data row3 col12\" >0</td>\n",
              "      <td id=\"T_84fde_row3_col13\" class=\"data row3 col13\" >0</td>\n",
              "      <td id=\"T_84fde_row3_col14\" class=\"data row3 col14\" >0</td>\n",
              "      <td id=\"T_84fde_row3_col15\" class=\"data row3 col15\" >0</td>\n",
              "      <td id=\"T_84fde_row3_col16\" class=\"data row3 col16\" >0</td>\n",
              "      <td id=\"T_84fde_row3_col17\" class=\"data row3 col17\" >0</td>\n",
              "      <td id=\"T_84fde_row3_col18\" class=\"data row3 col18\" >0</td>\n",
              "      <td id=\"T_84fde_row3_col19\" class=\"data row3 col19\" >0</td>\n",
              "      <td id=\"T_84fde_row3_col20\" class=\"data row3 col20\" >0</td>\n",
              "      <td id=\"T_84fde_row3_col21\" class=\"data row3 col21\" >0</td>\n",
              "      <td id=\"T_84fde_row3_col22\" class=\"data row3 col22\" >0</td>\n",
              "      <td id=\"T_84fde_row3_col23\" class=\"data row3 col23\" >0</td>\n",
              "      <td id=\"T_84fde_row3_col24\" class=\"data row3 col24\" >0</td>\n",
              "      <td id=\"T_84fde_row3_col25\" class=\"data row3 col25\" >0</td>\n",
              "      <td id=\"T_84fde_row3_col26\" class=\"data row3 col26\" >0</td>\n",
              "      <td id=\"T_84fde_row3_col27\" class=\"data row3 col27\" >0</td>\n",
              "    </tr>\n",
              "    <tr>\n",
              "      <th id=\"T_84fde_level0_row4\" class=\"row_heading level0 row4\" >4</th>\n",
              "      <td id=\"T_84fde_row4_col0\" class=\"data row4 col0\" >0</td>\n",
              "      <td id=\"T_84fde_row4_col1\" class=\"data row4 col1\" >0</td>\n",
              "      <td id=\"T_84fde_row4_col2\" class=\"data row4 col2\" >0</td>\n",
              "      <td id=\"T_84fde_row4_col3\" class=\"data row4 col3\" >0</td>\n",
              "      <td id=\"T_84fde_row4_col4\" class=\"data row4 col4\" >0</td>\n",
              "      <td id=\"T_84fde_row4_col5\" class=\"data row4 col5\" >0</td>\n",
              "      <td id=\"T_84fde_row4_col6\" class=\"data row4 col6\" >0</td>\n",
              "      <td id=\"T_84fde_row4_col7\" class=\"data row4 col7\" >0</td>\n",
              "      <td id=\"T_84fde_row4_col8\" class=\"data row4 col8\" >0</td>\n",
              "      <td id=\"T_84fde_row4_col9\" class=\"data row4 col9\" >0</td>\n",
              "      <td id=\"T_84fde_row4_col10\" class=\"data row4 col10\" >0</td>\n",
              "      <td id=\"T_84fde_row4_col11\" class=\"data row4 col11\" >0</td>\n",
              "      <td id=\"T_84fde_row4_col12\" class=\"data row4 col12\" >0</td>\n",
              "      <td id=\"T_84fde_row4_col13\" class=\"data row4 col13\" >0</td>\n",
              "      <td id=\"T_84fde_row4_col14\" class=\"data row4 col14\" >0</td>\n",
              "      <td id=\"T_84fde_row4_col15\" class=\"data row4 col15\" >0</td>\n",
              "      <td id=\"T_84fde_row4_col16\" class=\"data row4 col16\" >0</td>\n",
              "      <td id=\"T_84fde_row4_col17\" class=\"data row4 col17\" >0</td>\n",
              "      <td id=\"T_84fde_row4_col18\" class=\"data row4 col18\" >0</td>\n",
              "      <td id=\"T_84fde_row4_col19\" class=\"data row4 col19\" >0</td>\n",
              "      <td id=\"T_84fde_row4_col20\" class=\"data row4 col20\" >0</td>\n",
              "      <td id=\"T_84fde_row4_col21\" class=\"data row4 col21\" >0</td>\n",
              "      <td id=\"T_84fde_row4_col22\" class=\"data row4 col22\" >0</td>\n",
              "      <td id=\"T_84fde_row4_col23\" class=\"data row4 col23\" >0</td>\n",
              "      <td id=\"T_84fde_row4_col24\" class=\"data row4 col24\" >0</td>\n",
              "      <td id=\"T_84fde_row4_col25\" class=\"data row4 col25\" >0</td>\n",
              "      <td id=\"T_84fde_row4_col26\" class=\"data row4 col26\" >0</td>\n",
              "      <td id=\"T_84fde_row4_col27\" class=\"data row4 col27\" >0</td>\n",
              "    </tr>\n",
              "    <tr>\n",
              "      <th id=\"T_84fde_level0_row5\" class=\"row_heading level0 row5\" >5</th>\n",
              "      <td id=\"T_84fde_row5_col0\" class=\"data row5 col0\" >0</td>\n",
              "      <td id=\"T_84fde_row5_col1\" class=\"data row5 col1\" >0</td>\n",
              "      <td id=\"T_84fde_row5_col2\" class=\"data row5 col2\" >0</td>\n",
              "      <td id=\"T_84fde_row5_col3\" class=\"data row5 col3\" >0</td>\n",
              "      <td id=\"T_84fde_row5_col4\" class=\"data row5 col4\" >0</td>\n",
              "      <td id=\"T_84fde_row5_col5\" class=\"data row5 col5\" >0</td>\n",
              "      <td id=\"T_84fde_row5_col6\" class=\"data row5 col6\" >0</td>\n",
              "      <td id=\"T_84fde_row5_col7\" class=\"data row5 col7\" >0</td>\n",
              "      <td id=\"T_84fde_row5_col8\" class=\"data row5 col8\" >0</td>\n",
              "      <td id=\"T_84fde_row5_col9\" class=\"data row5 col9\" >0</td>\n",
              "      <td id=\"T_84fde_row5_col10\" class=\"data row5 col10\" >0</td>\n",
              "      <td id=\"T_84fde_row5_col11\" class=\"data row5 col11\" >0</td>\n",
              "      <td id=\"T_84fde_row5_col12\" class=\"data row5 col12\" >0</td>\n",
              "      <td id=\"T_84fde_row5_col13\" class=\"data row5 col13\" >0</td>\n",
              "      <td id=\"T_84fde_row5_col14\" class=\"data row5 col14\" >37</td>\n",
              "      <td id=\"T_84fde_row5_col15\" class=\"data row5 col15\" >67</td>\n",
              "      <td id=\"T_84fde_row5_col16\" class=\"data row5 col16\" >156</td>\n",
              "      <td id=\"T_84fde_row5_col17\" class=\"data row5 col17\" >209</td>\n",
              "      <td id=\"T_84fde_row5_col18\" class=\"data row5 col18\" >254</td>\n",
              "      <td id=\"T_84fde_row5_col19\" class=\"data row5 col19\" >255</td>\n",
              "      <td id=\"T_84fde_row5_col20\" class=\"data row5 col20\" >246</td>\n",
              "      <td id=\"T_84fde_row5_col21\" class=\"data row5 col21\" >48</td>\n",
              "      <td id=\"T_84fde_row5_col22\" class=\"data row5 col22\" >0</td>\n",
              "      <td id=\"T_84fde_row5_col23\" class=\"data row5 col23\" >0</td>\n",
              "      <td id=\"T_84fde_row5_col24\" class=\"data row5 col24\" >0</td>\n",
              "      <td id=\"T_84fde_row5_col25\" class=\"data row5 col25\" >0</td>\n",
              "      <td id=\"T_84fde_row5_col26\" class=\"data row5 col26\" >0</td>\n",
              "      <td id=\"T_84fde_row5_col27\" class=\"data row5 col27\" >0</td>\n",
              "    </tr>\n",
              "    <tr>\n",
              "      <th id=\"T_84fde_level0_row6\" class=\"row_heading level0 row6\" >6</th>\n",
              "      <td id=\"T_84fde_row6_col0\" class=\"data row6 col0\" >0</td>\n",
              "      <td id=\"T_84fde_row6_col1\" class=\"data row6 col1\" >0</td>\n",
              "      <td id=\"T_84fde_row6_col2\" class=\"data row6 col2\" >0</td>\n",
              "      <td id=\"T_84fde_row6_col3\" class=\"data row6 col3\" >0</td>\n",
              "      <td id=\"T_84fde_row6_col4\" class=\"data row6 col4\" >0</td>\n",
              "      <td id=\"T_84fde_row6_col5\" class=\"data row6 col5\" >0</td>\n",
              "      <td id=\"T_84fde_row6_col6\" class=\"data row6 col6\" >0</td>\n",
              "      <td id=\"T_84fde_row6_col7\" class=\"data row6 col7\" >0</td>\n",
              "      <td id=\"T_84fde_row6_col8\" class=\"data row6 col8\" >0</td>\n",
              "      <td id=\"T_84fde_row6_col9\" class=\"data row6 col9\" >0</td>\n",
              "      <td id=\"T_84fde_row6_col10\" class=\"data row6 col10\" >0</td>\n",
              "      <td id=\"T_84fde_row6_col11\" class=\"data row6 col11\" >0</td>\n",
              "      <td id=\"T_84fde_row6_col12\" class=\"data row6 col12\" >34</td>\n",
              "      <td id=\"T_84fde_row6_col13\" class=\"data row6 col13\" >118</td>\n",
              "      <td id=\"T_84fde_row6_col14\" class=\"data row6 col14\" >239</td>\n",
              "      <td id=\"T_84fde_row6_col15\" class=\"data row6 col15\" >253</td>\n",
              "      <td id=\"T_84fde_row6_col16\" class=\"data row6 col16\" >253</td>\n",
              "      <td id=\"T_84fde_row6_col17\" class=\"data row6 col17\" >253</td>\n",
              "      <td id=\"T_84fde_row6_col18\" class=\"data row6 col18\" >253</td>\n",
              "      <td id=\"T_84fde_row6_col19\" class=\"data row6 col19\" >254</td>\n",
              "      <td id=\"T_84fde_row6_col20\" class=\"data row6 col20\" >253</td>\n",
              "      <td id=\"T_84fde_row6_col21\" class=\"data row6 col21\" >226</td>\n",
              "      <td id=\"T_84fde_row6_col22\" class=\"data row6 col22\" >16</td>\n",
              "      <td id=\"T_84fde_row6_col23\" class=\"data row6 col23\" >0</td>\n",
              "      <td id=\"T_84fde_row6_col24\" class=\"data row6 col24\" >0</td>\n",
              "      <td id=\"T_84fde_row6_col25\" class=\"data row6 col25\" >0</td>\n",
              "      <td id=\"T_84fde_row6_col26\" class=\"data row6 col26\" >0</td>\n",
              "      <td id=\"T_84fde_row6_col27\" class=\"data row6 col27\" >0</td>\n",
              "    </tr>\n",
              "    <tr>\n",
              "      <th id=\"T_84fde_level0_row7\" class=\"row_heading level0 row7\" >7</th>\n",
              "      <td id=\"T_84fde_row7_col0\" class=\"data row7 col0\" >0</td>\n",
              "      <td id=\"T_84fde_row7_col1\" class=\"data row7 col1\" >0</td>\n",
              "      <td id=\"T_84fde_row7_col2\" class=\"data row7 col2\" >0</td>\n",
              "      <td id=\"T_84fde_row7_col3\" class=\"data row7 col3\" >0</td>\n",
              "      <td id=\"T_84fde_row7_col4\" class=\"data row7 col4\" >0</td>\n",
              "      <td id=\"T_84fde_row7_col5\" class=\"data row7 col5\" >0</td>\n",
              "      <td id=\"T_84fde_row7_col6\" class=\"data row7 col6\" >0</td>\n",
              "      <td id=\"T_84fde_row7_col7\" class=\"data row7 col7\" >0</td>\n",
              "      <td id=\"T_84fde_row7_col8\" class=\"data row7 col8\" >0</td>\n",
              "      <td id=\"T_84fde_row7_col9\" class=\"data row7 col9\" >0</td>\n",
              "      <td id=\"T_84fde_row7_col10\" class=\"data row7 col10\" >14</td>\n",
              "      <td id=\"T_84fde_row7_col11\" class=\"data row7 col11\" >175</td>\n",
              "      <td id=\"T_84fde_row7_col12\" class=\"data row7 col12\" >247</td>\n",
              "      <td id=\"T_84fde_row7_col13\" class=\"data row7 col13\" >253</td>\n",
              "      <td id=\"T_84fde_row7_col14\" class=\"data row7 col14\" >254</td>\n",
              "      <td id=\"T_84fde_row7_col15\" class=\"data row7 col15\" >253</td>\n",
              "      <td id=\"T_84fde_row7_col16\" class=\"data row7 col16\" >253</td>\n",
              "      <td id=\"T_84fde_row7_col17\" class=\"data row7 col17\" >210</td>\n",
              "      <td id=\"T_84fde_row7_col18\" class=\"data row7 col18\" >205</td>\n",
              "      <td id=\"T_84fde_row7_col19\" class=\"data row7 col19\" >254</td>\n",
              "      <td id=\"T_84fde_row7_col20\" class=\"data row7 col20\" >253</td>\n",
              "      <td id=\"T_84fde_row7_col21\" class=\"data row7 col21\" >253</td>\n",
              "      <td id=\"T_84fde_row7_col22\" class=\"data row7 col22\" >19</td>\n",
              "      <td id=\"T_84fde_row7_col23\" class=\"data row7 col23\" >0</td>\n",
              "      <td id=\"T_84fde_row7_col24\" class=\"data row7 col24\" >0</td>\n",
              "      <td id=\"T_84fde_row7_col25\" class=\"data row7 col25\" >0</td>\n",
              "      <td id=\"T_84fde_row7_col26\" class=\"data row7 col26\" >0</td>\n",
              "      <td id=\"T_84fde_row7_col27\" class=\"data row7 col27\" >0</td>\n",
              "    </tr>\n",
              "    <tr>\n",
              "      <th id=\"T_84fde_level0_row8\" class=\"row_heading level0 row8\" >8</th>\n",
              "      <td id=\"T_84fde_row8_col0\" class=\"data row8 col0\" >0</td>\n",
              "      <td id=\"T_84fde_row8_col1\" class=\"data row8 col1\" >0</td>\n",
              "      <td id=\"T_84fde_row8_col2\" class=\"data row8 col2\" >0</td>\n",
              "      <td id=\"T_84fde_row8_col3\" class=\"data row8 col3\" >0</td>\n",
              "      <td id=\"T_84fde_row8_col4\" class=\"data row8 col4\" >0</td>\n",
              "      <td id=\"T_84fde_row8_col5\" class=\"data row8 col5\" >0</td>\n",
              "      <td id=\"T_84fde_row8_col6\" class=\"data row8 col6\" >0</td>\n",
              "      <td id=\"T_84fde_row8_col7\" class=\"data row8 col7\" >0</td>\n",
              "      <td id=\"T_84fde_row8_col8\" class=\"data row8 col8\" >0</td>\n",
              "      <td id=\"T_84fde_row8_col9\" class=\"data row8 col9\" >0</td>\n",
              "      <td id=\"T_84fde_row8_col10\" class=\"data row8 col10\" >126</td>\n",
              "      <td id=\"T_84fde_row8_col11\" class=\"data row8 col11\" >253</td>\n",
              "      <td id=\"T_84fde_row8_col12\" class=\"data row8 col12\" >253</td>\n",
              "      <td id=\"T_84fde_row8_col13\" class=\"data row8 col13\" >253</td>\n",
              "      <td id=\"T_84fde_row8_col14\" class=\"data row8 col14\" >214</td>\n",
              "      <td id=\"T_84fde_row8_col15\" class=\"data row8 col15\" >130</td>\n",
              "      <td id=\"T_84fde_row8_col16\" class=\"data row8 col16\" >49</td>\n",
              "      <td id=\"T_84fde_row8_col17\" class=\"data row8 col17\" >15</td>\n",
              "      <td id=\"T_84fde_row8_col18\" class=\"data row8 col18\" >122</td>\n",
              "      <td id=\"T_84fde_row8_col19\" class=\"data row8 col19\" >254</td>\n",
              "      <td id=\"T_84fde_row8_col20\" class=\"data row8 col20\" >234</td>\n",
              "      <td id=\"T_84fde_row8_col21\" class=\"data row8 col21\" >116</td>\n",
              "      <td id=\"T_84fde_row8_col22\" class=\"data row8 col22\" >2</td>\n",
              "      <td id=\"T_84fde_row8_col23\" class=\"data row8 col23\" >0</td>\n",
              "      <td id=\"T_84fde_row8_col24\" class=\"data row8 col24\" >0</td>\n",
              "      <td id=\"T_84fde_row8_col25\" class=\"data row8 col25\" >0</td>\n",
              "      <td id=\"T_84fde_row8_col26\" class=\"data row8 col26\" >0</td>\n",
              "      <td id=\"T_84fde_row8_col27\" class=\"data row8 col27\" >0</td>\n",
              "    </tr>\n",
              "    <tr>\n",
              "      <th id=\"T_84fde_level0_row9\" class=\"row_heading level0 row9\" >9</th>\n",
              "      <td id=\"T_84fde_row9_col0\" class=\"data row9 col0\" >0</td>\n",
              "      <td id=\"T_84fde_row9_col1\" class=\"data row9 col1\" >0</td>\n",
              "      <td id=\"T_84fde_row9_col2\" class=\"data row9 col2\" >0</td>\n",
              "      <td id=\"T_84fde_row9_col3\" class=\"data row9 col3\" >0</td>\n",
              "      <td id=\"T_84fde_row9_col4\" class=\"data row9 col4\" >0</td>\n",
              "      <td id=\"T_84fde_row9_col5\" class=\"data row9 col5\" >0</td>\n",
              "      <td id=\"T_84fde_row9_col6\" class=\"data row9 col6\" >0</td>\n",
              "      <td id=\"T_84fde_row9_col7\" class=\"data row9 col7\" >0</td>\n",
              "      <td id=\"T_84fde_row9_col8\" class=\"data row9 col8\" >0</td>\n",
              "      <td id=\"T_84fde_row9_col9\" class=\"data row9 col9\" >0</td>\n",
              "      <td id=\"T_84fde_row9_col10\" class=\"data row9 col10\" >95</td>\n",
              "      <td id=\"T_84fde_row9_col11\" class=\"data row9 col11\" >223</td>\n",
              "      <td id=\"T_84fde_row9_col12\" class=\"data row9 col12\" >162</td>\n",
              "      <td id=\"T_84fde_row9_col13\" class=\"data row9 col13\" >80</td>\n",
              "      <td id=\"T_84fde_row9_col14\" class=\"data row9 col14\" >0</td>\n",
              "      <td id=\"T_84fde_row9_col15\" class=\"data row9 col15\" >0</td>\n",
              "      <td id=\"T_84fde_row9_col16\" class=\"data row9 col16\" >0</td>\n",
              "      <td id=\"T_84fde_row9_col17\" class=\"data row9 col17\" >9</td>\n",
              "      <td id=\"T_84fde_row9_col18\" class=\"data row9 col18\" >208</td>\n",
              "      <td id=\"T_84fde_row9_col19\" class=\"data row9 col19\" >254</td>\n",
              "      <td id=\"T_84fde_row9_col20\" class=\"data row9 col20\" >173</td>\n",
              "      <td id=\"T_84fde_row9_col21\" class=\"data row9 col21\" >0</td>\n",
              "      <td id=\"T_84fde_row9_col22\" class=\"data row9 col22\" >0</td>\n",
              "      <td id=\"T_84fde_row9_col23\" class=\"data row9 col23\" >0</td>\n",
              "      <td id=\"T_84fde_row9_col24\" class=\"data row9 col24\" >0</td>\n",
              "      <td id=\"T_84fde_row9_col25\" class=\"data row9 col25\" >0</td>\n",
              "      <td id=\"T_84fde_row9_col26\" class=\"data row9 col26\" >0</td>\n",
              "      <td id=\"T_84fde_row9_col27\" class=\"data row9 col27\" >0</td>\n",
              "    </tr>\n",
              "    <tr>\n",
              "      <th id=\"T_84fde_level0_row10\" class=\"row_heading level0 row10\" >10</th>\n",
              "      <td id=\"T_84fde_row10_col0\" class=\"data row10 col0\" >0</td>\n",
              "      <td id=\"T_84fde_row10_col1\" class=\"data row10 col1\" >0</td>\n",
              "      <td id=\"T_84fde_row10_col2\" class=\"data row10 col2\" >0</td>\n",
              "      <td id=\"T_84fde_row10_col3\" class=\"data row10 col3\" >0</td>\n",
              "      <td id=\"T_84fde_row10_col4\" class=\"data row10 col4\" >0</td>\n",
              "      <td id=\"T_84fde_row10_col5\" class=\"data row10 col5\" >0</td>\n",
              "      <td id=\"T_84fde_row10_col6\" class=\"data row10 col6\" >0</td>\n",
              "      <td id=\"T_84fde_row10_col7\" class=\"data row10 col7\" >0</td>\n",
              "      <td id=\"T_84fde_row10_col8\" class=\"data row10 col8\" >0</td>\n",
              "      <td id=\"T_84fde_row10_col9\" class=\"data row10 col9\" >0</td>\n",
              "      <td id=\"T_84fde_row10_col10\" class=\"data row10 col10\" >0</td>\n",
              "      <td id=\"T_84fde_row10_col11\" class=\"data row10 col11\" >0</td>\n",
              "      <td id=\"T_84fde_row10_col12\" class=\"data row10 col12\" >0</td>\n",
              "      <td id=\"T_84fde_row10_col13\" class=\"data row10 col13\" >0</td>\n",
              "      <td id=\"T_84fde_row10_col14\" class=\"data row10 col14\" >0</td>\n",
              "      <td id=\"T_84fde_row10_col15\" class=\"data row10 col15\" >5</td>\n",
              "      <td id=\"T_84fde_row10_col16\" class=\"data row10 col16\" >89</td>\n",
              "      <td id=\"T_84fde_row10_col17\" class=\"data row10 col17\" >246</td>\n",
              "      <td id=\"T_84fde_row10_col18\" class=\"data row10 col18\" >254</td>\n",
              "      <td id=\"T_84fde_row10_col19\" class=\"data row10 col19\" >173</td>\n",
              "      <td id=\"T_84fde_row10_col20\" class=\"data row10 col20\" >0</td>\n",
              "      <td id=\"T_84fde_row10_col21\" class=\"data row10 col21\" >0</td>\n",
              "      <td id=\"T_84fde_row10_col22\" class=\"data row10 col22\" >0</td>\n",
              "      <td id=\"T_84fde_row10_col23\" class=\"data row10 col23\" >0</td>\n",
              "      <td id=\"T_84fde_row10_col24\" class=\"data row10 col24\" >0</td>\n",
              "      <td id=\"T_84fde_row10_col25\" class=\"data row10 col25\" >0</td>\n",
              "      <td id=\"T_84fde_row10_col26\" class=\"data row10 col26\" >0</td>\n",
              "      <td id=\"T_84fde_row10_col27\" class=\"data row10 col27\" >0</td>\n",
              "    </tr>\n",
              "    <tr>\n",
              "      <th id=\"T_84fde_level0_row11\" class=\"row_heading level0 row11\" >11</th>\n",
              "      <td id=\"T_84fde_row11_col0\" class=\"data row11 col0\" >0</td>\n",
              "      <td id=\"T_84fde_row11_col1\" class=\"data row11 col1\" >0</td>\n",
              "      <td id=\"T_84fde_row11_col2\" class=\"data row11 col2\" >0</td>\n",
              "      <td id=\"T_84fde_row11_col3\" class=\"data row11 col3\" >0</td>\n",
              "      <td id=\"T_84fde_row11_col4\" class=\"data row11 col4\" >0</td>\n",
              "      <td id=\"T_84fde_row11_col5\" class=\"data row11 col5\" >0</td>\n",
              "      <td id=\"T_84fde_row11_col6\" class=\"data row11 col6\" >0</td>\n",
              "      <td id=\"T_84fde_row11_col7\" class=\"data row11 col7\" >0</td>\n",
              "      <td id=\"T_84fde_row11_col8\" class=\"data row11 col8\" >0</td>\n",
              "      <td id=\"T_84fde_row11_col9\" class=\"data row11 col9\" >0</td>\n",
              "      <td id=\"T_84fde_row11_col10\" class=\"data row11 col10\" >0</td>\n",
              "      <td id=\"T_84fde_row11_col11\" class=\"data row11 col11\" >0</td>\n",
              "      <td id=\"T_84fde_row11_col12\" class=\"data row11 col12\" >0</td>\n",
              "      <td id=\"T_84fde_row11_col13\" class=\"data row11 col13\" >0</td>\n",
              "      <td id=\"T_84fde_row11_col14\" class=\"data row11 col14\" >5</td>\n",
              "      <td id=\"T_84fde_row11_col15\" class=\"data row11 col15\" >38</td>\n",
              "      <td id=\"T_84fde_row11_col16\" class=\"data row11 col16\" >253</td>\n",
              "      <td id=\"T_84fde_row11_col17\" class=\"data row11 col17\" >253</td>\n",
              "      <td id=\"T_84fde_row11_col18\" class=\"data row11 col18\" >237</td>\n",
              "      <td id=\"T_84fde_row11_col19\" class=\"data row11 col19\" >15</td>\n",
              "      <td id=\"T_84fde_row11_col20\" class=\"data row11 col20\" >0</td>\n",
              "      <td id=\"T_84fde_row11_col21\" class=\"data row11 col21\" >0</td>\n",
              "      <td id=\"T_84fde_row11_col22\" class=\"data row11 col22\" >0</td>\n",
              "      <td id=\"T_84fde_row11_col23\" class=\"data row11 col23\" >0</td>\n",
              "      <td id=\"T_84fde_row11_col24\" class=\"data row11 col24\" >0</td>\n",
              "      <td id=\"T_84fde_row11_col25\" class=\"data row11 col25\" >0</td>\n",
              "      <td id=\"T_84fde_row11_col26\" class=\"data row11 col26\" >0</td>\n",
              "      <td id=\"T_84fde_row11_col27\" class=\"data row11 col27\" >0</td>\n",
              "    </tr>\n",
              "    <tr>\n",
              "      <th id=\"T_84fde_level0_row12\" class=\"row_heading level0 row12\" >12</th>\n",
              "      <td id=\"T_84fde_row12_col0\" class=\"data row12 col0\" >0</td>\n",
              "      <td id=\"T_84fde_row12_col1\" class=\"data row12 col1\" >0</td>\n",
              "      <td id=\"T_84fde_row12_col2\" class=\"data row12 col2\" >0</td>\n",
              "      <td id=\"T_84fde_row12_col3\" class=\"data row12 col3\" >0</td>\n",
              "      <td id=\"T_84fde_row12_col4\" class=\"data row12 col4\" >0</td>\n",
              "      <td id=\"T_84fde_row12_col5\" class=\"data row12 col5\" >0</td>\n",
              "      <td id=\"T_84fde_row12_col6\" class=\"data row12 col6\" >0</td>\n",
              "      <td id=\"T_84fde_row12_col7\" class=\"data row12 col7\" >0</td>\n",
              "      <td id=\"T_84fde_row12_col8\" class=\"data row12 col8\" >0</td>\n",
              "      <td id=\"T_84fde_row12_col9\" class=\"data row12 col9\" >0</td>\n",
              "      <td id=\"T_84fde_row12_col10\" class=\"data row12 col10\" >0</td>\n",
              "      <td id=\"T_84fde_row12_col11\" class=\"data row12 col11\" >0</td>\n",
              "      <td id=\"T_84fde_row12_col12\" class=\"data row12 col12\" >0</td>\n",
              "      <td id=\"T_84fde_row12_col13\" class=\"data row12 col13\" >0</td>\n",
              "      <td id=\"T_84fde_row12_col14\" class=\"data row12 col14\" >89</td>\n",
              "      <td id=\"T_84fde_row12_col15\" class=\"data row12 col15\" >253</td>\n",
              "      <td id=\"T_84fde_row12_col16\" class=\"data row12 col16\" >253</td>\n",
              "      <td id=\"T_84fde_row12_col17\" class=\"data row12 col17\" >180</td>\n",
              "      <td id=\"T_84fde_row12_col18\" class=\"data row12 col18\" >40</td>\n",
              "      <td id=\"T_84fde_row12_col19\" class=\"data row12 col19\" >0</td>\n",
              "      <td id=\"T_84fde_row12_col20\" class=\"data row12 col20\" >0</td>\n",
              "      <td id=\"T_84fde_row12_col21\" class=\"data row12 col21\" >0</td>\n",
              "      <td id=\"T_84fde_row12_col22\" class=\"data row12 col22\" >0</td>\n",
              "      <td id=\"T_84fde_row12_col23\" class=\"data row12 col23\" >0</td>\n",
              "      <td id=\"T_84fde_row12_col24\" class=\"data row12 col24\" >0</td>\n",
              "      <td id=\"T_84fde_row12_col25\" class=\"data row12 col25\" >0</td>\n",
              "      <td id=\"T_84fde_row12_col26\" class=\"data row12 col26\" >0</td>\n",
              "      <td id=\"T_84fde_row12_col27\" class=\"data row12 col27\" >0</td>\n",
              "    </tr>\n",
              "    <tr>\n",
              "      <th id=\"T_84fde_level0_row13\" class=\"row_heading level0 row13\" >13</th>\n",
              "      <td id=\"T_84fde_row13_col0\" class=\"data row13 col0\" >0</td>\n",
              "      <td id=\"T_84fde_row13_col1\" class=\"data row13 col1\" >0</td>\n",
              "      <td id=\"T_84fde_row13_col2\" class=\"data row13 col2\" >0</td>\n",
              "      <td id=\"T_84fde_row13_col3\" class=\"data row13 col3\" >0</td>\n",
              "      <td id=\"T_84fde_row13_col4\" class=\"data row13 col4\" >0</td>\n",
              "      <td id=\"T_84fde_row13_col5\" class=\"data row13 col5\" >0</td>\n",
              "      <td id=\"T_84fde_row13_col6\" class=\"data row13 col6\" >0</td>\n",
              "      <td id=\"T_84fde_row13_col7\" class=\"data row13 col7\" >0</td>\n",
              "      <td id=\"T_84fde_row13_col8\" class=\"data row13 col8\" >0</td>\n",
              "      <td id=\"T_84fde_row13_col9\" class=\"data row13 col9\" >0</td>\n",
              "      <td id=\"T_84fde_row13_col10\" class=\"data row13 col10\" >0</td>\n",
              "      <td id=\"T_84fde_row13_col11\" class=\"data row13 col11\" >0</td>\n",
              "      <td id=\"T_84fde_row13_col12\" class=\"data row13 col12\" >0</td>\n",
              "      <td id=\"T_84fde_row13_col13\" class=\"data row13 col13\" >106</td>\n",
              "      <td id=\"T_84fde_row13_col14\" class=\"data row13 col14\" >246</td>\n",
              "      <td id=\"T_84fde_row13_col15\" class=\"data row13 col15\" >250</td>\n",
              "      <td id=\"T_84fde_row13_col16\" class=\"data row13 col16\" >183</td>\n",
              "      <td id=\"T_84fde_row13_col17\" class=\"data row13 col17\" >9</td>\n",
              "      <td id=\"T_84fde_row13_col18\" class=\"data row13 col18\" >0</td>\n",
              "      <td id=\"T_84fde_row13_col19\" class=\"data row13 col19\" >0</td>\n",
              "      <td id=\"T_84fde_row13_col20\" class=\"data row13 col20\" >0</td>\n",
              "      <td id=\"T_84fde_row13_col21\" class=\"data row13 col21\" >0</td>\n",
              "      <td id=\"T_84fde_row13_col22\" class=\"data row13 col22\" >0</td>\n",
              "      <td id=\"T_84fde_row13_col23\" class=\"data row13 col23\" >0</td>\n",
              "      <td id=\"T_84fde_row13_col24\" class=\"data row13 col24\" >0</td>\n",
              "      <td id=\"T_84fde_row13_col25\" class=\"data row13 col25\" >0</td>\n",
              "      <td id=\"T_84fde_row13_col26\" class=\"data row13 col26\" >0</td>\n",
              "      <td id=\"T_84fde_row13_col27\" class=\"data row13 col27\" >0</td>\n",
              "    </tr>\n",
              "    <tr>\n",
              "      <th id=\"T_84fde_level0_row14\" class=\"row_heading level0 row14\" >14</th>\n",
              "      <td id=\"T_84fde_row14_col0\" class=\"data row14 col0\" >0</td>\n",
              "      <td id=\"T_84fde_row14_col1\" class=\"data row14 col1\" >0</td>\n",
              "      <td id=\"T_84fde_row14_col2\" class=\"data row14 col2\" >0</td>\n",
              "      <td id=\"T_84fde_row14_col3\" class=\"data row14 col3\" >0</td>\n",
              "      <td id=\"T_84fde_row14_col4\" class=\"data row14 col4\" >0</td>\n",
              "      <td id=\"T_84fde_row14_col5\" class=\"data row14 col5\" >0</td>\n",
              "      <td id=\"T_84fde_row14_col6\" class=\"data row14 col6\" >0</td>\n",
              "      <td id=\"T_84fde_row14_col7\" class=\"data row14 col7\" >0</td>\n",
              "      <td id=\"T_84fde_row14_col8\" class=\"data row14 col8\" >0</td>\n",
              "      <td id=\"T_84fde_row14_col9\" class=\"data row14 col9\" >0</td>\n",
              "      <td id=\"T_84fde_row14_col10\" class=\"data row14 col10\" >0</td>\n",
              "      <td id=\"T_84fde_row14_col11\" class=\"data row14 col11\" >0</td>\n",
              "      <td id=\"T_84fde_row14_col12\" class=\"data row14 col12\" >0</td>\n",
              "      <td id=\"T_84fde_row14_col13\" class=\"data row14 col13\" >157</td>\n",
              "      <td id=\"T_84fde_row14_col14\" class=\"data row14 col14\" >254</td>\n",
              "      <td id=\"T_84fde_row14_col15\" class=\"data row14 col15\" >241</td>\n",
              "      <td id=\"T_84fde_row14_col16\" class=\"data row14 col16\" >30</td>\n",
              "      <td id=\"T_84fde_row14_col17\" class=\"data row14 col17\" >0</td>\n",
              "      <td id=\"T_84fde_row14_col18\" class=\"data row14 col18\" >0</td>\n",
              "      <td id=\"T_84fde_row14_col19\" class=\"data row14 col19\" >0</td>\n",
              "      <td id=\"T_84fde_row14_col20\" class=\"data row14 col20\" >0</td>\n",
              "      <td id=\"T_84fde_row14_col21\" class=\"data row14 col21\" >0</td>\n",
              "      <td id=\"T_84fde_row14_col22\" class=\"data row14 col22\" >0</td>\n",
              "      <td id=\"T_84fde_row14_col23\" class=\"data row14 col23\" >0</td>\n",
              "      <td id=\"T_84fde_row14_col24\" class=\"data row14 col24\" >0</td>\n",
              "      <td id=\"T_84fde_row14_col25\" class=\"data row14 col25\" >0</td>\n",
              "      <td id=\"T_84fde_row14_col26\" class=\"data row14 col26\" >0</td>\n",
              "      <td id=\"T_84fde_row14_col27\" class=\"data row14 col27\" >0</td>\n",
              "    </tr>\n",
              "    <tr>\n",
              "      <th id=\"T_84fde_level0_row15\" class=\"row_heading level0 row15\" >15</th>\n",
              "      <td id=\"T_84fde_row15_col0\" class=\"data row15 col0\" >0</td>\n",
              "      <td id=\"T_84fde_row15_col1\" class=\"data row15 col1\" >0</td>\n",
              "      <td id=\"T_84fde_row15_col2\" class=\"data row15 col2\" >0</td>\n",
              "      <td id=\"T_84fde_row15_col3\" class=\"data row15 col3\" >0</td>\n",
              "      <td id=\"T_84fde_row15_col4\" class=\"data row15 col4\" >0</td>\n",
              "      <td id=\"T_84fde_row15_col5\" class=\"data row15 col5\" >0</td>\n",
              "      <td id=\"T_84fde_row15_col6\" class=\"data row15 col6\" >0</td>\n",
              "      <td id=\"T_84fde_row15_col7\" class=\"data row15 col7\" >0</td>\n",
              "      <td id=\"T_84fde_row15_col8\" class=\"data row15 col8\" >0</td>\n",
              "      <td id=\"T_84fde_row15_col9\" class=\"data row15 col9\" >0</td>\n",
              "      <td id=\"T_84fde_row15_col10\" class=\"data row15 col10\" >0</td>\n",
              "      <td id=\"T_84fde_row15_col11\" class=\"data row15 col11\" >0</td>\n",
              "      <td id=\"T_84fde_row15_col12\" class=\"data row15 col12\" >0</td>\n",
              "      <td id=\"T_84fde_row15_col13\" class=\"data row15 col13\" >135</td>\n",
              "      <td id=\"T_84fde_row15_col14\" class=\"data row15 col14\" >255</td>\n",
              "      <td id=\"T_84fde_row15_col15\" class=\"data row15 col15\" >246</td>\n",
              "      <td id=\"T_84fde_row15_col16\" class=\"data row15 col16\" >109</td>\n",
              "      <td id=\"T_84fde_row15_col17\" class=\"data row15 col17\" >0</td>\n",
              "      <td id=\"T_84fde_row15_col18\" class=\"data row15 col18\" >0</td>\n",
              "      <td id=\"T_84fde_row15_col19\" class=\"data row15 col19\" >0</td>\n",
              "      <td id=\"T_84fde_row15_col20\" class=\"data row15 col20\" >0</td>\n",
              "      <td id=\"T_84fde_row15_col21\" class=\"data row15 col21\" >0</td>\n",
              "      <td id=\"T_84fde_row15_col22\" class=\"data row15 col22\" >0</td>\n",
              "      <td id=\"T_84fde_row15_col23\" class=\"data row15 col23\" >0</td>\n",
              "      <td id=\"T_84fde_row15_col24\" class=\"data row15 col24\" >0</td>\n",
              "      <td id=\"T_84fde_row15_col25\" class=\"data row15 col25\" >0</td>\n",
              "      <td id=\"T_84fde_row15_col26\" class=\"data row15 col26\" >0</td>\n",
              "      <td id=\"T_84fde_row15_col27\" class=\"data row15 col27\" >0</td>\n",
              "    </tr>\n",
              "    <tr>\n",
              "      <th id=\"T_84fde_level0_row16\" class=\"row_heading level0 row16\" >16</th>\n",
              "      <td id=\"T_84fde_row16_col0\" class=\"data row16 col0\" >0</td>\n",
              "      <td id=\"T_84fde_row16_col1\" class=\"data row16 col1\" >0</td>\n",
              "      <td id=\"T_84fde_row16_col2\" class=\"data row16 col2\" >0</td>\n",
              "      <td id=\"T_84fde_row16_col3\" class=\"data row16 col3\" >0</td>\n",
              "      <td id=\"T_84fde_row16_col4\" class=\"data row16 col4\" >0</td>\n",
              "      <td id=\"T_84fde_row16_col5\" class=\"data row16 col5\" >0</td>\n",
              "      <td id=\"T_84fde_row16_col6\" class=\"data row16 col6\" >0</td>\n",
              "      <td id=\"T_84fde_row16_col7\" class=\"data row16 col7\" >0</td>\n",
              "      <td id=\"T_84fde_row16_col8\" class=\"data row16 col8\" >0</td>\n",
              "      <td id=\"T_84fde_row16_col9\" class=\"data row16 col9\" >0</td>\n",
              "      <td id=\"T_84fde_row16_col10\" class=\"data row16 col10\" >0</td>\n",
              "      <td id=\"T_84fde_row16_col11\" class=\"data row16 col11\" >0</td>\n",
              "      <td id=\"T_84fde_row16_col12\" class=\"data row16 col12\" >0</td>\n",
              "      <td id=\"T_84fde_row16_col13\" class=\"data row16 col13\" >15</td>\n",
              "      <td id=\"T_84fde_row16_col14\" class=\"data row16 col14\" >158</td>\n",
              "      <td id=\"T_84fde_row16_col15\" class=\"data row16 col15\" >250</td>\n",
              "      <td id=\"T_84fde_row16_col16\" class=\"data row16 col16\" >241</td>\n",
              "      <td id=\"T_84fde_row16_col17\" class=\"data row16 col17\" >99</td>\n",
              "      <td id=\"T_84fde_row16_col18\" class=\"data row16 col18\" >0</td>\n",
              "      <td id=\"T_84fde_row16_col19\" class=\"data row16 col19\" >0</td>\n",
              "      <td id=\"T_84fde_row16_col20\" class=\"data row16 col20\" >0</td>\n",
              "      <td id=\"T_84fde_row16_col21\" class=\"data row16 col21\" >0</td>\n",
              "      <td id=\"T_84fde_row16_col22\" class=\"data row16 col22\" >0</td>\n",
              "      <td id=\"T_84fde_row16_col23\" class=\"data row16 col23\" >0</td>\n",
              "      <td id=\"T_84fde_row16_col24\" class=\"data row16 col24\" >0</td>\n",
              "      <td id=\"T_84fde_row16_col25\" class=\"data row16 col25\" >0</td>\n",
              "      <td id=\"T_84fde_row16_col26\" class=\"data row16 col26\" >0</td>\n",
              "      <td id=\"T_84fde_row16_col27\" class=\"data row16 col27\" >0</td>\n",
              "    </tr>\n",
              "    <tr>\n",
              "      <th id=\"T_84fde_level0_row17\" class=\"row_heading level0 row17\" >17</th>\n",
              "      <td id=\"T_84fde_row17_col0\" class=\"data row17 col0\" >0</td>\n",
              "      <td id=\"T_84fde_row17_col1\" class=\"data row17 col1\" >0</td>\n",
              "      <td id=\"T_84fde_row17_col2\" class=\"data row17 col2\" >0</td>\n",
              "      <td id=\"T_84fde_row17_col3\" class=\"data row17 col3\" >0</td>\n",
              "      <td id=\"T_84fde_row17_col4\" class=\"data row17 col4\" >0</td>\n",
              "      <td id=\"T_84fde_row17_col5\" class=\"data row17 col5\" >0</td>\n",
              "      <td id=\"T_84fde_row17_col6\" class=\"data row17 col6\" >0</td>\n",
              "      <td id=\"T_84fde_row17_col7\" class=\"data row17 col7\" >0</td>\n",
              "      <td id=\"T_84fde_row17_col8\" class=\"data row17 col8\" >0</td>\n",
              "      <td id=\"T_84fde_row17_col9\" class=\"data row17 col9\" >0</td>\n",
              "      <td id=\"T_84fde_row17_col10\" class=\"data row17 col10\" >0</td>\n",
              "      <td id=\"T_84fde_row17_col11\" class=\"data row17 col11\" >0</td>\n",
              "      <td id=\"T_84fde_row17_col12\" class=\"data row17 col12\" >0</td>\n",
              "      <td id=\"T_84fde_row17_col13\" class=\"data row17 col13\" >0</td>\n",
              "      <td id=\"T_84fde_row17_col14\" class=\"data row17 col14\" >0</td>\n",
              "      <td id=\"T_84fde_row17_col15\" class=\"data row17 col15\" >147</td>\n",
              "      <td id=\"T_84fde_row17_col16\" class=\"data row17 col16\" >253</td>\n",
              "      <td id=\"T_84fde_row17_col17\" class=\"data row17 col17\" >184</td>\n",
              "      <td id=\"T_84fde_row17_col18\" class=\"data row17 col18\" >0</td>\n",
              "      <td id=\"T_84fde_row17_col19\" class=\"data row17 col19\" >0</td>\n",
              "      <td id=\"T_84fde_row17_col20\" class=\"data row17 col20\" >0</td>\n",
              "      <td id=\"T_84fde_row17_col21\" class=\"data row17 col21\" >0</td>\n",
              "      <td id=\"T_84fde_row17_col22\" class=\"data row17 col22\" >0</td>\n",
              "      <td id=\"T_84fde_row17_col23\" class=\"data row17 col23\" >0</td>\n",
              "      <td id=\"T_84fde_row17_col24\" class=\"data row17 col24\" >0</td>\n",
              "      <td id=\"T_84fde_row17_col25\" class=\"data row17 col25\" >0</td>\n",
              "      <td id=\"T_84fde_row17_col26\" class=\"data row17 col26\" >0</td>\n",
              "      <td id=\"T_84fde_row17_col27\" class=\"data row17 col27\" >0</td>\n",
              "    </tr>\n",
              "    <tr>\n",
              "      <th id=\"T_84fde_level0_row18\" class=\"row_heading level0 row18\" >18</th>\n",
              "      <td id=\"T_84fde_row18_col0\" class=\"data row18 col0\" >0</td>\n",
              "      <td id=\"T_84fde_row18_col1\" class=\"data row18 col1\" >0</td>\n",
              "      <td id=\"T_84fde_row18_col2\" class=\"data row18 col2\" >0</td>\n",
              "      <td id=\"T_84fde_row18_col3\" class=\"data row18 col3\" >0</td>\n",
              "      <td id=\"T_84fde_row18_col4\" class=\"data row18 col4\" >0</td>\n",
              "      <td id=\"T_84fde_row18_col5\" class=\"data row18 col5\" >0</td>\n",
              "      <td id=\"T_84fde_row18_col6\" class=\"data row18 col6\" >0</td>\n",
              "      <td id=\"T_84fde_row18_col7\" class=\"data row18 col7\" >0</td>\n",
              "      <td id=\"T_84fde_row18_col8\" class=\"data row18 col8\" >0</td>\n",
              "      <td id=\"T_84fde_row18_col9\" class=\"data row18 col9\" >0</td>\n",
              "      <td id=\"T_84fde_row18_col10\" class=\"data row18 col10\" >0</td>\n",
              "      <td id=\"T_84fde_row18_col11\" class=\"data row18 col11\" >0</td>\n",
              "      <td id=\"T_84fde_row18_col12\" class=\"data row18 col12\" >0</td>\n",
              "      <td id=\"T_84fde_row18_col13\" class=\"data row18 col13\" >0</td>\n",
              "      <td id=\"T_84fde_row18_col14\" class=\"data row18 col14\" >0</td>\n",
              "      <td id=\"T_84fde_row18_col15\" class=\"data row18 col15\" >132</td>\n",
              "      <td id=\"T_84fde_row18_col16\" class=\"data row18 col16\" >253</td>\n",
              "      <td id=\"T_84fde_row18_col17\" class=\"data row18 col17\" >213</td>\n",
              "      <td id=\"T_84fde_row18_col18\" class=\"data row18 col18\" >0</td>\n",
              "      <td id=\"T_84fde_row18_col19\" class=\"data row18 col19\" >0</td>\n",
              "      <td id=\"T_84fde_row18_col20\" class=\"data row18 col20\" >0</td>\n",
              "      <td id=\"T_84fde_row18_col21\" class=\"data row18 col21\" >0</td>\n",
              "      <td id=\"T_84fde_row18_col22\" class=\"data row18 col22\" >0</td>\n",
              "      <td id=\"T_84fde_row18_col23\" class=\"data row18 col23\" >0</td>\n",
              "      <td id=\"T_84fde_row18_col24\" class=\"data row18 col24\" >0</td>\n",
              "      <td id=\"T_84fde_row18_col25\" class=\"data row18 col25\" >0</td>\n",
              "      <td id=\"T_84fde_row18_col26\" class=\"data row18 col26\" >0</td>\n",
              "      <td id=\"T_84fde_row18_col27\" class=\"data row18 col27\" >0</td>\n",
              "    </tr>\n",
              "    <tr>\n",
              "      <th id=\"T_84fde_level0_row19\" class=\"row_heading level0 row19\" >19</th>\n",
              "      <td id=\"T_84fde_row19_col0\" class=\"data row19 col0\" >0</td>\n",
              "      <td id=\"T_84fde_row19_col1\" class=\"data row19 col1\" >0</td>\n",
              "      <td id=\"T_84fde_row19_col2\" class=\"data row19 col2\" >0</td>\n",
              "      <td id=\"T_84fde_row19_col3\" class=\"data row19 col3\" >0</td>\n",
              "      <td id=\"T_84fde_row19_col4\" class=\"data row19 col4\" >0</td>\n",
              "      <td id=\"T_84fde_row19_col5\" class=\"data row19 col5\" >0</td>\n",
              "      <td id=\"T_84fde_row19_col6\" class=\"data row19 col6\" >0</td>\n",
              "      <td id=\"T_84fde_row19_col7\" class=\"data row19 col7\" >0</td>\n",
              "      <td id=\"T_84fde_row19_col8\" class=\"data row19 col8\" >0</td>\n",
              "      <td id=\"T_84fde_row19_col9\" class=\"data row19 col9\" >0</td>\n",
              "      <td id=\"T_84fde_row19_col10\" class=\"data row19 col10\" >0</td>\n",
              "      <td id=\"T_84fde_row19_col11\" class=\"data row19 col11\" >0</td>\n",
              "      <td id=\"T_84fde_row19_col12\" class=\"data row19 col12\" >0</td>\n",
              "      <td id=\"T_84fde_row19_col13\" class=\"data row19 col13\" >0</td>\n",
              "      <td id=\"T_84fde_row19_col14\" class=\"data row19 col14\" >61</td>\n",
              "      <td id=\"T_84fde_row19_col15\" class=\"data row19 col15\" >229</td>\n",
              "      <td id=\"T_84fde_row19_col16\" class=\"data row19 col16\" >253</td>\n",
              "      <td id=\"T_84fde_row19_col17\" class=\"data row19 col17\" >191</td>\n",
              "      <td id=\"T_84fde_row19_col18\" class=\"data row19 col18\" >23</td>\n",
              "      <td id=\"T_84fde_row19_col19\" class=\"data row19 col19\" >0</td>\n",
              "      <td id=\"T_84fde_row19_col20\" class=\"data row19 col20\" >0</td>\n",
              "      <td id=\"T_84fde_row19_col21\" class=\"data row19 col21\" >0</td>\n",
              "      <td id=\"T_84fde_row19_col22\" class=\"data row19 col22\" >0</td>\n",
              "      <td id=\"T_84fde_row19_col23\" class=\"data row19 col23\" >0</td>\n",
              "      <td id=\"T_84fde_row19_col24\" class=\"data row19 col24\" >0</td>\n",
              "      <td id=\"T_84fde_row19_col25\" class=\"data row19 col25\" >0</td>\n",
              "      <td id=\"T_84fde_row19_col26\" class=\"data row19 col26\" >0</td>\n",
              "      <td id=\"T_84fde_row19_col27\" class=\"data row19 col27\" >0</td>\n",
              "    </tr>\n",
              "    <tr>\n",
              "      <th id=\"T_84fde_level0_row20\" class=\"row_heading level0 row20\" >20</th>\n",
              "      <td id=\"T_84fde_row20_col0\" class=\"data row20 col0\" >0</td>\n",
              "      <td id=\"T_84fde_row20_col1\" class=\"data row20 col1\" >0</td>\n",
              "      <td id=\"T_84fde_row20_col2\" class=\"data row20 col2\" >0</td>\n",
              "      <td id=\"T_84fde_row20_col3\" class=\"data row20 col3\" >0</td>\n",
              "      <td id=\"T_84fde_row20_col4\" class=\"data row20 col4\" >0</td>\n",
              "      <td id=\"T_84fde_row20_col5\" class=\"data row20 col5\" >0</td>\n",
              "      <td id=\"T_84fde_row20_col6\" class=\"data row20 col6\" >0</td>\n",
              "      <td id=\"T_84fde_row20_col7\" class=\"data row20 col7\" >0</td>\n",
              "      <td id=\"T_84fde_row20_col8\" class=\"data row20 col8\" >0</td>\n",
              "      <td id=\"T_84fde_row20_col9\" class=\"data row20 col9\" >0</td>\n",
              "      <td id=\"T_84fde_row20_col10\" class=\"data row20 col10\" >0</td>\n",
              "      <td id=\"T_84fde_row20_col11\" class=\"data row20 col11\" >0</td>\n",
              "      <td id=\"T_84fde_row20_col12\" class=\"data row20 col12\" >70</td>\n",
              "      <td id=\"T_84fde_row20_col13\" class=\"data row20 col13\" >194</td>\n",
              "      <td id=\"T_84fde_row20_col14\" class=\"data row20 col14\" >255</td>\n",
              "      <td id=\"T_84fde_row20_col15\" class=\"data row20 col15\" >254</td>\n",
              "      <td id=\"T_84fde_row20_col16\" class=\"data row20 col16\" >254</td>\n",
              "      <td id=\"T_84fde_row20_col17\" class=\"data row20 col17\" >95</td>\n",
              "      <td id=\"T_84fde_row20_col18\" class=\"data row20 col18\" >0</td>\n",
              "      <td id=\"T_84fde_row20_col19\" class=\"data row20 col19\" >0</td>\n",
              "      <td id=\"T_84fde_row20_col20\" class=\"data row20 col20\" >0</td>\n",
              "      <td id=\"T_84fde_row20_col21\" class=\"data row20 col21\" >0</td>\n",
              "      <td id=\"T_84fde_row20_col22\" class=\"data row20 col22\" >0</td>\n",
              "      <td id=\"T_84fde_row20_col23\" class=\"data row20 col23\" >0</td>\n",
              "      <td id=\"T_84fde_row20_col24\" class=\"data row20 col24\" >0</td>\n",
              "      <td id=\"T_84fde_row20_col25\" class=\"data row20 col25\" >0</td>\n",
              "      <td id=\"T_84fde_row20_col26\" class=\"data row20 col26\" >0</td>\n",
              "      <td id=\"T_84fde_row20_col27\" class=\"data row20 col27\" >0</td>\n",
              "    </tr>\n",
              "    <tr>\n",
              "      <th id=\"T_84fde_level0_row21\" class=\"row_heading level0 row21\" >21</th>\n",
              "      <td id=\"T_84fde_row21_col0\" class=\"data row21 col0\" >0</td>\n",
              "      <td id=\"T_84fde_row21_col1\" class=\"data row21 col1\" >0</td>\n",
              "      <td id=\"T_84fde_row21_col2\" class=\"data row21 col2\" >0</td>\n",
              "      <td id=\"T_84fde_row21_col3\" class=\"data row21 col3\" >0</td>\n",
              "      <td id=\"T_84fde_row21_col4\" class=\"data row21 col4\" >0</td>\n",
              "      <td id=\"T_84fde_row21_col5\" class=\"data row21 col5\" >10</td>\n",
              "      <td id=\"T_84fde_row21_col6\" class=\"data row21 col6\" >118</td>\n",
              "      <td id=\"T_84fde_row21_col7\" class=\"data row21 col7\" >118</td>\n",
              "      <td id=\"T_84fde_row21_col8\" class=\"data row21 col8\" >35</td>\n",
              "      <td id=\"T_84fde_row21_col9\" class=\"data row21 col9\" >5</td>\n",
              "      <td id=\"T_84fde_row21_col10\" class=\"data row21 col10\" >65</td>\n",
              "      <td id=\"T_84fde_row21_col11\" class=\"data row21 col11\" >147</td>\n",
              "      <td id=\"T_84fde_row21_col12\" class=\"data row21 col12\" >250</td>\n",
              "      <td id=\"T_84fde_row21_col13\" class=\"data row21 col13\" >253</td>\n",
              "      <td id=\"T_84fde_row21_col14\" class=\"data row21 col14\" >254</td>\n",
              "      <td id=\"T_84fde_row21_col15\" class=\"data row21 col15\" >251</td>\n",
              "      <td id=\"T_84fde_row21_col16\" class=\"data row21 col16\" >135</td>\n",
              "      <td id=\"T_84fde_row21_col17\" class=\"data row21 col17\" >3</td>\n",
              "      <td id=\"T_84fde_row21_col18\" class=\"data row21 col18\" >0</td>\n",
              "      <td id=\"T_84fde_row21_col19\" class=\"data row21 col19\" >0</td>\n",
              "      <td id=\"T_84fde_row21_col20\" class=\"data row21 col20\" >0</td>\n",
              "      <td id=\"T_84fde_row21_col21\" class=\"data row21 col21\" >0</td>\n",
              "      <td id=\"T_84fde_row21_col22\" class=\"data row21 col22\" >0</td>\n",
              "      <td id=\"T_84fde_row21_col23\" class=\"data row21 col23\" >0</td>\n",
              "      <td id=\"T_84fde_row21_col24\" class=\"data row21 col24\" >0</td>\n",
              "      <td id=\"T_84fde_row21_col25\" class=\"data row21 col25\" >0</td>\n",
              "      <td id=\"T_84fde_row21_col26\" class=\"data row21 col26\" >0</td>\n",
              "      <td id=\"T_84fde_row21_col27\" class=\"data row21 col27\" >0</td>\n",
              "    </tr>\n",
              "    <tr>\n",
              "      <th id=\"T_84fde_level0_row22\" class=\"row_heading level0 row22\" >22</th>\n",
              "      <td id=\"T_84fde_row22_col0\" class=\"data row22 col0\" >0</td>\n",
              "      <td id=\"T_84fde_row22_col1\" class=\"data row22 col1\" >0</td>\n",
              "      <td id=\"T_84fde_row22_col2\" class=\"data row22 col2\" >0</td>\n",
              "      <td id=\"T_84fde_row22_col3\" class=\"data row22 col3\" >0</td>\n",
              "      <td id=\"T_84fde_row22_col4\" class=\"data row22 col4\" >0</td>\n",
              "      <td id=\"T_84fde_row22_col5\" class=\"data row22 col5\" >58</td>\n",
              "      <td id=\"T_84fde_row22_col6\" class=\"data row22 col6\" >253</td>\n",
              "      <td id=\"T_84fde_row22_col7\" class=\"data row22 col7\" >253</td>\n",
              "      <td id=\"T_84fde_row22_col8\" class=\"data row22 col8\" >223</td>\n",
              "      <td id=\"T_84fde_row22_col9\" class=\"data row22 col9\" >194</td>\n",
              "      <td id=\"T_84fde_row22_col10\" class=\"data row22 col10\" >253</td>\n",
              "      <td id=\"T_84fde_row22_col11\" class=\"data row22 col11\" >253</td>\n",
              "      <td id=\"T_84fde_row22_col12\" class=\"data row22 col12\" >253</td>\n",
              "      <td id=\"T_84fde_row22_col13\" class=\"data row22 col13\" >253</td>\n",
              "      <td id=\"T_84fde_row22_col14\" class=\"data row22 col14\" >235</td>\n",
              "      <td id=\"T_84fde_row22_col15\" class=\"data row22 col15\" >86</td>\n",
              "      <td id=\"T_84fde_row22_col16\" class=\"data row22 col16\" >0</td>\n",
              "      <td id=\"T_84fde_row22_col17\" class=\"data row22 col17\" >0</td>\n",
              "      <td id=\"T_84fde_row22_col18\" class=\"data row22 col18\" >0</td>\n",
              "      <td id=\"T_84fde_row22_col19\" class=\"data row22 col19\" >0</td>\n",
              "      <td id=\"T_84fde_row22_col20\" class=\"data row22 col20\" >0</td>\n",
              "      <td id=\"T_84fde_row22_col21\" class=\"data row22 col21\" >0</td>\n",
              "      <td id=\"T_84fde_row22_col22\" class=\"data row22 col22\" >0</td>\n",
              "      <td id=\"T_84fde_row22_col23\" class=\"data row22 col23\" >0</td>\n",
              "      <td id=\"T_84fde_row22_col24\" class=\"data row22 col24\" >0</td>\n",
              "      <td id=\"T_84fde_row22_col25\" class=\"data row22 col25\" >0</td>\n",
              "      <td id=\"T_84fde_row22_col26\" class=\"data row22 col26\" >0</td>\n",
              "      <td id=\"T_84fde_row22_col27\" class=\"data row22 col27\" >0</td>\n",
              "    </tr>\n",
              "    <tr>\n",
              "      <th id=\"T_84fde_level0_row23\" class=\"row_heading level0 row23\" >23</th>\n",
              "      <td id=\"T_84fde_row23_col0\" class=\"data row23 col0\" >0</td>\n",
              "      <td id=\"T_84fde_row23_col1\" class=\"data row23 col1\" >0</td>\n",
              "      <td id=\"T_84fde_row23_col2\" class=\"data row23 col2\" >0</td>\n",
              "      <td id=\"T_84fde_row23_col3\" class=\"data row23 col3\" >0</td>\n",
              "      <td id=\"T_84fde_row23_col4\" class=\"data row23 col4\" >0</td>\n",
              "      <td id=\"T_84fde_row23_col5\" class=\"data row23 col5\" >20</td>\n",
              "      <td id=\"T_84fde_row23_col6\" class=\"data row23 col6\" >253</td>\n",
              "      <td id=\"T_84fde_row23_col7\" class=\"data row23 col7\" >253</td>\n",
              "      <td id=\"T_84fde_row23_col8\" class=\"data row23 col8\" >253</td>\n",
              "      <td id=\"T_84fde_row23_col9\" class=\"data row23 col9\" >254</td>\n",
              "      <td id=\"T_84fde_row23_col10\" class=\"data row23 col10\" >253</td>\n",
              "      <td id=\"T_84fde_row23_col11\" class=\"data row23 col11\" >253</td>\n",
              "      <td id=\"T_84fde_row23_col12\" class=\"data row23 col12\" >231</td>\n",
              "      <td id=\"T_84fde_row23_col13\" class=\"data row23 col13\" >176</td>\n",
              "      <td id=\"T_84fde_row23_col14\" class=\"data row23 col14\" >15</td>\n",
              "      <td id=\"T_84fde_row23_col15\" class=\"data row23 col15\" >0</td>\n",
              "      <td id=\"T_84fde_row23_col16\" class=\"data row23 col16\" >0</td>\n",
              "      <td id=\"T_84fde_row23_col17\" class=\"data row23 col17\" >0</td>\n",
              "      <td id=\"T_84fde_row23_col18\" class=\"data row23 col18\" >0</td>\n",
              "      <td id=\"T_84fde_row23_col19\" class=\"data row23 col19\" >0</td>\n",
              "      <td id=\"T_84fde_row23_col20\" class=\"data row23 col20\" >0</td>\n",
              "      <td id=\"T_84fde_row23_col21\" class=\"data row23 col21\" >0</td>\n",
              "      <td id=\"T_84fde_row23_col22\" class=\"data row23 col22\" >0</td>\n",
              "      <td id=\"T_84fde_row23_col23\" class=\"data row23 col23\" >0</td>\n",
              "      <td id=\"T_84fde_row23_col24\" class=\"data row23 col24\" >0</td>\n",
              "      <td id=\"T_84fde_row23_col25\" class=\"data row23 col25\" >0</td>\n",
              "      <td id=\"T_84fde_row23_col26\" class=\"data row23 col26\" >0</td>\n",
              "      <td id=\"T_84fde_row23_col27\" class=\"data row23 col27\" >0</td>\n",
              "    </tr>\n",
              "    <tr>\n",
              "      <th id=\"T_84fde_level0_row24\" class=\"row_heading level0 row24\" >24</th>\n",
              "      <td id=\"T_84fde_row24_col0\" class=\"data row24 col0\" >0</td>\n",
              "      <td id=\"T_84fde_row24_col1\" class=\"data row24 col1\" >0</td>\n",
              "      <td id=\"T_84fde_row24_col2\" class=\"data row24 col2\" >0</td>\n",
              "      <td id=\"T_84fde_row24_col3\" class=\"data row24 col3\" >0</td>\n",
              "      <td id=\"T_84fde_row24_col4\" class=\"data row24 col4\" >0</td>\n",
              "      <td id=\"T_84fde_row24_col5\" class=\"data row24 col5\" >5</td>\n",
              "      <td id=\"T_84fde_row24_col6\" class=\"data row24 col6\" >126</td>\n",
              "      <td id=\"T_84fde_row24_col7\" class=\"data row24 col7\" >155</td>\n",
              "      <td id=\"T_84fde_row24_col8\" class=\"data row24 col8\" >193</td>\n",
              "      <td id=\"T_84fde_row24_col9\" class=\"data row24 col9\" >254</td>\n",
              "      <td id=\"T_84fde_row24_col10\" class=\"data row24 col10\" >245</td>\n",
              "      <td id=\"T_84fde_row24_col11\" class=\"data row24 col11\" >155</td>\n",
              "      <td id=\"T_84fde_row24_col12\" class=\"data row24 col12\" >34</td>\n",
              "      <td id=\"T_84fde_row24_col13\" class=\"data row24 col13\" >0</td>\n",
              "      <td id=\"T_84fde_row24_col14\" class=\"data row24 col14\" >0</td>\n",
              "      <td id=\"T_84fde_row24_col15\" class=\"data row24 col15\" >0</td>\n",
              "      <td id=\"T_84fde_row24_col16\" class=\"data row24 col16\" >0</td>\n",
              "      <td id=\"T_84fde_row24_col17\" class=\"data row24 col17\" >0</td>\n",
              "      <td id=\"T_84fde_row24_col18\" class=\"data row24 col18\" >0</td>\n",
              "      <td id=\"T_84fde_row24_col19\" class=\"data row24 col19\" >0</td>\n",
              "      <td id=\"T_84fde_row24_col20\" class=\"data row24 col20\" >0</td>\n",
              "      <td id=\"T_84fde_row24_col21\" class=\"data row24 col21\" >0</td>\n",
              "      <td id=\"T_84fde_row24_col22\" class=\"data row24 col22\" >0</td>\n",
              "      <td id=\"T_84fde_row24_col23\" class=\"data row24 col23\" >0</td>\n",
              "      <td id=\"T_84fde_row24_col24\" class=\"data row24 col24\" >0</td>\n",
              "      <td id=\"T_84fde_row24_col25\" class=\"data row24 col25\" >0</td>\n",
              "      <td id=\"T_84fde_row24_col26\" class=\"data row24 col26\" >0</td>\n",
              "      <td id=\"T_84fde_row24_col27\" class=\"data row24 col27\" >0</td>\n",
              "    </tr>\n",
              "    <tr>\n",
              "      <th id=\"T_84fde_level0_row25\" class=\"row_heading level0 row25\" >25</th>\n",
              "      <td id=\"T_84fde_row25_col0\" class=\"data row25 col0\" >0</td>\n",
              "      <td id=\"T_84fde_row25_col1\" class=\"data row25 col1\" >0</td>\n",
              "      <td id=\"T_84fde_row25_col2\" class=\"data row25 col2\" >0</td>\n",
              "      <td id=\"T_84fde_row25_col3\" class=\"data row25 col3\" >0</td>\n",
              "      <td id=\"T_84fde_row25_col4\" class=\"data row25 col4\" >0</td>\n",
              "      <td id=\"T_84fde_row25_col5\" class=\"data row25 col5\" >0</td>\n",
              "      <td id=\"T_84fde_row25_col6\" class=\"data row25 col6\" >0</td>\n",
              "      <td id=\"T_84fde_row25_col7\" class=\"data row25 col7\" >0</td>\n",
              "      <td id=\"T_84fde_row25_col8\" class=\"data row25 col8\" >0</td>\n",
              "      <td id=\"T_84fde_row25_col9\" class=\"data row25 col9\" >0</td>\n",
              "      <td id=\"T_84fde_row25_col10\" class=\"data row25 col10\" >0</td>\n",
              "      <td id=\"T_84fde_row25_col11\" class=\"data row25 col11\" >0</td>\n",
              "      <td id=\"T_84fde_row25_col12\" class=\"data row25 col12\" >0</td>\n",
              "      <td id=\"T_84fde_row25_col13\" class=\"data row25 col13\" >0</td>\n",
              "      <td id=\"T_84fde_row25_col14\" class=\"data row25 col14\" >0</td>\n",
              "      <td id=\"T_84fde_row25_col15\" class=\"data row25 col15\" >0</td>\n",
              "      <td id=\"T_84fde_row25_col16\" class=\"data row25 col16\" >0</td>\n",
              "      <td id=\"T_84fde_row25_col17\" class=\"data row25 col17\" >0</td>\n",
              "      <td id=\"T_84fde_row25_col18\" class=\"data row25 col18\" >0</td>\n",
              "      <td id=\"T_84fde_row25_col19\" class=\"data row25 col19\" >0</td>\n",
              "      <td id=\"T_84fde_row25_col20\" class=\"data row25 col20\" >0</td>\n",
              "      <td id=\"T_84fde_row25_col21\" class=\"data row25 col21\" >0</td>\n",
              "      <td id=\"T_84fde_row25_col22\" class=\"data row25 col22\" >0</td>\n",
              "      <td id=\"T_84fde_row25_col23\" class=\"data row25 col23\" >0</td>\n",
              "      <td id=\"T_84fde_row25_col24\" class=\"data row25 col24\" >0</td>\n",
              "      <td id=\"T_84fde_row25_col25\" class=\"data row25 col25\" >0</td>\n",
              "      <td id=\"T_84fde_row25_col26\" class=\"data row25 col26\" >0</td>\n",
              "      <td id=\"T_84fde_row25_col27\" class=\"data row25 col27\" >0</td>\n",
              "    </tr>\n",
              "    <tr>\n",
              "      <th id=\"T_84fde_level0_row26\" class=\"row_heading level0 row26\" >26</th>\n",
              "      <td id=\"T_84fde_row26_col0\" class=\"data row26 col0\" >0</td>\n",
              "      <td id=\"T_84fde_row26_col1\" class=\"data row26 col1\" >0</td>\n",
              "      <td id=\"T_84fde_row26_col2\" class=\"data row26 col2\" >0</td>\n",
              "      <td id=\"T_84fde_row26_col3\" class=\"data row26 col3\" >0</td>\n",
              "      <td id=\"T_84fde_row26_col4\" class=\"data row26 col4\" >0</td>\n",
              "      <td id=\"T_84fde_row26_col5\" class=\"data row26 col5\" >0</td>\n",
              "      <td id=\"T_84fde_row26_col6\" class=\"data row26 col6\" >0</td>\n",
              "      <td id=\"T_84fde_row26_col7\" class=\"data row26 col7\" >0</td>\n",
              "      <td id=\"T_84fde_row26_col8\" class=\"data row26 col8\" >0</td>\n",
              "      <td id=\"T_84fde_row26_col9\" class=\"data row26 col9\" >0</td>\n",
              "      <td id=\"T_84fde_row26_col10\" class=\"data row26 col10\" >0</td>\n",
              "      <td id=\"T_84fde_row26_col11\" class=\"data row26 col11\" >0</td>\n",
              "      <td id=\"T_84fde_row26_col12\" class=\"data row26 col12\" >0</td>\n",
              "      <td id=\"T_84fde_row26_col13\" class=\"data row26 col13\" >0</td>\n",
              "      <td id=\"T_84fde_row26_col14\" class=\"data row26 col14\" >0</td>\n",
              "      <td id=\"T_84fde_row26_col15\" class=\"data row26 col15\" >0</td>\n",
              "      <td id=\"T_84fde_row26_col16\" class=\"data row26 col16\" >0</td>\n",
              "      <td id=\"T_84fde_row26_col17\" class=\"data row26 col17\" >0</td>\n",
              "      <td id=\"T_84fde_row26_col18\" class=\"data row26 col18\" >0</td>\n",
              "      <td id=\"T_84fde_row26_col19\" class=\"data row26 col19\" >0</td>\n",
              "      <td id=\"T_84fde_row26_col20\" class=\"data row26 col20\" >0</td>\n",
              "      <td id=\"T_84fde_row26_col21\" class=\"data row26 col21\" >0</td>\n",
              "      <td id=\"T_84fde_row26_col22\" class=\"data row26 col22\" >0</td>\n",
              "      <td id=\"T_84fde_row26_col23\" class=\"data row26 col23\" >0</td>\n",
              "      <td id=\"T_84fde_row26_col24\" class=\"data row26 col24\" >0</td>\n",
              "      <td id=\"T_84fde_row26_col25\" class=\"data row26 col25\" >0</td>\n",
              "      <td id=\"T_84fde_row26_col26\" class=\"data row26 col26\" >0</td>\n",
              "      <td id=\"T_84fde_row26_col27\" class=\"data row26 col27\" >0</td>\n",
              "    </tr>\n",
              "    <tr>\n",
              "      <th id=\"T_84fde_level0_row27\" class=\"row_heading level0 row27\" >27</th>\n",
              "      <td id=\"T_84fde_row27_col0\" class=\"data row27 col0\" >0</td>\n",
              "      <td id=\"T_84fde_row27_col1\" class=\"data row27 col1\" >0</td>\n",
              "      <td id=\"T_84fde_row27_col2\" class=\"data row27 col2\" >0</td>\n",
              "      <td id=\"T_84fde_row27_col3\" class=\"data row27 col3\" >0</td>\n",
              "      <td id=\"T_84fde_row27_col4\" class=\"data row27 col4\" >0</td>\n",
              "      <td id=\"T_84fde_row27_col5\" class=\"data row27 col5\" >0</td>\n",
              "      <td id=\"T_84fde_row27_col6\" class=\"data row27 col6\" >0</td>\n",
              "      <td id=\"T_84fde_row27_col7\" class=\"data row27 col7\" >0</td>\n",
              "      <td id=\"T_84fde_row27_col8\" class=\"data row27 col8\" >0</td>\n",
              "      <td id=\"T_84fde_row27_col9\" class=\"data row27 col9\" >0</td>\n",
              "      <td id=\"T_84fde_row27_col10\" class=\"data row27 col10\" >0</td>\n",
              "      <td id=\"T_84fde_row27_col11\" class=\"data row27 col11\" >0</td>\n",
              "      <td id=\"T_84fde_row27_col12\" class=\"data row27 col12\" >0</td>\n",
              "      <td id=\"T_84fde_row27_col13\" class=\"data row27 col13\" >0</td>\n",
              "      <td id=\"T_84fde_row27_col14\" class=\"data row27 col14\" >0</td>\n",
              "      <td id=\"T_84fde_row27_col15\" class=\"data row27 col15\" >0</td>\n",
              "      <td id=\"T_84fde_row27_col16\" class=\"data row27 col16\" >0</td>\n",
              "      <td id=\"T_84fde_row27_col17\" class=\"data row27 col17\" >0</td>\n",
              "      <td id=\"T_84fde_row27_col18\" class=\"data row27 col18\" >0</td>\n",
              "      <td id=\"T_84fde_row27_col19\" class=\"data row27 col19\" >0</td>\n",
              "      <td id=\"T_84fde_row27_col20\" class=\"data row27 col20\" >0</td>\n",
              "      <td id=\"T_84fde_row27_col21\" class=\"data row27 col21\" >0</td>\n",
              "      <td id=\"T_84fde_row27_col22\" class=\"data row27 col22\" >0</td>\n",
              "      <td id=\"T_84fde_row27_col23\" class=\"data row27 col23\" >0</td>\n",
              "      <td id=\"T_84fde_row27_col24\" class=\"data row27 col24\" >0</td>\n",
              "      <td id=\"T_84fde_row27_col25\" class=\"data row27 col25\" >0</td>\n",
              "      <td id=\"T_84fde_row27_col26\" class=\"data row27 col26\" >0</td>\n",
              "      <td id=\"T_84fde_row27_col27\" class=\"data row27 col27\" >0</td>\n",
              "    </tr>\n",
              "  </tbody>\n",
              "</table>\n"
            ]
          },
          "metadata": {},
          "execution_count": 13
        }
      ],
      "source": [
        "im3_t = tensor(im3)\n",
        "df = pd.DataFrame(im3_t[:,:])\n",
        "df.style.set_properties(**{'font-size':'6pt'}).background_gradient('Greys')"
      ]
    },
    {
      "cell_type": "code",
      "source": [
        "im7_t = tensor(im7)\n",
        "df = pd.DataFrame(im7_t[:,:])\n",
        "df.style.set_properties(**{'font-size':'6pt'}).background_gradient('Greys')"
      ],
      "metadata": {
        "id": "wu5ixw5gCPKp",
        "outputId": "f0b16826-f97c-48cb-9ae1-9215f664d2f3",
        "colab": {
          "base_uri": "https://localhost:8080/",
          "height": 927
        }
      },
      "execution_count": 14,
      "outputs": [
        {
          "output_type": "execute_result",
          "data": {
            "text/plain": [
              "<pandas.io.formats.style.Styler at 0x7deb765f7550>"
            ],
            "text/html": [
              "<style type=\"text/css\">\n",
              "#T_f07a6_row0_col0, #T_f07a6_row0_col1, #T_f07a6_row0_col2, #T_f07a6_row0_col3, #T_f07a6_row0_col4, #T_f07a6_row0_col5, #T_f07a6_row0_col6, #T_f07a6_row0_col7, #T_f07a6_row0_col8, #T_f07a6_row0_col9, #T_f07a6_row0_col10, #T_f07a6_row0_col11, #T_f07a6_row0_col12, #T_f07a6_row0_col13, #T_f07a6_row0_col14, #T_f07a6_row0_col15, #T_f07a6_row0_col16, #T_f07a6_row0_col17, #T_f07a6_row0_col18, #T_f07a6_row0_col19, #T_f07a6_row0_col20, #T_f07a6_row0_col21, #T_f07a6_row0_col22, #T_f07a6_row0_col23, #T_f07a6_row0_col24, #T_f07a6_row0_col25, #T_f07a6_row0_col26, #T_f07a6_row0_col27, #T_f07a6_row1_col0, #T_f07a6_row1_col1, #T_f07a6_row1_col2, #T_f07a6_row1_col3, #T_f07a6_row1_col4, #T_f07a6_row1_col5, #T_f07a6_row1_col6, #T_f07a6_row1_col7, #T_f07a6_row1_col8, #T_f07a6_row1_col9, #T_f07a6_row1_col10, #T_f07a6_row1_col11, #T_f07a6_row1_col12, #T_f07a6_row1_col13, #T_f07a6_row1_col14, #T_f07a6_row1_col15, #T_f07a6_row1_col16, #T_f07a6_row1_col17, #T_f07a6_row1_col18, #T_f07a6_row1_col19, #T_f07a6_row1_col20, #T_f07a6_row1_col21, #T_f07a6_row1_col22, #T_f07a6_row1_col23, #T_f07a6_row1_col24, #T_f07a6_row1_col25, #T_f07a6_row1_col26, #T_f07a6_row1_col27, #T_f07a6_row2_col0, #T_f07a6_row2_col1, #T_f07a6_row2_col2, #T_f07a6_row2_col3, #T_f07a6_row2_col4, #T_f07a6_row2_col5, #T_f07a6_row2_col6, #T_f07a6_row2_col7, #T_f07a6_row2_col8, #T_f07a6_row2_col9, #T_f07a6_row2_col10, #T_f07a6_row2_col11, #T_f07a6_row2_col12, #T_f07a6_row2_col13, #T_f07a6_row2_col14, #T_f07a6_row2_col15, #T_f07a6_row2_col16, #T_f07a6_row2_col17, #T_f07a6_row2_col18, #T_f07a6_row2_col19, #T_f07a6_row2_col20, #T_f07a6_row2_col21, #T_f07a6_row2_col22, #T_f07a6_row2_col23, #T_f07a6_row2_col24, #T_f07a6_row2_col25, #T_f07a6_row2_col26, #T_f07a6_row2_col27, #T_f07a6_row3_col0, #T_f07a6_row3_col1, #T_f07a6_row3_col2, #T_f07a6_row3_col3, #T_f07a6_row3_col4, #T_f07a6_row3_col5, #T_f07a6_row3_col6, #T_f07a6_row3_col7, #T_f07a6_row3_col8, #T_f07a6_row3_col9, #T_f07a6_row3_col10, #T_f07a6_row3_col11, #T_f07a6_row3_col12, #T_f07a6_row3_col13, #T_f07a6_row3_col14, #T_f07a6_row3_col15, #T_f07a6_row3_col16, #T_f07a6_row3_col17, #T_f07a6_row3_col18, #T_f07a6_row3_col19, #T_f07a6_row3_col20, #T_f07a6_row3_col21, #T_f07a6_row3_col22, #T_f07a6_row3_col23, #T_f07a6_row3_col24, #T_f07a6_row3_col25, #T_f07a6_row3_col26, #T_f07a6_row3_col27, #T_f07a6_row4_col0, #T_f07a6_row4_col1, #T_f07a6_row4_col2, #T_f07a6_row4_col3, #T_f07a6_row4_col4, #T_f07a6_row4_col5, #T_f07a6_row4_col6, #T_f07a6_row4_col7, #T_f07a6_row4_col8, #T_f07a6_row4_col9, #T_f07a6_row4_col10, #T_f07a6_row4_col11, #T_f07a6_row4_col12, #T_f07a6_row4_col13, #T_f07a6_row4_col14, #T_f07a6_row4_col15, #T_f07a6_row4_col16, #T_f07a6_row4_col17, #T_f07a6_row4_col18, #T_f07a6_row4_col19, #T_f07a6_row4_col20, #T_f07a6_row4_col21, #T_f07a6_row4_col22, #T_f07a6_row4_col23, #T_f07a6_row4_col24, #T_f07a6_row4_col25, #T_f07a6_row4_col26, #T_f07a6_row4_col27, #T_f07a6_row5_col0, #T_f07a6_row5_col1, #T_f07a6_row5_col2, #T_f07a6_row5_col3, #T_f07a6_row5_col4, #T_f07a6_row5_col5, #T_f07a6_row5_col6, #T_f07a6_row5_col7, #T_f07a6_row5_col8, #T_f07a6_row5_col9, #T_f07a6_row5_col10, #T_f07a6_row5_col11, #T_f07a6_row5_col12, #T_f07a6_row5_col13, #T_f07a6_row5_col14, #T_f07a6_row5_col15, #T_f07a6_row5_col16, #T_f07a6_row5_col17, #T_f07a6_row5_col18, #T_f07a6_row5_col19, #T_f07a6_row5_col20, #T_f07a6_row5_col21, #T_f07a6_row5_col22, #T_f07a6_row5_col23, #T_f07a6_row5_col24, #T_f07a6_row5_col25, #T_f07a6_row5_col26, #T_f07a6_row5_col27, #T_f07a6_row6_col0, #T_f07a6_row6_col1, #T_f07a6_row6_col2, #T_f07a6_row6_col3, #T_f07a6_row6_col4, #T_f07a6_row6_col5, #T_f07a6_row6_col6, #T_f07a6_row6_col7, #T_f07a6_row6_col8, #T_f07a6_row6_col9, #T_f07a6_row6_col10, #T_f07a6_row6_col11, #T_f07a6_row6_col12, #T_f07a6_row6_col13, #T_f07a6_row6_col14, #T_f07a6_row6_col15, #T_f07a6_row6_col16, #T_f07a6_row6_col17, #T_f07a6_row6_col18, #T_f07a6_row6_col19, #T_f07a6_row6_col20, #T_f07a6_row6_col21, #T_f07a6_row6_col22, #T_f07a6_row6_col23, #T_f07a6_row6_col24, #T_f07a6_row6_col25, #T_f07a6_row6_col26, #T_f07a6_row6_col27, #T_f07a6_row7_col0, #T_f07a6_row7_col1, #T_f07a6_row7_col2, #T_f07a6_row7_col3, #T_f07a6_row7_col4, #T_f07a6_row7_col5, #T_f07a6_row7_col6, #T_f07a6_row7_col7, #T_f07a6_row7_col8, #T_f07a6_row7_col9, #T_f07a6_row7_col10, #T_f07a6_row7_col20, #T_f07a6_row7_col21, #T_f07a6_row7_col22, #T_f07a6_row7_col23, #T_f07a6_row7_col24, #T_f07a6_row7_col25, #T_f07a6_row7_col26, #T_f07a6_row7_col27, #T_f07a6_row8_col0, #T_f07a6_row8_col1, #T_f07a6_row8_col2, #T_f07a6_row8_col3, #T_f07a6_row8_col4, #T_f07a6_row8_col21, #T_f07a6_row8_col22, #T_f07a6_row8_col23, #T_f07a6_row8_col24, #T_f07a6_row8_col25, #T_f07a6_row8_col26, #T_f07a6_row8_col27, #T_f07a6_row9_col0, #T_f07a6_row9_col1, #T_f07a6_row9_col2, #T_f07a6_row9_col3, #T_f07a6_row9_col4, #T_f07a6_row9_col21, #T_f07a6_row9_col22, #T_f07a6_row9_col23, #T_f07a6_row9_col24, #T_f07a6_row9_col25, #T_f07a6_row9_col26, #T_f07a6_row9_col27, #T_f07a6_row10_col0, #T_f07a6_row10_col1, #T_f07a6_row10_col2, #T_f07a6_row10_col3, #T_f07a6_row10_col4, #T_f07a6_row10_col21, #T_f07a6_row10_col22, #T_f07a6_row10_col23, #T_f07a6_row10_col24, #T_f07a6_row10_col25, #T_f07a6_row10_col26, #T_f07a6_row10_col27, #T_f07a6_row11_col0, #T_f07a6_row11_col1, #T_f07a6_row11_col2, #T_f07a6_row11_col3, #T_f07a6_row11_col4, #T_f07a6_row11_col10, #T_f07a6_row11_col11, #T_f07a6_row11_col12, #T_f07a6_row11_col13, #T_f07a6_row11_col14, #T_f07a6_row11_col21, #T_f07a6_row11_col22, #T_f07a6_row11_col23, #T_f07a6_row11_col24, #T_f07a6_row11_col25, #T_f07a6_row11_col26, #T_f07a6_row11_col27, #T_f07a6_row12_col0, #T_f07a6_row12_col1, #T_f07a6_row12_col2, #T_f07a6_row12_col3, #T_f07a6_row12_col4, #T_f07a6_row12_col9, #T_f07a6_row12_col10, #T_f07a6_row12_col11, #T_f07a6_row12_col12, #T_f07a6_row12_col13, #T_f07a6_row12_col14, #T_f07a6_row12_col20, #T_f07a6_row12_col21, #T_f07a6_row12_col22, #T_f07a6_row12_col23, #T_f07a6_row12_col24, #T_f07a6_row12_col25, #T_f07a6_row12_col26, #T_f07a6_row12_col27, #T_f07a6_row13_col0, #T_f07a6_row13_col1, #T_f07a6_row13_col2, #T_f07a6_row13_col3, #T_f07a6_row13_col4, #T_f07a6_row13_col5, #T_f07a6_row13_col9, #T_f07a6_row13_col10, #T_f07a6_row13_col11, #T_f07a6_row13_col12, #T_f07a6_row13_col13, #T_f07a6_row13_col14, #T_f07a6_row13_col20, #T_f07a6_row13_col21, #T_f07a6_row13_col22, #T_f07a6_row13_col23, #T_f07a6_row13_col24, #T_f07a6_row13_col25, #T_f07a6_row13_col26, #T_f07a6_row13_col27, #T_f07a6_row14_col0, #T_f07a6_row14_col1, #T_f07a6_row14_col2, #T_f07a6_row14_col3, #T_f07a6_row14_col4, #T_f07a6_row14_col5, #T_f07a6_row14_col6, #T_f07a6_row14_col7, #T_f07a6_row14_col8, #T_f07a6_row14_col9, #T_f07a6_row14_col10, #T_f07a6_row14_col11, #T_f07a6_row14_col12, #T_f07a6_row14_col13, #T_f07a6_row14_col14, #T_f07a6_row14_col20, #T_f07a6_row14_col21, #T_f07a6_row14_col22, #T_f07a6_row14_col23, #T_f07a6_row14_col24, #T_f07a6_row14_col25, #T_f07a6_row14_col26, #T_f07a6_row14_col27, #T_f07a6_row15_col0, #T_f07a6_row15_col1, #T_f07a6_row15_col2, #T_f07a6_row15_col3, #T_f07a6_row15_col4, #T_f07a6_row15_col5, #T_f07a6_row15_col6, #T_f07a6_row15_col7, #T_f07a6_row15_col8, #T_f07a6_row15_col9, #T_f07a6_row15_col10, #T_f07a6_row15_col11, #T_f07a6_row15_col12, #T_f07a6_row15_col13, #T_f07a6_row15_col14, #T_f07a6_row15_col20, #T_f07a6_row15_col21, #T_f07a6_row15_col22, #T_f07a6_row15_col23, #T_f07a6_row15_col24, #T_f07a6_row15_col25, #T_f07a6_row15_col26, #T_f07a6_row15_col27, #T_f07a6_row16_col0, #T_f07a6_row16_col1, #T_f07a6_row16_col2, #T_f07a6_row16_col3, #T_f07a6_row16_col4, #T_f07a6_row16_col5, #T_f07a6_row16_col6, #T_f07a6_row16_col7, #T_f07a6_row16_col8, #T_f07a6_row16_col9, #T_f07a6_row16_col10, #T_f07a6_row16_col11, #T_f07a6_row16_col12, #T_f07a6_row16_col13, #T_f07a6_row16_col19, #T_f07a6_row16_col20, #T_f07a6_row16_col21, #T_f07a6_row16_col22, #T_f07a6_row16_col23, #T_f07a6_row16_col24, #T_f07a6_row16_col25, #T_f07a6_row16_col26, #T_f07a6_row16_col27, #T_f07a6_row17_col0, #T_f07a6_row17_col1, #T_f07a6_row17_col2, #T_f07a6_row17_col3, #T_f07a6_row17_col4, #T_f07a6_row17_col5, #T_f07a6_row17_col6, #T_f07a6_row17_col7, #T_f07a6_row17_col8, #T_f07a6_row17_col9, #T_f07a6_row17_col10, #T_f07a6_row17_col11, #T_f07a6_row17_col12, #T_f07a6_row17_col13, #T_f07a6_row17_col19, #T_f07a6_row17_col20, #T_f07a6_row17_col21, #T_f07a6_row17_col22, #T_f07a6_row17_col23, #T_f07a6_row17_col24, #T_f07a6_row17_col25, #T_f07a6_row17_col26, #T_f07a6_row17_col27, #T_f07a6_row18_col0, #T_f07a6_row18_col1, #T_f07a6_row18_col2, #T_f07a6_row18_col3, #T_f07a6_row18_col4, #T_f07a6_row18_col5, #T_f07a6_row18_col6, #T_f07a6_row18_col7, #T_f07a6_row18_col8, #T_f07a6_row18_col9, #T_f07a6_row18_col10, #T_f07a6_row18_col11, #T_f07a6_row18_col12, #T_f07a6_row18_col13, #T_f07a6_row18_col19, #T_f07a6_row18_col20, #T_f07a6_row18_col21, #T_f07a6_row18_col22, #T_f07a6_row18_col23, #T_f07a6_row18_col24, #T_f07a6_row18_col25, #T_f07a6_row18_col26, #T_f07a6_row18_col27, #T_f07a6_row19_col0, #T_f07a6_row19_col1, #T_f07a6_row19_col2, #T_f07a6_row19_col3, #T_f07a6_row19_col4, #T_f07a6_row19_col5, #T_f07a6_row19_col6, #T_f07a6_row19_col7, #T_f07a6_row19_col8, #T_f07a6_row19_col9, #T_f07a6_row19_col10, #T_f07a6_row19_col11, #T_f07a6_row19_col12, #T_f07a6_row19_col19, #T_f07a6_row19_col20, #T_f07a6_row19_col21, #T_f07a6_row19_col22, #T_f07a6_row19_col23, #T_f07a6_row19_col24, #T_f07a6_row19_col25, #T_f07a6_row19_col26, #T_f07a6_row19_col27, #T_f07a6_row20_col0, #T_f07a6_row20_col1, #T_f07a6_row20_col2, #T_f07a6_row20_col3, #T_f07a6_row20_col4, #T_f07a6_row20_col5, #T_f07a6_row20_col6, #T_f07a6_row20_col7, #T_f07a6_row20_col8, #T_f07a6_row20_col9, #T_f07a6_row20_col10, #T_f07a6_row20_col11, #T_f07a6_row20_col12, #T_f07a6_row20_col18, #T_f07a6_row20_col19, #T_f07a6_row20_col20, #T_f07a6_row20_col21, #T_f07a6_row20_col22, #T_f07a6_row20_col23, #T_f07a6_row20_col24, #T_f07a6_row20_col25, #T_f07a6_row20_col26, #T_f07a6_row20_col27, #T_f07a6_row21_col0, #T_f07a6_row21_col1, #T_f07a6_row21_col2, #T_f07a6_row21_col3, #T_f07a6_row21_col4, #T_f07a6_row21_col5, #T_f07a6_row21_col6, #T_f07a6_row21_col7, #T_f07a6_row21_col8, #T_f07a6_row21_col9, #T_f07a6_row21_col10, #T_f07a6_row21_col11, #T_f07a6_row21_col17, #T_f07a6_row21_col18, #T_f07a6_row21_col19, #T_f07a6_row21_col20, #T_f07a6_row21_col21, #T_f07a6_row21_col22, #T_f07a6_row21_col23, #T_f07a6_row21_col24, #T_f07a6_row21_col25, #T_f07a6_row21_col26, #T_f07a6_row21_col27, #T_f07a6_row22_col0, #T_f07a6_row22_col1, #T_f07a6_row22_col2, #T_f07a6_row22_col3, #T_f07a6_row22_col4, #T_f07a6_row22_col5, #T_f07a6_row22_col6, #T_f07a6_row22_col7, #T_f07a6_row22_col8, #T_f07a6_row22_col9, #T_f07a6_row22_col10, #T_f07a6_row22_col11, #T_f07a6_row22_col17, #T_f07a6_row22_col18, #T_f07a6_row22_col19, #T_f07a6_row22_col20, #T_f07a6_row22_col21, #T_f07a6_row22_col22, #T_f07a6_row22_col23, #T_f07a6_row22_col24, #T_f07a6_row22_col25, #T_f07a6_row22_col26, #T_f07a6_row22_col27, #T_f07a6_row23_col0, #T_f07a6_row23_col1, #T_f07a6_row23_col2, #T_f07a6_row23_col3, #T_f07a6_row23_col4, #T_f07a6_row23_col5, #T_f07a6_row23_col6, #T_f07a6_row23_col7, #T_f07a6_row23_col8, #T_f07a6_row23_col9, #T_f07a6_row23_col10, #T_f07a6_row23_col11, #T_f07a6_row23_col17, #T_f07a6_row23_col18, #T_f07a6_row23_col19, #T_f07a6_row23_col20, #T_f07a6_row23_col21, #T_f07a6_row23_col22, #T_f07a6_row23_col23, #T_f07a6_row23_col24, #T_f07a6_row23_col25, #T_f07a6_row23_col26, #T_f07a6_row23_col27, #T_f07a6_row24_col0, #T_f07a6_row24_col1, #T_f07a6_row24_col2, #T_f07a6_row24_col3, #T_f07a6_row24_col4, #T_f07a6_row24_col5, #T_f07a6_row24_col6, #T_f07a6_row24_col7, #T_f07a6_row24_col8, #T_f07a6_row24_col9, #T_f07a6_row24_col10, #T_f07a6_row24_col11, #T_f07a6_row24_col17, #T_f07a6_row24_col18, #T_f07a6_row24_col19, #T_f07a6_row24_col20, #T_f07a6_row24_col21, #T_f07a6_row24_col22, #T_f07a6_row24_col23, #T_f07a6_row24_col24, #T_f07a6_row24_col25, #T_f07a6_row24_col26, #T_f07a6_row24_col27, #T_f07a6_row25_col0, #T_f07a6_row25_col1, #T_f07a6_row25_col2, #T_f07a6_row25_col3, #T_f07a6_row25_col4, #T_f07a6_row25_col5, #T_f07a6_row25_col6, #T_f07a6_row25_col7, #T_f07a6_row25_col8, #T_f07a6_row25_col9, #T_f07a6_row25_col10, #T_f07a6_row25_col11, #T_f07a6_row25_col16, #T_f07a6_row25_col17, #T_f07a6_row25_col18, #T_f07a6_row25_col19, #T_f07a6_row25_col20, #T_f07a6_row25_col21, #T_f07a6_row25_col22, #T_f07a6_row25_col23, #T_f07a6_row25_col24, #T_f07a6_row25_col25, #T_f07a6_row25_col26, #T_f07a6_row25_col27, #T_f07a6_row26_col0, #T_f07a6_row26_col1, #T_f07a6_row26_col2, #T_f07a6_row26_col3, #T_f07a6_row26_col4, #T_f07a6_row26_col5, #T_f07a6_row26_col6, #T_f07a6_row26_col7, #T_f07a6_row26_col8, #T_f07a6_row26_col9, #T_f07a6_row26_col10, #T_f07a6_row26_col11, #T_f07a6_row26_col16, #T_f07a6_row26_col17, #T_f07a6_row26_col18, #T_f07a6_row26_col19, #T_f07a6_row26_col20, #T_f07a6_row26_col21, #T_f07a6_row26_col22, #T_f07a6_row26_col23, #T_f07a6_row26_col24, #T_f07a6_row26_col25, #T_f07a6_row26_col26, #T_f07a6_row26_col27, #T_f07a6_row27_col0, #T_f07a6_row27_col1, #T_f07a6_row27_col2, #T_f07a6_row27_col3, #T_f07a6_row27_col4, #T_f07a6_row27_col5, #T_f07a6_row27_col6, #T_f07a6_row27_col7, #T_f07a6_row27_col8, #T_f07a6_row27_col9, #T_f07a6_row27_col10, #T_f07a6_row27_col11, #T_f07a6_row27_col12, #T_f07a6_row27_col13, #T_f07a6_row27_col14, #T_f07a6_row27_col15, #T_f07a6_row27_col16, #T_f07a6_row27_col17, #T_f07a6_row27_col18, #T_f07a6_row27_col19, #T_f07a6_row27_col20, #T_f07a6_row27_col21, #T_f07a6_row27_col22, #T_f07a6_row27_col23, #T_f07a6_row27_col24, #T_f07a6_row27_col25, #T_f07a6_row27_col26, #T_f07a6_row27_col27 {\n",
              "  font-size: 6pt;\n",
              "  background-color: #ffffff;\n",
              "  color: #000000;\n",
              "}\n",
              "#T_f07a6_row7_col11, #T_f07a6_row7_col12, #T_f07a6_row19_col18 {\n",
              "  font-size: 6pt;\n",
              "  background-color: #fbfbfb;\n",
              "  color: #000000;\n",
              "}\n",
              "#T_f07a6_row7_col13 {\n",
              "  font-size: 6pt;\n",
              "  background-color: #f8f8f8;\n",
              "  color: #000000;\n",
              "}\n",
              "#T_f07a6_row7_col14 {\n",
              "  font-size: 6pt;\n",
              "  background-color: #f7f7f7;\n",
              "  color: #000000;\n",
              "}\n",
              "#T_f07a6_row7_col15 {\n",
              "  font-size: 6pt;\n",
              "  background-color: #d3d3d3;\n",
              "  color: #000000;\n",
              "}\n",
              "#T_f07a6_row7_col16, #T_f07a6_row26_col15 {\n",
              "  font-size: 6pt;\n",
              "  background-color: #868686;\n",
              "  color: #f1f1f1;\n",
              "}\n",
              "#T_f07a6_row7_col17, #T_f07a6_row8_col14, #T_f07a6_row8_col15, #T_f07a6_row8_col16, #T_f07a6_row8_col18, #T_f07a6_row9_col6, #T_f07a6_row9_col7, #T_f07a6_row9_col8, #T_f07a6_row9_col9, #T_f07a6_row9_col10, #T_f07a6_row9_col11, #T_f07a6_row9_col12, #T_f07a6_row9_col13, #T_f07a6_row9_col14, #T_f07a6_row9_col15, #T_f07a6_row9_col16, #T_f07a6_row9_col18, #T_f07a6_row9_col19, #T_f07a6_row9_col20, #T_f07a6_row10_col5, #T_f07a6_row10_col6, #T_f07a6_row10_col7, #T_f07a6_row10_col8, #T_f07a6_row10_col16, #T_f07a6_row10_col18, #T_f07a6_row10_col19, #T_f07a6_row10_col20, #T_f07a6_row11_col6, #T_f07a6_row11_col7, #T_f07a6_row11_col16, #T_f07a6_row11_col18, #T_f07a6_row12_col7, #T_f07a6_row12_col16, #T_f07a6_row12_col18, #T_f07a6_row13_col16, #T_f07a6_row13_col18, #T_f07a6_row14_col16, #T_f07a6_row14_col18, #T_f07a6_row15_col16, #T_f07a6_row16_col16, #T_f07a6_row17_col15, #T_f07a6_row17_col16, #T_f07a6_row18_col15, #T_f07a6_row18_col16, #T_f07a6_row19_col15, #T_f07a6_row19_col16, #T_f07a6_row20_col14, #T_f07a6_row20_col15, #T_f07a6_row21_col14, #T_f07a6_row21_col15, #T_f07a6_row22_col13, #T_f07a6_row22_col14, #T_f07a6_row22_col15, #T_f07a6_row23_col13, #T_f07a6_row23_col14, #T_f07a6_row23_col15, #T_f07a6_row24_col13, #T_f07a6_row24_col14, #T_f07a6_row24_col15, #T_f07a6_row25_col13, #T_f07a6_row25_col14, #T_f07a6_row26_col14 {\n",
              "  font-size: 6pt;\n",
              "  background-color: #000000;\n",
              "  color: #f1f1f1;\n",
              "}\n",
              "#T_f07a6_row7_col18, #T_f07a6_row24_col12, #T_f07a6_row25_col12 {\n",
              "  font-size: 6pt;\n",
              "  background-color: #5f5f5f;\n",
              "  color: #f1f1f1;\n",
              "}\n",
              "#T_f07a6_row7_col19 {\n",
              "  font-size: 6pt;\n",
              "  background-color: #b4b4b4;\n",
              "  color: #000000;\n",
              "}\n",
              "#T_f07a6_row8_col5, #T_f07a6_row11_col20 {\n",
              "  font-size: 6pt;\n",
              "  background-color: #e4e4e4;\n",
              "  color: #000000;\n",
              "}\n",
              "#T_f07a6_row8_col6, #T_f07a6_row8_col7, #T_f07a6_row8_col8, #T_f07a6_row8_col9, #T_f07a6_row8_col10 {\n",
              "  font-size: 6pt;\n",
              "  background-color: #787878;\n",
              "  color: #f1f1f1;\n",
              "}\n",
              "#T_f07a6_row8_col11, #T_f07a6_row8_col12, #T_f07a6_row11_col19 {\n",
              "  font-size: 6pt;\n",
              "  background-color: #434343;\n",
              "  color: #f1f1f1;\n",
              "}\n",
              "#T_f07a6_row8_col13, #T_f07a6_row15_col15, #T_f07a6_row19_col14 {\n",
              "  font-size: 6pt;\n",
              "  background-color: #1a1a1a;\n",
              "  color: #f1f1f1;\n",
              "}\n",
              "#T_f07a6_row8_col17, #T_f07a6_row9_col17, #T_f07a6_row10_col17, #T_f07a6_row11_col17, #T_f07a6_row12_col17, #T_f07a6_row13_col17, #T_f07a6_row14_col17, #T_f07a6_row15_col17, #T_f07a6_row16_col17, #T_f07a6_row17_col17, #T_f07a6_row18_col17 {\n",
              "  font-size: 6pt;\n",
              "  background-color: #020202;\n",
              "  color: #f1f1f1;\n",
              "}\n",
              "#T_f07a6_row8_col19 {\n",
              "  font-size: 6pt;\n",
              "  background-color: #1d1d1d;\n",
              "  color: #f1f1f1;\n",
              "}\n",
              "#T_f07a6_row8_col20 {\n",
              "  font-size: 6pt;\n",
              "  background-color: #797979;\n",
              "  color: #f1f1f1;\n",
              "}\n",
              "#T_f07a6_row9_col5 {\n",
              "  font-size: 6pt;\n",
              "  background-color: #a2a2a2;\n",
              "  color: #f1f1f1;\n",
              "}\n",
              "#T_f07a6_row10_col9 {\n",
              "  font-size: 6pt;\n",
              "  background-color: #010101;\n",
              "  color: #f1f1f1;\n",
              "}\n",
              "#T_f07a6_row10_col10, #T_f07a6_row10_col11, #T_f07a6_row10_col12, #T_f07a6_row10_col13, #T_f07a6_row10_col14 {\n",
              "  font-size: 6pt;\n",
              "  background-color: #5a5a5a;\n",
              "  color: #f1f1f1;\n",
              "}\n",
              "#T_f07a6_row10_col15 {\n",
              "  font-size: 6pt;\n",
              "  background-color: #2f2f2f;\n",
              "  color: #f1f1f1;\n",
              "}\n",
              "#T_f07a6_row11_col5 {\n",
              "  font-size: 6pt;\n",
              "  background-color: #4e4e4e;\n",
              "  color: #f1f1f1;\n",
              "}\n",
              "#T_f07a6_row11_col8 {\n",
              "  font-size: 6pt;\n",
              "  background-color: #2c2c2c;\n",
              "  color: #f1f1f1;\n",
              "}\n",
              "#T_f07a6_row11_col9 {\n",
              "  font-size: 6pt;\n",
              "  background-color: #e2e2e2;\n",
              "  color: #000000;\n",
              "}\n",
              "#T_f07a6_row11_col15, #T_f07a6_row12_col15, #T_f07a6_row13_col15 {\n",
              "  font-size: 6pt;\n",
              "  background-color: #a7a7a7;\n",
              "  color: #f1f1f1;\n",
              "}\n",
              "#T_f07a6_row12_col5 {\n",
              "  font-size: 6pt;\n",
              "  background-color: #e6e6e6;\n",
              "  color: #000000;\n",
              "}\n",
              "#T_f07a6_row12_col6 {\n",
              "  font-size: 6pt;\n",
              "  background-color: #606060;\n",
              "  color: #f1f1f1;\n",
              "}\n",
              "#T_f07a6_row12_col8 {\n",
              "  font-size: 6pt;\n",
              "  background-color: #b9b9b9;\n",
              "  color: #000000;\n",
              "}\n",
              "#T_f07a6_row12_col19 {\n",
              "  font-size: 6pt;\n",
              "  background-color: #535353;\n",
              "  color: #f1f1f1;\n",
              "}\n",
              "#T_f07a6_row13_col6, #T_f07a6_row13_col8 {\n",
              "  font-size: 6pt;\n",
              "  background-color: #fefefe;\n",
              "  color: #000000;\n",
              "}\n",
              "#T_f07a6_row13_col7, #T_f07a6_row16_col14 {\n",
              "  font-size: 6pt;\n",
              "  background-color: #d6d6d6;\n",
              "  color: #000000;\n",
              "}\n",
              "#T_f07a6_row13_col19 {\n",
              "  font-size: 6pt;\n",
              "  background-color: #cfcfcf;\n",
              "  color: #000000;\n",
              "}\n",
              "#T_f07a6_row14_col15, #T_f07a6_row23_col16 {\n",
              "  font-size: 6pt;\n",
              "  background-color: #999999;\n",
              "  color: #f1f1f1;\n",
              "}\n",
              "#T_f07a6_row14_col19 {\n",
              "  font-size: 6pt;\n",
              "  background-color: #d4d4d4;\n",
              "  color: #000000;\n",
              "}\n",
              "#T_f07a6_row15_col18 {\n",
              "  font-size: 6pt;\n",
              "  background-color: #080808;\n",
              "  color: #f1f1f1;\n",
              "}\n",
              "#T_f07a6_row15_col19, #T_f07a6_row22_col12 {\n",
              "  font-size: 6pt;\n",
              "  background-color: #dcdcdc;\n",
              "  color: #000000;\n",
              "}\n",
              "#T_f07a6_row16_col15, #T_f07a6_row20_col16 {\n",
              "  font-size: 6pt;\n",
              "  background-color: #070707;\n",
              "  color: #f1f1f1;\n",
              "}\n",
              "#T_f07a6_row16_col18 {\n",
              "  font-size: 6pt;\n",
              "  background-color: #5e5e5e;\n",
              "  color: #f1f1f1;\n",
              "}\n",
              "#T_f07a6_row17_col14 {\n",
              "  font-size: 6pt;\n",
              "  background-color: #555555;\n",
              "  color: #f1f1f1;\n",
              "}\n",
              "#T_f07a6_row17_col18, #T_f07a6_row18_col18 {\n",
              "  font-size: 6pt;\n",
              "  background-color: #c3c3c3;\n",
              "  color: #000000;\n",
              "}\n",
              "#T_f07a6_row18_col14 {\n",
              "  font-size: 6pt;\n",
              "  background-color: #303030;\n",
              "  color: #f1f1f1;\n",
              "}\n",
              "#T_f07a6_row19_col13, #T_f07a6_row21_col12 {\n",
              "  font-size: 6pt;\n",
              "  background-color: #eeeeee;\n",
              "  color: #000000;\n",
              "}\n",
              "#T_f07a6_row19_col17 {\n",
              "  font-size: 6pt;\n",
              "  background-color: #222222;\n",
              "  color: #f1f1f1;\n",
              "}\n",
              "#T_f07a6_row20_col13 {\n",
              "  font-size: 6pt;\n",
              "  background-color: #898989;\n",
              "  color: #f1f1f1;\n",
              "}\n",
              "#T_f07a6_row20_col17 {\n",
              "  font-size: 6pt;\n",
              "  background-color: #e0e0e0;\n",
              "  color: #000000;\n",
              "}\n",
              "#T_f07a6_row21_col13 {\n",
              "  font-size: 6pt;\n",
              "  background-color: #1c1c1c;\n",
              "  color: #f1f1f1;\n",
              "}\n",
              "#T_f07a6_row21_col16 {\n",
              "  font-size: 6pt;\n",
              "  background-color: #0e0e0e;\n",
              "  color: #f1f1f1;\n",
              "}\n",
              "#T_f07a6_row22_col16 {\n",
              "  font-size: 6pt;\n",
              "  background-color: #282828;\n",
              "  color: #f1f1f1;\n",
              "}\n",
              "#T_f07a6_row23_col12 {\n",
              "  font-size: 6pt;\n",
              "  background-color: #828282;\n",
              "  color: #f1f1f1;\n",
              "}\n",
              "#T_f07a6_row24_col16 {\n",
              "  font-size: 6pt;\n",
              "  background-color: #f1f1f1;\n",
              "  color: #000000;\n",
              "}\n",
              "#T_f07a6_row25_col15 {\n",
              "  font-size: 6pt;\n",
              "  background-color: #767676;\n",
              "  color: #f1f1f1;\n",
              "}\n",
              "#T_f07a6_row26_col12 {\n",
              "  font-size: 6pt;\n",
              "  background-color: #eaeaea;\n",
              "  color: #000000;\n",
              "}\n",
              "#T_f07a6_row26_col13 {\n",
              "  font-size: 6pt;\n",
              "  background-color: #1f1f1f;\n",
              "  color: #f1f1f1;\n",
              "}\n",
              "</style>\n",
              "<table id=\"T_f07a6\" class=\"dataframe\">\n",
              "  <thead>\n",
              "    <tr>\n",
              "      <th class=\"blank level0\" >&nbsp;</th>\n",
              "      <th id=\"T_f07a6_level0_col0\" class=\"col_heading level0 col0\" >0</th>\n",
              "      <th id=\"T_f07a6_level0_col1\" class=\"col_heading level0 col1\" >1</th>\n",
              "      <th id=\"T_f07a6_level0_col2\" class=\"col_heading level0 col2\" >2</th>\n",
              "      <th id=\"T_f07a6_level0_col3\" class=\"col_heading level0 col3\" >3</th>\n",
              "      <th id=\"T_f07a6_level0_col4\" class=\"col_heading level0 col4\" >4</th>\n",
              "      <th id=\"T_f07a6_level0_col5\" class=\"col_heading level0 col5\" >5</th>\n",
              "      <th id=\"T_f07a6_level0_col6\" class=\"col_heading level0 col6\" >6</th>\n",
              "      <th id=\"T_f07a6_level0_col7\" class=\"col_heading level0 col7\" >7</th>\n",
              "      <th id=\"T_f07a6_level0_col8\" class=\"col_heading level0 col8\" >8</th>\n",
              "      <th id=\"T_f07a6_level0_col9\" class=\"col_heading level0 col9\" >9</th>\n",
              "      <th id=\"T_f07a6_level0_col10\" class=\"col_heading level0 col10\" >10</th>\n",
              "      <th id=\"T_f07a6_level0_col11\" class=\"col_heading level0 col11\" >11</th>\n",
              "      <th id=\"T_f07a6_level0_col12\" class=\"col_heading level0 col12\" >12</th>\n",
              "      <th id=\"T_f07a6_level0_col13\" class=\"col_heading level0 col13\" >13</th>\n",
              "      <th id=\"T_f07a6_level0_col14\" class=\"col_heading level0 col14\" >14</th>\n",
              "      <th id=\"T_f07a6_level0_col15\" class=\"col_heading level0 col15\" >15</th>\n",
              "      <th id=\"T_f07a6_level0_col16\" class=\"col_heading level0 col16\" >16</th>\n",
              "      <th id=\"T_f07a6_level0_col17\" class=\"col_heading level0 col17\" >17</th>\n",
              "      <th id=\"T_f07a6_level0_col18\" class=\"col_heading level0 col18\" >18</th>\n",
              "      <th id=\"T_f07a6_level0_col19\" class=\"col_heading level0 col19\" >19</th>\n",
              "      <th id=\"T_f07a6_level0_col20\" class=\"col_heading level0 col20\" >20</th>\n",
              "      <th id=\"T_f07a6_level0_col21\" class=\"col_heading level0 col21\" >21</th>\n",
              "      <th id=\"T_f07a6_level0_col22\" class=\"col_heading level0 col22\" >22</th>\n",
              "      <th id=\"T_f07a6_level0_col23\" class=\"col_heading level0 col23\" >23</th>\n",
              "      <th id=\"T_f07a6_level0_col24\" class=\"col_heading level0 col24\" >24</th>\n",
              "      <th id=\"T_f07a6_level0_col25\" class=\"col_heading level0 col25\" >25</th>\n",
              "      <th id=\"T_f07a6_level0_col26\" class=\"col_heading level0 col26\" >26</th>\n",
              "      <th id=\"T_f07a6_level0_col27\" class=\"col_heading level0 col27\" >27</th>\n",
              "    </tr>\n",
              "  </thead>\n",
              "  <tbody>\n",
              "    <tr>\n",
              "      <th id=\"T_f07a6_level0_row0\" class=\"row_heading level0 row0\" >0</th>\n",
              "      <td id=\"T_f07a6_row0_col0\" class=\"data row0 col0\" >0</td>\n",
              "      <td id=\"T_f07a6_row0_col1\" class=\"data row0 col1\" >0</td>\n",
              "      <td id=\"T_f07a6_row0_col2\" class=\"data row0 col2\" >0</td>\n",
              "      <td id=\"T_f07a6_row0_col3\" class=\"data row0 col3\" >0</td>\n",
              "      <td id=\"T_f07a6_row0_col4\" class=\"data row0 col4\" >0</td>\n",
              "      <td id=\"T_f07a6_row0_col5\" class=\"data row0 col5\" >0</td>\n",
              "      <td id=\"T_f07a6_row0_col6\" class=\"data row0 col6\" >0</td>\n",
              "      <td id=\"T_f07a6_row0_col7\" class=\"data row0 col7\" >0</td>\n",
              "      <td id=\"T_f07a6_row0_col8\" class=\"data row0 col8\" >0</td>\n",
              "      <td id=\"T_f07a6_row0_col9\" class=\"data row0 col9\" >0</td>\n",
              "      <td id=\"T_f07a6_row0_col10\" class=\"data row0 col10\" >0</td>\n",
              "      <td id=\"T_f07a6_row0_col11\" class=\"data row0 col11\" >0</td>\n",
              "      <td id=\"T_f07a6_row0_col12\" class=\"data row0 col12\" >0</td>\n",
              "      <td id=\"T_f07a6_row0_col13\" class=\"data row0 col13\" >0</td>\n",
              "      <td id=\"T_f07a6_row0_col14\" class=\"data row0 col14\" >0</td>\n",
              "      <td id=\"T_f07a6_row0_col15\" class=\"data row0 col15\" >0</td>\n",
              "      <td id=\"T_f07a6_row0_col16\" class=\"data row0 col16\" >0</td>\n",
              "      <td id=\"T_f07a6_row0_col17\" class=\"data row0 col17\" >0</td>\n",
              "      <td id=\"T_f07a6_row0_col18\" class=\"data row0 col18\" >0</td>\n",
              "      <td id=\"T_f07a6_row0_col19\" class=\"data row0 col19\" >0</td>\n",
              "      <td id=\"T_f07a6_row0_col20\" class=\"data row0 col20\" >0</td>\n",
              "      <td id=\"T_f07a6_row0_col21\" class=\"data row0 col21\" >0</td>\n",
              "      <td id=\"T_f07a6_row0_col22\" class=\"data row0 col22\" >0</td>\n",
              "      <td id=\"T_f07a6_row0_col23\" class=\"data row0 col23\" >0</td>\n",
              "      <td id=\"T_f07a6_row0_col24\" class=\"data row0 col24\" >0</td>\n",
              "      <td id=\"T_f07a6_row0_col25\" class=\"data row0 col25\" >0</td>\n",
              "      <td id=\"T_f07a6_row0_col26\" class=\"data row0 col26\" >0</td>\n",
              "      <td id=\"T_f07a6_row0_col27\" class=\"data row0 col27\" >0</td>\n",
              "    </tr>\n",
              "    <tr>\n",
              "      <th id=\"T_f07a6_level0_row1\" class=\"row_heading level0 row1\" >1</th>\n",
              "      <td id=\"T_f07a6_row1_col0\" class=\"data row1 col0\" >0</td>\n",
              "      <td id=\"T_f07a6_row1_col1\" class=\"data row1 col1\" >0</td>\n",
              "      <td id=\"T_f07a6_row1_col2\" class=\"data row1 col2\" >0</td>\n",
              "      <td id=\"T_f07a6_row1_col3\" class=\"data row1 col3\" >0</td>\n",
              "      <td id=\"T_f07a6_row1_col4\" class=\"data row1 col4\" >0</td>\n",
              "      <td id=\"T_f07a6_row1_col5\" class=\"data row1 col5\" >0</td>\n",
              "      <td id=\"T_f07a6_row1_col6\" class=\"data row1 col6\" >0</td>\n",
              "      <td id=\"T_f07a6_row1_col7\" class=\"data row1 col7\" >0</td>\n",
              "      <td id=\"T_f07a6_row1_col8\" class=\"data row1 col8\" >0</td>\n",
              "      <td id=\"T_f07a6_row1_col9\" class=\"data row1 col9\" >0</td>\n",
              "      <td id=\"T_f07a6_row1_col10\" class=\"data row1 col10\" >0</td>\n",
              "      <td id=\"T_f07a6_row1_col11\" class=\"data row1 col11\" >0</td>\n",
              "      <td id=\"T_f07a6_row1_col12\" class=\"data row1 col12\" >0</td>\n",
              "      <td id=\"T_f07a6_row1_col13\" class=\"data row1 col13\" >0</td>\n",
              "      <td id=\"T_f07a6_row1_col14\" class=\"data row1 col14\" >0</td>\n",
              "      <td id=\"T_f07a6_row1_col15\" class=\"data row1 col15\" >0</td>\n",
              "      <td id=\"T_f07a6_row1_col16\" class=\"data row1 col16\" >0</td>\n",
              "      <td id=\"T_f07a6_row1_col17\" class=\"data row1 col17\" >0</td>\n",
              "      <td id=\"T_f07a6_row1_col18\" class=\"data row1 col18\" >0</td>\n",
              "      <td id=\"T_f07a6_row1_col19\" class=\"data row1 col19\" >0</td>\n",
              "      <td id=\"T_f07a6_row1_col20\" class=\"data row1 col20\" >0</td>\n",
              "      <td id=\"T_f07a6_row1_col21\" class=\"data row1 col21\" >0</td>\n",
              "      <td id=\"T_f07a6_row1_col22\" class=\"data row1 col22\" >0</td>\n",
              "      <td id=\"T_f07a6_row1_col23\" class=\"data row1 col23\" >0</td>\n",
              "      <td id=\"T_f07a6_row1_col24\" class=\"data row1 col24\" >0</td>\n",
              "      <td id=\"T_f07a6_row1_col25\" class=\"data row1 col25\" >0</td>\n",
              "      <td id=\"T_f07a6_row1_col26\" class=\"data row1 col26\" >0</td>\n",
              "      <td id=\"T_f07a6_row1_col27\" class=\"data row1 col27\" >0</td>\n",
              "    </tr>\n",
              "    <tr>\n",
              "      <th id=\"T_f07a6_level0_row2\" class=\"row_heading level0 row2\" >2</th>\n",
              "      <td id=\"T_f07a6_row2_col0\" class=\"data row2 col0\" >0</td>\n",
              "      <td id=\"T_f07a6_row2_col1\" class=\"data row2 col1\" >0</td>\n",
              "      <td id=\"T_f07a6_row2_col2\" class=\"data row2 col2\" >0</td>\n",
              "      <td id=\"T_f07a6_row2_col3\" class=\"data row2 col3\" >0</td>\n",
              "      <td id=\"T_f07a6_row2_col4\" class=\"data row2 col4\" >0</td>\n",
              "      <td id=\"T_f07a6_row2_col5\" class=\"data row2 col5\" >0</td>\n",
              "      <td id=\"T_f07a6_row2_col6\" class=\"data row2 col6\" >0</td>\n",
              "      <td id=\"T_f07a6_row2_col7\" class=\"data row2 col7\" >0</td>\n",
              "      <td id=\"T_f07a6_row2_col8\" class=\"data row2 col8\" >0</td>\n",
              "      <td id=\"T_f07a6_row2_col9\" class=\"data row2 col9\" >0</td>\n",
              "      <td id=\"T_f07a6_row2_col10\" class=\"data row2 col10\" >0</td>\n",
              "      <td id=\"T_f07a6_row2_col11\" class=\"data row2 col11\" >0</td>\n",
              "      <td id=\"T_f07a6_row2_col12\" class=\"data row2 col12\" >0</td>\n",
              "      <td id=\"T_f07a6_row2_col13\" class=\"data row2 col13\" >0</td>\n",
              "      <td id=\"T_f07a6_row2_col14\" class=\"data row2 col14\" >0</td>\n",
              "      <td id=\"T_f07a6_row2_col15\" class=\"data row2 col15\" >0</td>\n",
              "      <td id=\"T_f07a6_row2_col16\" class=\"data row2 col16\" >0</td>\n",
              "      <td id=\"T_f07a6_row2_col17\" class=\"data row2 col17\" >0</td>\n",
              "      <td id=\"T_f07a6_row2_col18\" class=\"data row2 col18\" >0</td>\n",
              "      <td id=\"T_f07a6_row2_col19\" class=\"data row2 col19\" >0</td>\n",
              "      <td id=\"T_f07a6_row2_col20\" class=\"data row2 col20\" >0</td>\n",
              "      <td id=\"T_f07a6_row2_col21\" class=\"data row2 col21\" >0</td>\n",
              "      <td id=\"T_f07a6_row2_col22\" class=\"data row2 col22\" >0</td>\n",
              "      <td id=\"T_f07a6_row2_col23\" class=\"data row2 col23\" >0</td>\n",
              "      <td id=\"T_f07a6_row2_col24\" class=\"data row2 col24\" >0</td>\n",
              "      <td id=\"T_f07a6_row2_col25\" class=\"data row2 col25\" >0</td>\n",
              "      <td id=\"T_f07a6_row2_col26\" class=\"data row2 col26\" >0</td>\n",
              "      <td id=\"T_f07a6_row2_col27\" class=\"data row2 col27\" >0</td>\n",
              "    </tr>\n",
              "    <tr>\n",
              "      <th id=\"T_f07a6_level0_row3\" class=\"row_heading level0 row3\" >3</th>\n",
              "      <td id=\"T_f07a6_row3_col0\" class=\"data row3 col0\" >0</td>\n",
              "      <td id=\"T_f07a6_row3_col1\" class=\"data row3 col1\" >0</td>\n",
              "      <td id=\"T_f07a6_row3_col2\" class=\"data row3 col2\" >0</td>\n",
              "      <td id=\"T_f07a6_row3_col3\" class=\"data row3 col3\" >0</td>\n",
              "      <td id=\"T_f07a6_row3_col4\" class=\"data row3 col4\" >0</td>\n",
              "      <td id=\"T_f07a6_row3_col5\" class=\"data row3 col5\" >0</td>\n",
              "      <td id=\"T_f07a6_row3_col6\" class=\"data row3 col6\" >0</td>\n",
              "      <td id=\"T_f07a6_row3_col7\" class=\"data row3 col7\" >0</td>\n",
              "      <td id=\"T_f07a6_row3_col8\" class=\"data row3 col8\" >0</td>\n",
              "      <td id=\"T_f07a6_row3_col9\" class=\"data row3 col9\" >0</td>\n",
              "      <td id=\"T_f07a6_row3_col10\" class=\"data row3 col10\" >0</td>\n",
              "      <td id=\"T_f07a6_row3_col11\" class=\"data row3 col11\" >0</td>\n",
              "      <td id=\"T_f07a6_row3_col12\" class=\"data row3 col12\" >0</td>\n",
              "      <td id=\"T_f07a6_row3_col13\" class=\"data row3 col13\" >0</td>\n",
              "      <td id=\"T_f07a6_row3_col14\" class=\"data row3 col14\" >0</td>\n",
              "      <td id=\"T_f07a6_row3_col15\" class=\"data row3 col15\" >0</td>\n",
              "      <td id=\"T_f07a6_row3_col16\" class=\"data row3 col16\" >0</td>\n",
              "      <td id=\"T_f07a6_row3_col17\" class=\"data row3 col17\" >0</td>\n",
              "      <td id=\"T_f07a6_row3_col18\" class=\"data row3 col18\" >0</td>\n",
              "      <td id=\"T_f07a6_row3_col19\" class=\"data row3 col19\" >0</td>\n",
              "      <td id=\"T_f07a6_row3_col20\" class=\"data row3 col20\" >0</td>\n",
              "      <td id=\"T_f07a6_row3_col21\" class=\"data row3 col21\" >0</td>\n",
              "      <td id=\"T_f07a6_row3_col22\" class=\"data row3 col22\" >0</td>\n",
              "      <td id=\"T_f07a6_row3_col23\" class=\"data row3 col23\" >0</td>\n",
              "      <td id=\"T_f07a6_row3_col24\" class=\"data row3 col24\" >0</td>\n",
              "      <td id=\"T_f07a6_row3_col25\" class=\"data row3 col25\" >0</td>\n",
              "      <td id=\"T_f07a6_row3_col26\" class=\"data row3 col26\" >0</td>\n",
              "      <td id=\"T_f07a6_row3_col27\" class=\"data row3 col27\" >0</td>\n",
              "    </tr>\n",
              "    <tr>\n",
              "      <th id=\"T_f07a6_level0_row4\" class=\"row_heading level0 row4\" >4</th>\n",
              "      <td id=\"T_f07a6_row4_col0\" class=\"data row4 col0\" >0</td>\n",
              "      <td id=\"T_f07a6_row4_col1\" class=\"data row4 col1\" >0</td>\n",
              "      <td id=\"T_f07a6_row4_col2\" class=\"data row4 col2\" >0</td>\n",
              "      <td id=\"T_f07a6_row4_col3\" class=\"data row4 col3\" >0</td>\n",
              "      <td id=\"T_f07a6_row4_col4\" class=\"data row4 col4\" >0</td>\n",
              "      <td id=\"T_f07a6_row4_col5\" class=\"data row4 col5\" >0</td>\n",
              "      <td id=\"T_f07a6_row4_col6\" class=\"data row4 col6\" >0</td>\n",
              "      <td id=\"T_f07a6_row4_col7\" class=\"data row4 col7\" >0</td>\n",
              "      <td id=\"T_f07a6_row4_col8\" class=\"data row4 col8\" >0</td>\n",
              "      <td id=\"T_f07a6_row4_col9\" class=\"data row4 col9\" >0</td>\n",
              "      <td id=\"T_f07a6_row4_col10\" class=\"data row4 col10\" >0</td>\n",
              "      <td id=\"T_f07a6_row4_col11\" class=\"data row4 col11\" >0</td>\n",
              "      <td id=\"T_f07a6_row4_col12\" class=\"data row4 col12\" >0</td>\n",
              "      <td id=\"T_f07a6_row4_col13\" class=\"data row4 col13\" >0</td>\n",
              "      <td id=\"T_f07a6_row4_col14\" class=\"data row4 col14\" >0</td>\n",
              "      <td id=\"T_f07a6_row4_col15\" class=\"data row4 col15\" >0</td>\n",
              "      <td id=\"T_f07a6_row4_col16\" class=\"data row4 col16\" >0</td>\n",
              "      <td id=\"T_f07a6_row4_col17\" class=\"data row4 col17\" >0</td>\n",
              "      <td id=\"T_f07a6_row4_col18\" class=\"data row4 col18\" >0</td>\n",
              "      <td id=\"T_f07a6_row4_col19\" class=\"data row4 col19\" >0</td>\n",
              "      <td id=\"T_f07a6_row4_col20\" class=\"data row4 col20\" >0</td>\n",
              "      <td id=\"T_f07a6_row4_col21\" class=\"data row4 col21\" >0</td>\n",
              "      <td id=\"T_f07a6_row4_col22\" class=\"data row4 col22\" >0</td>\n",
              "      <td id=\"T_f07a6_row4_col23\" class=\"data row4 col23\" >0</td>\n",
              "      <td id=\"T_f07a6_row4_col24\" class=\"data row4 col24\" >0</td>\n",
              "      <td id=\"T_f07a6_row4_col25\" class=\"data row4 col25\" >0</td>\n",
              "      <td id=\"T_f07a6_row4_col26\" class=\"data row4 col26\" >0</td>\n",
              "      <td id=\"T_f07a6_row4_col27\" class=\"data row4 col27\" >0</td>\n",
              "    </tr>\n",
              "    <tr>\n",
              "      <th id=\"T_f07a6_level0_row5\" class=\"row_heading level0 row5\" >5</th>\n",
              "      <td id=\"T_f07a6_row5_col0\" class=\"data row5 col0\" >0</td>\n",
              "      <td id=\"T_f07a6_row5_col1\" class=\"data row5 col1\" >0</td>\n",
              "      <td id=\"T_f07a6_row5_col2\" class=\"data row5 col2\" >0</td>\n",
              "      <td id=\"T_f07a6_row5_col3\" class=\"data row5 col3\" >0</td>\n",
              "      <td id=\"T_f07a6_row5_col4\" class=\"data row5 col4\" >0</td>\n",
              "      <td id=\"T_f07a6_row5_col5\" class=\"data row5 col5\" >0</td>\n",
              "      <td id=\"T_f07a6_row5_col6\" class=\"data row5 col6\" >0</td>\n",
              "      <td id=\"T_f07a6_row5_col7\" class=\"data row5 col7\" >0</td>\n",
              "      <td id=\"T_f07a6_row5_col8\" class=\"data row5 col8\" >0</td>\n",
              "      <td id=\"T_f07a6_row5_col9\" class=\"data row5 col9\" >0</td>\n",
              "      <td id=\"T_f07a6_row5_col10\" class=\"data row5 col10\" >0</td>\n",
              "      <td id=\"T_f07a6_row5_col11\" class=\"data row5 col11\" >0</td>\n",
              "      <td id=\"T_f07a6_row5_col12\" class=\"data row5 col12\" >0</td>\n",
              "      <td id=\"T_f07a6_row5_col13\" class=\"data row5 col13\" >0</td>\n",
              "      <td id=\"T_f07a6_row5_col14\" class=\"data row5 col14\" >0</td>\n",
              "      <td id=\"T_f07a6_row5_col15\" class=\"data row5 col15\" >0</td>\n",
              "      <td id=\"T_f07a6_row5_col16\" class=\"data row5 col16\" >0</td>\n",
              "      <td id=\"T_f07a6_row5_col17\" class=\"data row5 col17\" >0</td>\n",
              "      <td id=\"T_f07a6_row5_col18\" class=\"data row5 col18\" >0</td>\n",
              "      <td id=\"T_f07a6_row5_col19\" class=\"data row5 col19\" >0</td>\n",
              "      <td id=\"T_f07a6_row5_col20\" class=\"data row5 col20\" >0</td>\n",
              "      <td id=\"T_f07a6_row5_col21\" class=\"data row5 col21\" >0</td>\n",
              "      <td id=\"T_f07a6_row5_col22\" class=\"data row5 col22\" >0</td>\n",
              "      <td id=\"T_f07a6_row5_col23\" class=\"data row5 col23\" >0</td>\n",
              "      <td id=\"T_f07a6_row5_col24\" class=\"data row5 col24\" >0</td>\n",
              "      <td id=\"T_f07a6_row5_col25\" class=\"data row5 col25\" >0</td>\n",
              "      <td id=\"T_f07a6_row5_col26\" class=\"data row5 col26\" >0</td>\n",
              "      <td id=\"T_f07a6_row5_col27\" class=\"data row5 col27\" >0</td>\n",
              "    </tr>\n",
              "    <tr>\n",
              "      <th id=\"T_f07a6_level0_row6\" class=\"row_heading level0 row6\" >6</th>\n",
              "      <td id=\"T_f07a6_row6_col0\" class=\"data row6 col0\" >0</td>\n",
              "      <td id=\"T_f07a6_row6_col1\" class=\"data row6 col1\" >0</td>\n",
              "      <td id=\"T_f07a6_row6_col2\" class=\"data row6 col2\" >0</td>\n",
              "      <td id=\"T_f07a6_row6_col3\" class=\"data row6 col3\" >0</td>\n",
              "      <td id=\"T_f07a6_row6_col4\" class=\"data row6 col4\" >0</td>\n",
              "      <td id=\"T_f07a6_row6_col5\" class=\"data row6 col5\" >0</td>\n",
              "      <td id=\"T_f07a6_row6_col6\" class=\"data row6 col6\" >0</td>\n",
              "      <td id=\"T_f07a6_row6_col7\" class=\"data row6 col7\" >0</td>\n",
              "      <td id=\"T_f07a6_row6_col8\" class=\"data row6 col8\" >0</td>\n",
              "      <td id=\"T_f07a6_row6_col9\" class=\"data row6 col9\" >0</td>\n",
              "      <td id=\"T_f07a6_row6_col10\" class=\"data row6 col10\" >0</td>\n",
              "      <td id=\"T_f07a6_row6_col11\" class=\"data row6 col11\" >0</td>\n",
              "      <td id=\"T_f07a6_row6_col12\" class=\"data row6 col12\" >0</td>\n",
              "      <td id=\"T_f07a6_row6_col13\" class=\"data row6 col13\" >0</td>\n",
              "      <td id=\"T_f07a6_row6_col14\" class=\"data row6 col14\" >0</td>\n",
              "      <td id=\"T_f07a6_row6_col15\" class=\"data row6 col15\" >0</td>\n",
              "      <td id=\"T_f07a6_row6_col16\" class=\"data row6 col16\" >0</td>\n",
              "      <td id=\"T_f07a6_row6_col17\" class=\"data row6 col17\" >0</td>\n",
              "      <td id=\"T_f07a6_row6_col18\" class=\"data row6 col18\" >0</td>\n",
              "      <td id=\"T_f07a6_row6_col19\" class=\"data row6 col19\" >0</td>\n",
              "      <td id=\"T_f07a6_row6_col20\" class=\"data row6 col20\" >0</td>\n",
              "      <td id=\"T_f07a6_row6_col21\" class=\"data row6 col21\" >0</td>\n",
              "      <td id=\"T_f07a6_row6_col22\" class=\"data row6 col22\" >0</td>\n",
              "      <td id=\"T_f07a6_row6_col23\" class=\"data row6 col23\" >0</td>\n",
              "      <td id=\"T_f07a6_row6_col24\" class=\"data row6 col24\" >0</td>\n",
              "      <td id=\"T_f07a6_row6_col25\" class=\"data row6 col25\" >0</td>\n",
              "      <td id=\"T_f07a6_row6_col26\" class=\"data row6 col26\" >0</td>\n",
              "      <td id=\"T_f07a6_row6_col27\" class=\"data row6 col27\" >0</td>\n",
              "    </tr>\n",
              "    <tr>\n",
              "      <th id=\"T_f07a6_level0_row7\" class=\"row_heading level0 row7\" >7</th>\n",
              "      <td id=\"T_f07a6_row7_col0\" class=\"data row7 col0\" >0</td>\n",
              "      <td id=\"T_f07a6_row7_col1\" class=\"data row7 col1\" >0</td>\n",
              "      <td id=\"T_f07a6_row7_col2\" class=\"data row7 col2\" >0</td>\n",
              "      <td id=\"T_f07a6_row7_col3\" class=\"data row7 col3\" >0</td>\n",
              "      <td id=\"T_f07a6_row7_col4\" class=\"data row7 col4\" >0</td>\n",
              "      <td id=\"T_f07a6_row7_col5\" class=\"data row7 col5\" >0</td>\n",
              "      <td id=\"T_f07a6_row7_col6\" class=\"data row7 col6\" >0</td>\n",
              "      <td id=\"T_f07a6_row7_col7\" class=\"data row7 col7\" >0</td>\n",
              "      <td id=\"T_f07a6_row7_col8\" class=\"data row7 col8\" >0</td>\n",
              "      <td id=\"T_f07a6_row7_col9\" class=\"data row7 col9\" >0</td>\n",
              "      <td id=\"T_f07a6_row7_col10\" class=\"data row7 col10\" >0</td>\n",
              "      <td id=\"T_f07a6_row7_col11\" class=\"data row7 col11\" >9</td>\n",
              "      <td id=\"T_f07a6_row7_col12\" class=\"data row7 col12\" >9</td>\n",
              "      <td id=\"T_f07a6_row7_col13\" class=\"data row7 col13\" >14</td>\n",
              "      <td id=\"T_f07a6_row7_col14\" class=\"data row7 col14\" >18</td>\n",
              "      <td id=\"T_f07a6_row7_col15\" class=\"data row7 col15\" >71</td>\n",
              "      <td id=\"T_f07a6_row7_col16\" class=\"data row7 col16\" >141</td>\n",
              "      <td id=\"T_f07a6_row7_col17\" class=\"data row7 col17\" >255</td>\n",
              "      <td id=\"T_f07a6_row7_col18\" class=\"data row7 col18\" >177</td>\n",
              "      <td id=\"T_f07a6_row7_col19\" class=\"data row7 col19\" >102</td>\n",
              "      <td id=\"T_f07a6_row7_col20\" class=\"data row7 col20\" >0</td>\n",
              "      <td id=\"T_f07a6_row7_col21\" class=\"data row7 col21\" >0</td>\n",
              "      <td id=\"T_f07a6_row7_col22\" class=\"data row7 col22\" >0</td>\n",
              "      <td id=\"T_f07a6_row7_col23\" class=\"data row7 col23\" >0</td>\n",
              "      <td id=\"T_f07a6_row7_col24\" class=\"data row7 col24\" >0</td>\n",
              "      <td id=\"T_f07a6_row7_col25\" class=\"data row7 col25\" >0</td>\n",
              "      <td id=\"T_f07a6_row7_col26\" class=\"data row7 col26\" >0</td>\n",
              "      <td id=\"T_f07a6_row7_col27\" class=\"data row7 col27\" >0</td>\n",
              "    </tr>\n",
              "    <tr>\n",
              "      <th id=\"T_f07a6_level0_row8\" class=\"row_heading level0 row8\" >8</th>\n",
              "      <td id=\"T_f07a6_row8_col0\" class=\"data row8 col0\" >0</td>\n",
              "      <td id=\"T_f07a6_row8_col1\" class=\"data row8 col1\" >0</td>\n",
              "      <td id=\"T_f07a6_row8_col2\" class=\"data row8 col2\" >0</td>\n",
              "      <td id=\"T_f07a6_row8_col3\" class=\"data row8 col3\" >0</td>\n",
              "      <td id=\"T_f07a6_row8_col4\" class=\"data row8 col4\" >0</td>\n",
              "      <td id=\"T_f07a6_row8_col5\" class=\"data row8 col5\" >33</td>\n",
              "      <td id=\"T_f07a6_row8_col6\" class=\"data row8 col6\" >154</td>\n",
              "      <td id=\"T_f07a6_row8_col7\" class=\"data row8 col7\" >154</td>\n",
              "      <td id=\"T_f07a6_row8_col8\" class=\"data row8 col8\" >154</td>\n",
              "      <td id=\"T_f07a6_row8_col9\" class=\"data row8 col9\" >154</td>\n",
              "      <td id=\"T_f07a6_row8_col10\" class=\"data row8 col10\" >154</td>\n",
              "      <td id=\"T_f07a6_row8_col11\" class=\"data row8 col11\" >200</td>\n",
              "      <td id=\"T_f07a6_row8_col12\" class=\"data row8 col12\" >200</td>\n",
              "      <td id=\"T_f07a6_row8_col13\" class=\"data row8 col13\" >231</td>\n",
              "      <td id=\"T_f07a6_row8_col14\" class=\"data row8 col14\" >253</td>\n",
              "      <td id=\"T_f07a6_row8_col15\" class=\"data row8 col15\" >253</td>\n",
              "      <td id=\"T_f07a6_row8_col16\" class=\"data row8 col16\" >253</td>\n",
              "      <td id=\"T_f07a6_row8_col17\" class=\"data row8 col17\" >253</td>\n",
              "      <td id=\"T_f07a6_row8_col18\" class=\"data row8 col18\" >253</td>\n",
              "      <td id=\"T_f07a6_row8_col19\" class=\"data row8 col19\" >228</td>\n",
              "      <td id=\"T_f07a6_row8_col20\" class=\"data row8 col20\" >32</td>\n",
              "      <td id=\"T_f07a6_row8_col21\" class=\"data row8 col21\" >0</td>\n",
              "      <td id=\"T_f07a6_row8_col22\" class=\"data row8 col22\" >0</td>\n",
              "      <td id=\"T_f07a6_row8_col23\" class=\"data row8 col23\" >0</td>\n",
              "      <td id=\"T_f07a6_row8_col24\" class=\"data row8 col24\" >0</td>\n",
              "      <td id=\"T_f07a6_row8_col25\" class=\"data row8 col25\" >0</td>\n",
              "      <td id=\"T_f07a6_row8_col26\" class=\"data row8 col26\" >0</td>\n",
              "      <td id=\"T_f07a6_row8_col27\" class=\"data row8 col27\" >0</td>\n",
              "    </tr>\n",
              "    <tr>\n",
              "      <th id=\"T_f07a6_level0_row9\" class=\"row_heading level0 row9\" >9</th>\n",
              "      <td id=\"T_f07a6_row9_col0\" class=\"data row9 col0\" >0</td>\n",
              "      <td id=\"T_f07a6_row9_col1\" class=\"data row9 col1\" >0</td>\n",
              "      <td id=\"T_f07a6_row9_col2\" class=\"data row9 col2\" >0</td>\n",
              "      <td id=\"T_f07a6_row9_col3\" class=\"data row9 col3\" >0</td>\n",
              "      <td id=\"T_f07a6_row9_col4\" class=\"data row9 col4\" >0</td>\n",
              "      <td id=\"T_f07a6_row9_col5\" class=\"data row9 col5\" >79</td>\n",
              "      <td id=\"T_f07a6_row9_col6\" class=\"data row9 col6\" >253</td>\n",
              "      <td id=\"T_f07a6_row9_col7\" class=\"data row9 col7\" >253</td>\n",
              "      <td id=\"T_f07a6_row9_col8\" class=\"data row9 col8\" >253</td>\n",
              "      <td id=\"T_f07a6_row9_col9\" class=\"data row9 col9\" >253</td>\n",
              "      <td id=\"T_f07a6_row9_col10\" class=\"data row9 col10\" >253</td>\n",
              "      <td id=\"T_f07a6_row9_col11\" class=\"data row9 col11\" >253</td>\n",
              "      <td id=\"T_f07a6_row9_col12\" class=\"data row9 col12\" >253</td>\n",
              "      <td id=\"T_f07a6_row9_col13\" class=\"data row9 col13\" >253</td>\n",
              "      <td id=\"T_f07a6_row9_col14\" class=\"data row9 col14\" >253</td>\n",
              "      <td id=\"T_f07a6_row9_col15\" class=\"data row9 col15\" >253</td>\n",
              "      <td id=\"T_f07a6_row9_col16\" class=\"data row9 col16\" >253</td>\n",
              "      <td id=\"T_f07a6_row9_col17\" class=\"data row9 col17\" >253</td>\n",
              "      <td id=\"T_f07a6_row9_col18\" class=\"data row9 col18\" >253</td>\n",
              "      <td id=\"T_f07a6_row9_col19\" class=\"data row9 col19\" >253</td>\n",
              "      <td id=\"T_f07a6_row9_col20\" class=\"data row9 col20\" >53</td>\n",
              "      <td id=\"T_f07a6_row9_col21\" class=\"data row9 col21\" >0</td>\n",
              "      <td id=\"T_f07a6_row9_col22\" class=\"data row9 col22\" >0</td>\n",
              "      <td id=\"T_f07a6_row9_col23\" class=\"data row9 col23\" >0</td>\n",
              "      <td id=\"T_f07a6_row9_col24\" class=\"data row9 col24\" >0</td>\n",
              "      <td id=\"T_f07a6_row9_col25\" class=\"data row9 col25\" >0</td>\n",
              "      <td id=\"T_f07a6_row9_col26\" class=\"data row9 col26\" >0</td>\n",
              "      <td id=\"T_f07a6_row9_col27\" class=\"data row9 col27\" >0</td>\n",
              "    </tr>\n",
              "    <tr>\n",
              "      <th id=\"T_f07a6_level0_row10\" class=\"row_heading level0 row10\" >10</th>\n",
              "      <td id=\"T_f07a6_row10_col0\" class=\"data row10 col0\" >0</td>\n",
              "      <td id=\"T_f07a6_row10_col1\" class=\"data row10 col1\" >0</td>\n",
              "      <td id=\"T_f07a6_row10_col2\" class=\"data row10 col2\" >0</td>\n",
              "      <td id=\"T_f07a6_row10_col3\" class=\"data row10 col3\" >0</td>\n",
              "      <td id=\"T_f07a6_row10_col4\" class=\"data row10 col4\" >0</td>\n",
              "      <td id=\"T_f07a6_row10_col5\" class=\"data row10 col5\" >171</td>\n",
              "      <td id=\"T_f07a6_row10_col6\" class=\"data row10 col6\" >253</td>\n",
              "      <td id=\"T_f07a6_row10_col7\" class=\"data row10 col7\" >253</td>\n",
              "      <td id=\"T_f07a6_row10_col8\" class=\"data row10 col8\" >253</td>\n",
              "      <td id=\"T_f07a6_row10_col9\" class=\"data row10 col9\" >252</td>\n",
              "      <td id=\"T_f07a6_row10_col10\" class=\"data row10 col10\" >182</td>\n",
              "      <td id=\"T_f07a6_row10_col11\" class=\"data row10 col11\" >182</td>\n",
              "      <td id=\"T_f07a6_row10_col12\" class=\"data row10 col12\" >182</td>\n",
              "      <td id=\"T_f07a6_row10_col13\" class=\"data row10 col13\" >182</td>\n",
              "      <td id=\"T_f07a6_row10_col14\" class=\"data row10 col14\" >182</td>\n",
              "      <td id=\"T_f07a6_row10_col15\" class=\"data row10 col15\" >214</td>\n",
              "      <td id=\"T_f07a6_row10_col16\" class=\"data row10 col16\" >253</td>\n",
              "      <td id=\"T_f07a6_row10_col17\" class=\"data row10 col17\" >253</td>\n",
              "      <td id=\"T_f07a6_row10_col18\" class=\"data row10 col18\" >253</td>\n",
              "      <td id=\"T_f07a6_row10_col19\" class=\"data row10 col19\" >253</td>\n",
              "      <td id=\"T_f07a6_row10_col20\" class=\"data row10 col20\" >53</td>\n",
              "      <td id=\"T_f07a6_row10_col21\" class=\"data row10 col21\" >0</td>\n",
              "      <td id=\"T_f07a6_row10_col22\" class=\"data row10 col22\" >0</td>\n",
              "      <td id=\"T_f07a6_row10_col23\" class=\"data row10 col23\" >0</td>\n",
              "      <td id=\"T_f07a6_row10_col24\" class=\"data row10 col24\" >0</td>\n",
              "      <td id=\"T_f07a6_row10_col25\" class=\"data row10 col25\" >0</td>\n",
              "      <td id=\"T_f07a6_row10_col26\" class=\"data row10 col26\" >0</td>\n",
              "      <td id=\"T_f07a6_row10_col27\" class=\"data row10 col27\" >0</td>\n",
              "    </tr>\n",
              "    <tr>\n",
              "      <th id=\"T_f07a6_level0_row11\" class=\"row_heading level0 row11\" >11</th>\n",
              "      <td id=\"T_f07a6_row11_col0\" class=\"data row11 col0\" >0</td>\n",
              "      <td id=\"T_f07a6_row11_col1\" class=\"data row11 col1\" >0</td>\n",
              "      <td id=\"T_f07a6_row11_col2\" class=\"data row11 col2\" >0</td>\n",
              "      <td id=\"T_f07a6_row11_col3\" class=\"data row11 col3\" >0</td>\n",
              "      <td id=\"T_f07a6_row11_col4\" class=\"data row11 col4\" >0</td>\n",
              "      <td id=\"T_f07a6_row11_col5\" class=\"data row11 col5\" >130</td>\n",
              "      <td id=\"T_f07a6_row11_col6\" class=\"data row11 col6\" >253</td>\n",
              "      <td id=\"T_f07a6_row11_col7\" class=\"data row11 col7\" >253</td>\n",
              "      <td id=\"T_f07a6_row11_col8\" class=\"data row11 col8\" >216</td>\n",
              "      <td id=\"T_f07a6_row11_col9\" class=\"data row11 col9\" >51</td>\n",
              "      <td id=\"T_f07a6_row11_col10\" class=\"data row11 col10\" >0</td>\n",
              "      <td id=\"T_f07a6_row11_col11\" class=\"data row11 col11\" >0</td>\n",
              "      <td id=\"T_f07a6_row11_col12\" class=\"data row11 col12\" >0</td>\n",
              "      <td id=\"T_f07a6_row11_col13\" class=\"data row11 col13\" >0</td>\n",
              "      <td id=\"T_f07a6_row11_col14\" class=\"data row11 col14\" >0</td>\n",
              "      <td id=\"T_f07a6_row11_col15\" class=\"data row11 col15\" >113</td>\n",
              "      <td id=\"T_f07a6_row11_col16\" class=\"data row11 col16\" >253</td>\n",
              "      <td id=\"T_f07a6_row11_col17\" class=\"data row11 col17\" >253</td>\n",
              "      <td id=\"T_f07a6_row11_col18\" class=\"data row11 col18\" >253</td>\n",
              "      <td id=\"T_f07a6_row11_col19\" class=\"data row11 col19\" >200</td>\n",
              "      <td id=\"T_f07a6_row11_col20\" class=\"data row11 col20\" >10</td>\n",
              "      <td id=\"T_f07a6_row11_col21\" class=\"data row11 col21\" >0</td>\n",
              "      <td id=\"T_f07a6_row11_col22\" class=\"data row11 col22\" >0</td>\n",
              "      <td id=\"T_f07a6_row11_col23\" class=\"data row11 col23\" >0</td>\n",
              "      <td id=\"T_f07a6_row11_col24\" class=\"data row11 col24\" >0</td>\n",
              "      <td id=\"T_f07a6_row11_col25\" class=\"data row11 col25\" >0</td>\n",
              "      <td id=\"T_f07a6_row11_col26\" class=\"data row11 col26\" >0</td>\n",
              "      <td id=\"T_f07a6_row11_col27\" class=\"data row11 col27\" >0</td>\n",
              "    </tr>\n",
              "    <tr>\n",
              "      <th id=\"T_f07a6_level0_row12\" class=\"row_heading level0 row12\" >12</th>\n",
              "      <td id=\"T_f07a6_row12_col0\" class=\"data row12 col0\" >0</td>\n",
              "      <td id=\"T_f07a6_row12_col1\" class=\"data row12 col1\" >0</td>\n",
              "      <td id=\"T_f07a6_row12_col2\" class=\"data row12 col2\" >0</td>\n",
              "      <td id=\"T_f07a6_row12_col3\" class=\"data row12 col3\" >0</td>\n",
              "      <td id=\"T_f07a6_row12_col4\" class=\"data row12 col4\" >0</td>\n",
              "      <td id=\"T_f07a6_row12_col5\" class=\"data row12 col5\" >31</td>\n",
              "      <td id=\"T_f07a6_row12_col6\" class=\"data row12 col6\" >176</td>\n",
              "      <td id=\"T_f07a6_row12_col7\" class=\"data row12 col7\" >253</td>\n",
              "      <td id=\"T_f07a6_row12_col8\" class=\"data row12 col8\" >98</td>\n",
              "      <td id=\"T_f07a6_row12_col9\" class=\"data row12 col9\" >0</td>\n",
              "      <td id=\"T_f07a6_row12_col10\" class=\"data row12 col10\" >0</td>\n",
              "      <td id=\"T_f07a6_row12_col11\" class=\"data row12 col11\" >0</td>\n",
              "      <td id=\"T_f07a6_row12_col12\" class=\"data row12 col12\" >0</td>\n",
              "      <td id=\"T_f07a6_row12_col13\" class=\"data row12 col13\" >0</td>\n",
              "      <td id=\"T_f07a6_row12_col14\" class=\"data row12 col14\" >0</td>\n",
              "      <td id=\"T_f07a6_row12_col15\" class=\"data row12 col15\" >113</td>\n",
              "      <td id=\"T_f07a6_row12_col16\" class=\"data row12 col16\" >253</td>\n",
              "      <td id=\"T_f07a6_row12_col17\" class=\"data row12 col17\" >253</td>\n",
              "      <td id=\"T_f07a6_row12_col18\" class=\"data row12 col18\" >253</td>\n",
              "      <td id=\"T_f07a6_row12_col19\" class=\"data row12 col19\" >188</td>\n",
              "      <td id=\"T_f07a6_row12_col20\" class=\"data row12 col20\" >0</td>\n",
              "      <td id=\"T_f07a6_row12_col21\" class=\"data row12 col21\" >0</td>\n",
              "      <td id=\"T_f07a6_row12_col22\" class=\"data row12 col22\" >0</td>\n",
              "      <td id=\"T_f07a6_row12_col23\" class=\"data row12 col23\" >0</td>\n",
              "      <td id=\"T_f07a6_row12_col24\" class=\"data row12 col24\" >0</td>\n",
              "      <td id=\"T_f07a6_row12_col25\" class=\"data row12 col25\" >0</td>\n",
              "      <td id=\"T_f07a6_row12_col26\" class=\"data row12 col26\" >0</td>\n",
              "      <td id=\"T_f07a6_row12_col27\" class=\"data row12 col27\" >0</td>\n",
              "    </tr>\n",
              "    <tr>\n",
              "      <th id=\"T_f07a6_level0_row13\" class=\"row_heading level0 row13\" >13</th>\n",
              "      <td id=\"T_f07a6_row13_col0\" class=\"data row13 col0\" >0</td>\n",
              "      <td id=\"T_f07a6_row13_col1\" class=\"data row13 col1\" >0</td>\n",
              "      <td id=\"T_f07a6_row13_col2\" class=\"data row13 col2\" >0</td>\n",
              "      <td id=\"T_f07a6_row13_col3\" class=\"data row13 col3\" >0</td>\n",
              "      <td id=\"T_f07a6_row13_col4\" class=\"data row13 col4\" >0</td>\n",
              "      <td id=\"T_f07a6_row13_col5\" class=\"data row13 col5\" >0</td>\n",
              "      <td id=\"T_f07a6_row13_col6\" class=\"data row13 col6\" >3</td>\n",
              "      <td id=\"T_f07a6_row13_col7\" class=\"data row13 col7\" >67</td>\n",
              "      <td id=\"T_f07a6_row13_col8\" class=\"data row13 col8\" >2</td>\n",
              "      <td id=\"T_f07a6_row13_col9\" class=\"data row13 col9\" >0</td>\n",
              "      <td id=\"T_f07a6_row13_col10\" class=\"data row13 col10\" >0</td>\n",
              "      <td id=\"T_f07a6_row13_col11\" class=\"data row13 col11\" >0</td>\n",
              "      <td id=\"T_f07a6_row13_col12\" class=\"data row13 col12\" >0</td>\n",
              "      <td id=\"T_f07a6_row13_col13\" class=\"data row13 col13\" >0</td>\n",
              "      <td id=\"T_f07a6_row13_col14\" class=\"data row13 col14\" >0</td>\n",
              "      <td id=\"T_f07a6_row13_col15\" class=\"data row13 col15\" >113</td>\n",
              "      <td id=\"T_f07a6_row13_col16\" class=\"data row13 col16\" >253</td>\n",
              "      <td id=\"T_f07a6_row13_col17\" class=\"data row13 col17\" >253</td>\n",
              "      <td id=\"T_f07a6_row13_col18\" class=\"data row13 col18\" >253</td>\n",
              "      <td id=\"T_f07a6_row13_col19\" class=\"data row13 col19\" >75</td>\n",
              "      <td id=\"T_f07a6_row13_col20\" class=\"data row13 col20\" >0</td>\n",
              "      <td id=\"T_f07a6_row13_col21\" class=\"data row13 col21\" >0</td>\n",
              "      <td id=\"T_f07a6_row13_col22\" class=\"data row13 col22\" >0</td>\n",
              "      <td id=\"T_f07a6_row13_col23\" class=\"data row13 col23\" >0</td>\n",
              "      <td id=\"T_f07a6_row13_col24\" class=\"data row13 col24\" >0</td>\n",
              "      <td id=\"T_f07a6_row13_col25\" class=\"data row13 col25\" >0</td>\n",
              "      <td id=\"T_f07a6_row13_col26\" class=\"data row13 col26\" >0</td>\n",
              "      <td id=\"T_f07a6_row13_col27\" class=\"data row13 col27\" >0</td>\n",
              "    </tr>\n",
              "    <tr>\n",
              "      <th id=\"T_f07a6_level0_row14\" class=\"row_heading level0 row14\" >14</th>\n",
              "      <td id=\"T_f07a6_row14_col0\" class=\"data row14 col0\" >0</td>\n",
              "      <td id=\"T_f07a6_row14_col1\" class=\"data row14 col1\" >0</td>\n",
              "      <td id=\"T_f07a6_row14_col2\" class=\"data row14 col2\" >0</td>\n",
              "      <td id=\"T_f07a6_row14_col3\" class=\"data row14 col3\" >0</td>\n",
              "      <td id=\"T_f07a6_row14_col4\" class=\"data row14 col4\" >0</td>\n",
              "      <td id=\"T_f07a6_row14_col5\" class=\"data row14 col5\" >0</td>\n",
              "      <td id=\"T_f07a6_row14_col6\" class=\"data row14 col6\" >0</td>\n",
              "      <td id=\"T_f07a6_row14_col7\" class=\"data row14 col7\" >0</td>\n",
              "      <td id=\"T_f07a6_row14_col8\" class=\"data row14 col8\" >0</td>\n",
              "      <td id=\"T_f07a6_row14_col9\" class=\"data row14 col9\" >0</td>\n",
              "      <td id=\"T_f07a6_row14_col10\" class=\"data row14 col10\" >0</td>\n",
              "      <td id=\"T_f07a6_row14_col11\" class=\"data row14 col11\" >0</td>\n",
              "      <td id=\"T_f07a6_row14_col12\" class=\"data row14 col12\" >0</td>\n",
              "      <td id=\"T_f07a6_row14_col13\" class=\"data row14 col13\" >0</td>\n",
              "      <td id=\"T_f07a6_row14_col14\" class=\"data row14 col14\" >0</td>\n",
              "      <td id=\"T_f07a6_row14_col15\" class=\"data row14 col15\" >124</td>\n",
              "      <td id=\"T_f07a6_row14_col16\" class=\"data row14 col16\" >253</td>\n",
              "      <td id=\"T_f07a6_row14_col17\" class=\"data row14 col17\" >253</td>\n",
              "      <td id=\"T_f07a6_row14_col18\" class=\"data row14 col18\" >253</td>\n",
              "      <td id=\"T_f07a6_row14_col19\" class=\"data row14 col19\" >70</td>\n",
              "      <td id=\"T_f07a6_row14_col20\" class=\"data row14 col20\" >0</td>\n",
              "      <td id=\"T_f07a6_row14_col21\" class=\"data row14 col21\" >0</td>\n",
              "      <td id=\"T_f07a6_row14_col22\" class=\"data row14 col22\" >0</td>\n",
              "      <td id=\"T_f07a6_row14_col23\" class=\"data row14 col23\" >0</td>\n",
              "      <td id=\"T_f07a6_row14_col24\" class=\"data row14 col24\" >0</td>\n",
              "      <td id=\"T_f07a6_row14_col25\" class=\"data row14 col25\" >0</td>\n",
              "      <td id=\"T_f07a6_row14_col26\" class=\"data row14 col26\" >0</td>\n",
              "      <td id=\"T_f07a6_row14_col27\" class=\"data row14 col27\" >0</td>\n",
              "    </tr>\n",
              "    <tr>\n",
              "      <th id=\"T_f07a6_level0_row15\" class=\"row_heading level0 row15\" >15</th>\n",
              "      <td id=\"T_f07a6_row15_col0\" class=\"data row15 col0\" >0</td>\n",
              "      <td id=\"T_f07a6_row15_col1\" class=\"data row15 col1\" >0</td>\n",
              "      <td id=\"T_f07a6_row15_col2\" class=\"data row15 col2\" >0</td>\n",
              "      <td id=\"T_f07a6_row15_col3\" class=\"data row15 col3\" >0</td>\n",
              "      <td id=\"T_f07a6_row15_col4\" class=\"data row15 col4\" >0</td>\n",
              "      <td id=\"T_f07a6_row15_col5\" class=\"data row15 col5\" >0</td>\n",
              "      <td id=\"T_f07a6_row15_col6\" class=\"data row15 col6\" >0</td>\n",
              "      <td id=\"T_f07a6_row15_col7\" class=\"data row15 col7\" >0</td>\n",
              "      <td id=\"T_f07a6_row15_col8\" class=\"data row15 col8\" >0</td>\n",
              "      <td id=\"T_f07a6_row15_col9\" class=\"data row15 col9\" >0</td>\n",
              "      <td id=\"T_f07a6_row15_col10\" class=\"data row15 col10\" >0</td>\n",
              "      <td id=\"T_f07a6_row15_col11\" class=\"data row15 col11\" >0</td>\n",
              "      <td id=\"T_f07a6_row15_col12\" class=\"data row15 col12\" >0</td>\n",
              "      <td id=\"T_f07a6_row15_col13\" class=\"data row15 col13\" >0</td>\n",
              "      <td id=\"T_f07a6_row15_col14\" class=\"data row15 col14\" >0</td>\n",
              "      <td id=\"T_f07a6_row15_col15\" class=\"data row15 col15\" >231</td>\n",
              "      <td id=\"T_f07a6_row15_col16\" class=\"data row15 col16\" >253</td>\n",
              "      <td id=\"T_f07a6_row15_col17\" class=\"data row15 col17\" >253</td>\n",
              "      <td id=\"T_f07a6_row15_col18\" class=\"data row15 col18\" >246</td>\n",
              "      <td id=\"T_f07a6_row15_col19\" class=\"data row15 col19\" >59</td>\n",
              "      <td id=\"T_f07a6_row15_col20\" class=\"data row15 col20\" >0</td>\n",
              "      <td id=\"T_f07a6_row15_col21\" class=\"data row15 col21\" >0</td>\n",
              "      <td id=\"T_f07a6_row15_col22\" class=\"data row15 col22\" >0</td>\n",
              "      <td id=\"T_f07a6_row15_col23\" class=\"data row15 col23\" >0</td>\n",
              "      <td id=\"T_f07a6_row15_col24\" class=\"data row15 col24\" >0</td>\n",
              "      <td id=\"T_f07a6_row15_col25\" class=\"data row15 col25\" >0</td>\n",
              "      <td id=\"T_f07a6_row15_col26\" class=\"data row15 col26\" >0</td>\n",
              "      <td id=\"T_f07a6_row15_col27\" class=\"data row15 col27\" >0</td>\n",
              "    </tr>\n",
              "    <tr>\n",
              "      <th id=\"T_f07a6_level0_row16\" class=\"row_heading level0 row16\" >16</th>\n",
              "      <td id=\"T_f07a6_row16_col0\" class=\"data row16 col0\" >0</td>\n",
              "      <td id=\"T_f07a6_row16_col1\" class=\"data row16 col1\" >0</td>\n",
              "      <td id=\"T_f07a6_row16_col2\" class=\"data row16 col2\" >0</td>\n",
              "      <td id=\"T_f07a6_row16_col3\" class=\"data row16 col3\" >0</td>\n",
              "      <td id=\"T_f07a6_row16_col4\" class=\"data row16 col4\" >0</td>\n",
              "      <td id=\"T_f07a6_row16_col5\" class=\"data row16 col5\" >0</td>\n",
              "      <td id=\"T_f07a6_row16_col6\" class=\"data row16 col6\" >0</td>\n",
              "      <td id=\"T_f07a6_row16_col7\" class=\"data row16 col7\" >0</td>\n",
              "      <td id=\"T_f07a6_row16_col8\" class=\"data row16 col8\" >0</td>\n",
              "      <td id=\"T_f07a6_row16_col9\" class=\"data row16 col9\" >0</td>\n",
              "      <td id=\"T_f07a6_row16_col10\" class=\"data row16 col10\" >0</td>\n",
              "      <td id=\"T_f07a6_row16_col11\" class=\"data row16 col11\" >0</td>\n",
              "      <td id=\"T_f07a6_row16_col12\" class=\"data row16 col12\" >0</td>\n",
              "      <td id=\"T_f07a6_row16_col13\" class=\"data row16 col13\" >0</td>\n",
              "      <td id=\"T_f07a6_row16_col14\" class=\"data row16 col14\" >67</td>\n",
              "      <td id=\"T_f07a6_row16_col15\" class=\"data row16 col15\" >247</td>\n",
              "      <td id=\"T_f07a6_row16_col16\" class=\"data row16 col16\" >253</td>\n",
              "      <td id=\"T_f07a6_row16_col17\" class=\"data row16 col17\" >253</td>\n",
              "      <td id=\"T_f07a6_row16_col18\" class=\"data row16 col18\" >178</td>\n",
              "      <td id=\"T_f07a6_row16_col19\" class=\"data row16 col19\" >0</td>\n",
              "      <td id=\"T_f07a6_row16_col20\" class=\"data row16 col20\" >0</td>\n",
              "      <td id=\"T_f07a6_row16_col21\" class=\"data row16 col21\" >0</td>\n",
              "      <td id=\"T_f07a6_row16_col22\" class=\"data row16 col22\" >0</td>\n",
              "      <td id=\"T_f07a6_row16_col23\" class=\"data row16 col23\" >0</td>\n",
              "      <td id=\"T_f07a6_row16_col24\" class=\"data row16 col24\" >0</td>\n",
              "      <td id=\"T_f07a6_row16_col25\" class=\"data row16 col25\" >0</td>\n",
              "      <td id=\"T_f07a6_row16_col26\" class=\"data row16 col26\" >0</td>\n",
              "      <td id=\"T_f07a6_row16_col27\" class=\"data row16 col27\" >0</td>\n",
              "    </tr>\n",
              "    <tr>\n",
              "      <th id=\"T_f07a6_level0_row17\" class=\"row_heading level0 row17\" >17</th>\n",
              "      <td id=\"T_f07a6_row17_col0\" class=\"data row17 col0\" >0</td>\n",
              "      <td id=\"T_f07a6_row17_col1\" class=\"data row17 col1\" >0</td>\n",
              "      <td id=\"T_f07a6_row17_col2\" class=\"data row17 col2\" >0</td>\n",
              "      <td id=\"T_f07a6_row17_col3\" class=\"data row17 col3\" >0</td>\n",
              "      <td id=\"T_f07a6_row17_col4\" class=\"data row17 col4\" >0</td>\n",
              "      <td id=\"T_f07a6_row17_col5\" class=\"data row17 col5\" >0</td>\n",
              "      <td id=\"T_f07a6_row17_col6\" class=\"data row17 col6\" >0</td>\n",
              "      <td id=\"T_f07a6_row17_col7\" class=\"data row17 col7\" >0</td>\n",
              "      <td id=\"T_f07a6_row17_col8\" class=\"data row17 col8\" >0</td>\n",
              "      <td id=\"T_f07a6_row17_col9\" class=\"data row17 col9\" >0</td>\n",
              "      <td id=\"T_f07a6_row17_col10\" class=\"data row17 col10\" >0</td>\n",
              "      <td id=\"T_f07a6_row17_col11\" class=\"data row17 col11\" >0</td>\n",
              "      <td id=\"T_f07a6_row17_col12\" class=\"data row17 col12\" >0</td>\n",
              "      <td id=\"T_f07a6_row17_col13\" class=\"data row17 col13\" >0</td>\n",
              "      <td id=\"T_f07a6_row17_col14\" class=\"data row17 col14\" >186</td>\n",
              "      <td id=\"T_f07a6_row17_col15\" class=\"data row17 col15\" >253</td>\n",
              "      <td id=\"T_f07a6_row17_col16\" class=\"data row17 col16\" >253</td>\n",
              "      <td id=\"T_f07a6_row17_col17\" class=\"data row17 col17\" >253</td>\n",
              "      <td id=\"T_f07a6_row17_col18\" class=\"data row17 col18\" >88</td>\n",
              "      <td id=\"T_f07a6_row17_col19\" class=\"data row17 col19\" >0</td>\n",
              "      <td id=\"T_f07a6_row17_col20\" class=\"data row17 col20\" >0</td>\n",
              "      <td id=\"T_f07a6_row17_col21\" class=\"data row17 col21\" >0</td>\n",
              "      <td id=\"T_f07a6_row17_col22\" class=\"data row17 col22\" >0</td>\n",
              "      <td id=\"T_f07a6_row17_col23\" class=\"data row17 col23\" >0</td>\n",
              "      <td id=\"T_f07a6_row17_col24\" class=\"data row17 col24\" >0</td>\n",
              "      <td id=\"T_f07a6_row17_col25\" class=\"data row17 col25\" >0</td>\n",
              "      <td id=\"T_f07a6_row17_col26\" class=\"data row17 col26\" >0</td>\n",
              "      <td id=\"T_f07a6_row17_col27\" class=\"data row17 col27\" >0</td>\n",
              "    </tr>\n",
              "    <tr>\n",
              "      <th id=\"T_f07a6_level0_row18\" class=\"row_heading level0 row18\" >18</th>\n",
              "      <td id=\"T_f07a6_row18_col0\" class=\"data row18 col0\" >0</td>\n",
              "      <td id=\"T_f07a6_row18_col1\" class=\"data row18 col1\" >0</td>\n",
              "      <td id=\"T_f07a6_row18_col2\" class=\"data row18 col2\" >0</td>\n",
              "      <td id=\"T_f07a6_row18_col3\" class=\"data row18 col3\" >0</td>\n",
              "      <td id=\"T_f07a6_row18_col4\" class=\"data row18 col4\" >0</td>\n",
              "      <td id=\"T_f07a6_row18_col5\" class=\"data row18 col5\" >0</td>\n",
              "      <td id=\"T_f07a6_row18_col6\" class=\"data row18 col6\" >0</td>\n",
              "      <td id=\"T_f07a6_row18_col7\" class=\"data row18 col7\" >0</td>\n",
              "      <td id=\"T_f07a6_row18_col8\" class=\"data row18 col8\" >0</td>\n",
              "      <td id=\"T_f07a6_row18_col9\" class=\"data row18 col9\" >0</td>\n",
              "      <td id=\"T_f07a6_row18_col10\" class=\"data row18 col10\" >0</td>\n",
              "      <td id=\"T_f07a6_row18_col11\" class=\"data row18 col11\" >0</td>\n",
              "      <td id=\"T_f07a6_row18_col12\" class=\"data row18 col12\" >0</td>\n",
              "      <td id=\"T_f07a6_row18_col13\" class=\"data row18 col13\" >0</td>\n",
              "      <td id=\"T_f07a6_row18_col14\" class=\"data row18 col14\" >213</td>\n",
              "      <td id=\"T_f07a6_row18_col15\" class=\"data row18 col15\" >253</td>\n",
              "      <td id=\"T_f07a6_row18_col16\" class=\"data row18 col16\" >253</td>\n",
              "      <td id=\"T_f07a6_row18_col17\" class=\"data row18 col17\" >253</td>\n",
              "      <td id=\"T_f07a6_row18_col18\" class=\"data row18 col18\" >88</td>\n",
              "      <td id=\"T_f07a6_row18_col19\" class=\"data row18 col19\" >0</td>\n",
              "      <td id=\"T_f07a6_row18_col20\" class=\"data row18 col20\" >0</td>\n",
              "      <td id=\"T_f07a6_row18_col21\" class=\"data row18 col21\" >0</td>\n",
              "      <td id=\"T_f07a6_row18_col22\" class=\"data row18 col22\" >0</td>\n",
              "      <td id=\"T_f07a6_row18_col23\" class=\"data row18 col23\" >0</td>\n",
              "      <td id=\"T_f07a6_row18_col24\" class=\"data row18 col24\" >0</td>\n",
              "      <td id=\"T_f07a6_row18_col25\" class=\"data row18 col25\" >0</td>\n",
              "      <td id=\"T_f07a6_row18_col26\" class=\"data row18 col26\" >0</td>\n",
              "      <td id=\"T_f07a6_row18_col27\" class=\"data row18 col27\" >0</td>\n",
              "    </tr>\n",
              "    <tr>\n",
              "      <th id=\"T_f07a6_level0_row19\" class=\"row_heading level0 row19\" >19</th>\n",
              "      <td id=\"T_f07a6_row19_col0\" class=\"data row19 col0\" >0</td>\n",
              "      <td id=\"T_f07a6_row19_col1\" class=\"data row19 col1\" >0</td>\n",
              "      <td id=\"T_f07a6_row19_col2\" class=\"data row19 col2\" >0</td>\n",
              "      <td id=\"T_f07a6_row19_col3\" class=\"data row19 col3\" >0</td>\n",
              "      <td id=\"T_f07a6_row19_col4\" class=\"data row19 col4\" >0</td>\n",
              "      <td id=\"T_f07a6_row19_col5\" class=\"data row19 col5\" >0</td>\n",
              "      <td id=\"T_f07a6_row19_col6\" class=\"data row19 col6\" >0</td>\n",
              "      <td id=\"T_f07a6_row19_col7\" class=\"data row19 col7\" >0</td>\n",
              "      <td id=\"T_f07a6_row19_col8\" class=\"data row19 col8\" >0</td>\n",
              "      <td id=\"T_f07a6_row19_col9\" class=\"data row19 col9\" >0</td>\n",
              "      <td id=\"T_f07a6_row19_col10\" class=\"data row19 col10\" >0</td>\n",
              "      <td id=\"T_f07a6_row19_col11\" class=\"data row19 col11\" >0</td>\n",
              "      <td id=\"T_f07a6_row19_col12\" class=\"data row19 col12\" >0</td>\n",
              "      <td id=\"T_f07a6_row19_col13\" class=\"data row19 col13\" >35</td>\n",
              "      <td id=\"T_f07a6_row19_col14\" class=\"data row19 col14\" >231</td>\n",
              "      <td id=\"T_f07a6_row19_col15\" class=\"data row19 col15\" >253</td>\n",
              "      <td id=\"T_f07a6_row19_col16\" class=\"data row19 col16\" >253</td>\n",
              "      <td id=\"T_f07a6_row19_col17\" class=\"data row19 col17\" >226</td>\n",
              "      <td id=\"T_f07a6_row19_col18\" class=\"data row19 col18\" >8</td>\n",
              "      <td id=\"T_f07a6_row19_col19\" class=\"data row19 col19\" >0</td>\n",
              "      <td id=\"T_f07a6_row19_col20\" class=\"data row19 col20\" >0</td>\n",
              "      <td id=\"T_f07a6_row19_col21\" class=\"data row19 col21\" >0</td>\n",
              "      <td id=\"T_f07a6_row19_col22\" class=\"data row19 col22\" >0</td>\n",
              "      <td id=\"T_f07a6_row19_col23\" class=\"data row19 col23\" >0</td>\n",
              "      <td id=\"T_f07a6_row19_col24\" class=\"data row19 col24\" >0</td>\n",
              "      <td id=\"T_f07a6_row19_col25\" class=\"data row19 col25\" >0</td>\n",
              "      <td id=\"T_f07a6_row19_col26\" class=\"data row19 col26\" >0</td>\n",
              "      <td id=\"T_f07a6_row19_col27\" class=\"data row19 col27\" >0</td>\n",
              "    </tr>\n",
              "    <tr>\n",
              "      <th id=\"T_f07a6_level0_row20\" class=\"row_heading level0 row20\" >20</th>\n",
              "      <td id=\"T_f07a6_row20_col0\" class=\"data row20 col0\" >0</td>\n",
              "      <td id=\"T_f07a6_row20_col1\" class=\"data row20 col1\" >0</td>\n",
              "      <td id=\"T_f07a6_row20_col2\" class=\"data row20 col2\" >0</td>\n",
              "      <td id=\"T_f07a6_row20_col3\" class=\"data row20 col3\" >0</td>\n",
              "      <td id=\"T_f07a6_row20_col4\" class=\"data row20 col4\" >0</td>\n",
              "      <td id=\"T_f07a6_row20_col5\" class=\"data row20 col5\" >0</td>\n",
              "      <td id=\"T_f07a6_row20_col6\" class=\"data row20 col6\" >0</td>\n",
              "      <td id=\"T_f07a6_row20_col7\" class=\"data row20 col7\" >0</td>\n",
              "      <td id=\"T_f07a6_row20_col8\" class=\"data row20 col8\" >0</td>\n",
              "      <td id=\"T_f07a6_row20_col9\" class=\"data row20 col9\" >0</td>\n",
              "      <td id=\"T_f07a6_row20_col10\" class=\"data row20 col10\" >0</td>\n",
              "      <td id=\"T_f07a6_row20_col11\" class=\"data row20 col11\" >0</td>\n",
              "      <td id=\"T_f07a6_row20_col12\" class=\"data row20 col12\" >0</td>\n",
              "      <td id=\"T_f07a6_row20_col13\" class=\"data row20 col13\" >138</td>\n",
              "      <td id=\"T_f07a6_row20_col14\" class=\"data row20 col14\" >253</td>\n",
              "      <td id=\"T_f07a6_row20_col15\" class=\"data row20 col15\" >253</td>\n",
              "      <td id=\"T_f07a6_row20_col16\" class=\"data row20 col16\" >247</td>\n",
              "      <td id=\"T_f07a6_row20_col17\" class=\"data row20 col17\" >54</td>\n",
              "      <td id=\"T_f07a6_row20_col18\" class=\"data row20 col18\" >0</td>\n",
              "      <td id=\"T_f07a6_row20_col19\" class=\"data row20 col19\" >0</td>\n",
              "      <td id=\"T_f07a6_row20_col20\" class=\"data row20 col20\" >0</td>\n",
              "      <td id=\"T_f07a6_row20_col21\" class=\"data row20 col21\" >0</td>\n",
              "      <td id=\"T_f07a6_row20_col22\" class=\"data row20 col22\" >0</td>\n",
              "      <td id=\"T_f07a6_row20_col23\" class=\"data row20 col23\" >0</td>\n",
              "      <td id=\"T_f07a6_row20_col24\" class=\"data row20 col24\" >0</td>\n",
              "      <td id=\"T_f07a6_row20_col25\" class=\"data row20 col25\" >0</td>\n",
              "      <td id=\"T_f07a6_row20_col26\" class=\"data row20 col26\" >0</td>\n",
              "      <td id=\"T_f07a6_row20_col27\" class=\"data row20 col27\" >0</td>\n",
              "    </tr>\n",
              "    <tr>\n",
              "      <th id=\"T_f07a6_level0_row21\" class=\"row_heading level0 row21\" >21</th>\n",
              "      <td id=\"T_f07a6_row21_col0\" class=\"data row21 col0\" >0</td>\n",
              "      <td id=\"T_f07a6_row21_col1\" class=\"data row21 col1\" >0</td>\n",
              "      <td id=\"T_f07a6_row21_col2\" class=\"data row21 col2\" >0</td>\n",
              "      <td id=\"T_f07a6_row21_col3\" class=\"data row21 col3\" >0</td>\n",
              "      <td id=\"T_f07a6_row21_col4\" class=\"data row21 col4\" >0</td>\n",
              "      <td id=\"T_f07a6_row21_col5\" class=\"data row21 col5\" >0</td>\n",
              "      <td id=\"T_f07a6_row21_col6\" class=\"data row21 col6\" >0</td>\n",
              "      <td id=\"T_f07a6_row21_col7\" class=\"data row21 col7\" >0</td>\n",
              "      <td id=\"T_f07a6_row21_col8\" class=\"data row21 col8\" >0</td>\n",
              "      <td id=\"T_f07a6_row21_col9\" class=\"data row21 col9\" >0</td>\n",
              "      <td id=\"T_f07a6_row21_col10\" class=\"data row21 col10\" >0</td>\n",
              "      <td id=\"T_f07a6_row21_col11\" class=\"data row21 col11\" >0</td>\n",
              "      <td id=\"T_f07a6_row21_col12\" class=\"data row21 col12\" >35</td>\n",
              "      <td id=\"T_f07a6_row21_col13\" class=\"data row21 col13\" >229</td>\n",
              "      <td id=\"T_f07a6_row21_col14\" class=\"data row21 col14\" >253</td>\n",
              "      <td id=\"T_f07a6_row21_col15\" class=\"data row21 col15\" >253</td>\n",
              "      <td id=\"T_f07a6_row21_col16\" class=\"data row21 col16\" >241</td>\n",
              "      <td id=\"T_f07a6_row21_col17\" class=\"data row21 col17\" >0</td>\n",
              "      <td id=\"T_f07a6_row21_col18\" class=\"data row21 col18\" >0</td>\n",
              "      <td id=\"T_f07a6_row21_col19\" class=\"data row21 col19\" >0</td>\n",
              "      <td id=\"T_f07a6_row21_col20\" class=\"data row21 col20\" >0</td>\n",
              "      <td id=\"T_f07a6_row21_col21\" class=\"data row21 col21\" >0</td>\n",
              "      <td id=\"T_f07a6_row21_col22\" class=\"data row21 col22\" >0</td>\n",
              "      <td id=\"T_f07a6_row21_col23\" class=\"data row21 col23\" >0</td>\n",
              "      <td id=\"T_f07a6_row21_col24\" class=\"data row21 col24\" >0</td>\n",
              "      <td id=\"T_f07a6_row21_col25\" class=\"data row21 col25\" >0</td>\n",
              "      <td id=\"T_f07a6_row21_col26\" class=\"data row21 col26\" >0</td>\n",
              "      <td id=\"T_f07a6_row21_col27\" class=\"data row21 col27\" >0</td>\n",
              "    </tr>\n",
              "    <tr>\n",
              "      <th id=\"T_f07a6_level0_row22\" class=\"row_heading level0 row22\" >22</th>\n",
              "      <td id=\"T_f07a6_row22_col0\" class=\"data row22 col0\" >0</td>\n",
              "      <td id=\"T_f07a6_row22_col1\" class=\"data row22 col1\" >0</td>\n",
              "      <td id=\"T_f07a6_row22_col2\" class=\"data row22 col2\" >0</td>\n",
              "      <td id=\"T_f07a6_row22_col3\" class=\"data row22 col3\" >0</td>\n",
              "      <td id=\"T_f07a6_row22_col4\" class=\"data row22 col4\" >0</td>\n",
              "      <td id=\"T_f07a6_row22_col5\" class=\"data row22 col5\" >0</td>\n",
              "      <td id=\"T_f07a6_row22_col6\" class=\"data row22 col6\" >0</td>\n",
              "      <td id=\"T_f07a6_row22_col7\" class=\"data row22 col7\" >0</td>\n",
              "      <td id=\"T_f07a6_row22_col8\" class=\"data row22 col8\" >0</td>\n",
              "      <td id=\"T_f07a6_row22_col9\" class=\"data row22 col9\" >0</td>\n",
              "      <td id=\"T_f07a6_row22_col10\" class=\"data row22 col10\" >0</td>\n",
              "      <td id=\"T_f07a6_row22_col11\" class=\"data row22 col11\" >0</td>\n",
              "      <td id=\"T_f07a6_row22_col12\" class=\"data row22 col12\" >60</td>\n",
              "      <td id=\"T_f07a6_row22_col13\" class=\"data row22 col13\" >253</td>\n",
              "      <td id=\"T_f07a6_row22_col14\" class=\"data row22 col14\" >253</td>\n",
              "      <td id=\"T_f07a6_row22_col15\" class=\"data row22 col15\" >253</td>\n",
              "      <td id=\"T_f07a6_row22_col16\" class=\"data row22 col16\" >219</td>\n",
              "      <td id=\"T_f07a6_row22_col17\" class=\"data row22 col17\" >0</td>\n",
              "      <td id=\"T_f07a6_row22_col18\" class=\"data row22 col18\" >0</td>\n",
              "      <td id=\"T_f07a6_row22_col19\" class=\"data row22 col19\" >0</td>\n",
              "      <td id=\"T_f07a6_row22_col20\" class=\"data row22 col20\" >0</td>\n",
              "      <td id=\"T_f07a6_row22_col21\" class=\"data row22 col21\" >0</td>\n",
              "      <td id=\"T_f07a6_row22_col22\" class=\"data row22 col22\" >0</td>\n",
              "      <td id=\"T_f07a6_row22_col23\" class=\"data row22 col23\" >0</td>\n",
              "      <td id=\"T_f07a6_row22_col24\" class=\"data row22 col24\" >0</td>\n",
              "      <td id=\"T_f07a6_row22_col25\" class=\"data row22 col25\" >0</td>\n",
              "      <td id=\"T_f07a6_row22_col26\" class=\"data row22 col26\" >0</td>\n",
              "      <td id=\"T_f07a6_row22_col27\" class=\"data row22 col27\" >0</td>\n",
              "    </tr>\n",
              "    <tr>\n",
              "      <th id=\"T_f07a6_level0_row23\" class=\"row_heading level0 row23\" >23</th>\n",
              "      <td id=\"T_f07a6_row23_col0\" class=\"data row23 col0\" >0</td>\n",
              "      <td id=\"T_f07a6_row23_col1\" class=\"data row23 col1\" >0</td>\n",
              "      <td id=\"T_f07a6_row23_col2\" class=\"data row23 col2\" >0</td>\n",
              "      <td id=\"T_f07a6_row23_col3\" class=\"data row23 col3\" >0</td>\n",
              "      <td id=\"T_f07a6_row23_col4\" class=\"data row23 col4\" >0</td>\n",
              "      <td id=\"T_f07a6_row23_col5\" class=\"data row23 col5\" >0</td>\n",
              "      <td id=\"T_f07a6_row23_col6\" class=\"data row23 col6\" >0</td>\n",
              "      <td id=\"T_f07a6_row23_col7\" class=\"data row23 col7\" >0</td>\n",
              "      <td id=\"T_f07a6_row23_col8\" class=\"data row23 col8\" >0</td>\n",
              "      <td id=\"T_f07a6_row23_col9\" class=\"data row23 col9\" >0</td>\n",
              "      <td id=\"T_f07a6_row23_col10\" class=\"data row23 col10\" >0</td>\n",
              "      <td id=\"T_f07a6_row23_col11\" class=\"data row23 col11\" >0</td>\n",
              "      <td id=\"T_f07a6_row23_col12\" class=\"data row23 col12\" >145</td>\n",
              "      <td id=\"T_f07a6_row23_col13\" class=\"data row23 col13\" >253</td>\n",
              "      <td id=\"T_f07a6_row23_col14\" class=\"data row23 col14\" >253</td>\n",
              "      <td id=\"T_f07a6_row23_col15\" class=\"data row23 col15\" >253</td>\n",
              "      <td id=\"T_f07a6_row23_col16\" class=\"data row23 col16\" >124</td>\n",
              "      <td id=\"T_f07a6_row23_col17\" class=\"data row23 col17\" >0</td>\n",
              "      <td id=\"T_f07a6_row23_col18\" class=\"data row23 col18\" >0</td>\n",
              "      <td id=\"T_f07a6_row23_col19\" class=\"data row23 col19\" >0</td>\n",
              "      <td id=\"T_f07a6_row23_col20\" class=\"data row23 col20\" >0</td>\n",
              "      <td id=\"T_f07a6_row23_col21\" class=\"data row23 col21\" >0</td>\n",
              "      <td id=\"T_f07a6_row23_col22\" class=\"data row23 col22\" >0</td>\n",
              "      <td id=\"T_f07a6_row23_col23\" class=\"data row23 col23\" >0</td>\n",
              "      <td id=\"T_f07a6_row23_col24\" class=\"data row23 col24\" >0</td>\n",
              "      <td id=\"T_f07a6_row23_col25\" class=\"data row23 col25\" >0</td>\n",
              "      <td id=\"T_f07a6_row23_col26\" class=\"data row23 col26\" >0</td>\n",
              "      <td id=\"T_f07a6_row23_col27\" class=\"data row23 col27\" >0</td>\n",
              "    </tr>\n",
              "    <tr>\n",
              "      <th id=\"T_f07a6_level0_row24\" class=\"row_heading level0 row24\" >24</th>\n",
              "      <td id=\"T_f07a6_row24_col0\" class=\"data row24 col0\" >0</td>\n",
              "      <td id=\"T_f07a6_row24_col1\" class=\"data row24 col1\" >0</td>\n",
              "      <td id=\"T_f07a6_row24_col2\" class=\"data row24 col2\" >0</td>\n",
              "      <td id=\"T_f07a6_row24_col3\" class=\"data row24 col3\" >0</td>\n",
              "      <td id=\"T_f07a6_row24_col4\" class=\"data row24 col4\" >0</td>\n",
              "      <td id=\"T_f07a6_row24_col5\" class=\"data row24 col5\" >0</td>\n",
              "      <td id=\"T_f07a6_row24_col6\" class=\"data row24 col6\" >0</td>\n",
              "      <td id=\"T_f07a6_row24_col7\" class=\"data row24 col7\" >0</td>\n",
              "      <td id=\"T_f07a6_row24_col8\" class=\"data row24 col8\" >0</td>\n",
              "      <td id=\"T_f07a6_row24_col9\" class=\"data row24 col9\" >0</td>\n",
              "      <td id=\"T_f07a6_row24_col10\" class=\"data row24 col10\" >0</td>\n",
              "      <td id=\"T_f07a6_row24_col11\" class=\"data row24 col11\" >0</td>\n",
              "      <td id=\"T_f07a6_row24_col12\" class=\"data row24 col12\" >177</td>\n",
              "      <td id=\"T_f07a6_row24_col13\" class=\"data row24 col13\" >253</td>\n",
              "      <td id=\"T_f07a6_row24_col14\" class=\"data row24 col14\" >253</td>\n",
              "      <td id=\"T_f07a6_row24_col15\" class=\"data row24 col15\" >253</td>\n",
              "      <td id=\"T_f07a6_row24_col16\" class=\"data row24 col16\" >30</td>\n",
              "      <td id=\"T_f07a6_row24_col17\" class=\"data row24 col17\" >0</td>\n",
              "      <td id=\"T_f07a6_row24_col18\" class=\"data row24 col18\" >0</td>\n",
              "      <td id=\"T_f07a6_row24_col19\" class=\"data row24 col19\" >0</td>\n",
              "      <td id=\"T_f07a6_row24_col20\" class=\"data row24 col20\" >0</td>\n",
              "      <td id=\"T_f07a6_row24_col21\" class=\"data row24 col21\" >0</td>\n",
              "      <td id=\"T_f07a6_row24_col22\" class=\"data row24 col22\" >0</td>\n",
              "      <td id=\"T_f07a6_row24_col23\" class=\"data row24 col23\" >0</td>\n",
              "      <td id=\"T_f07a6_row24_col24\" class=\"data row24 col24\" >0</td>\n",
              "      <td id=\"T_f07a6_row24_col25\" class=\"data row24 col25\" >0</td>\n",
              "      <td id=\"T_f07a6_row24_col26\" class=\"data row24 col26\" >0</td>\n",
              "      <td id=\"T_f07a6_row24_col27\" class=\"data row24 col27\" >0</td>\n",
              "    </tr>\n",
              "    <tr>\n",
              "      <th id=\"T_f07a6_level0_row25\" class=\"row_heading level0 row25\" >25</th>\n",
              "      <td id=\"T_f07a6_row25_col0\" class=\"data row25 col0\" >0</td>\n",
              "      <td id=\"T_f07a6_row25_col1\" class=\"data row25 col1\" >0</td>\n",
              "      <td id=\"T_f07a6_row25_col2\" class=\"data row25 col2\" >0</td>\n",
              "      <td id=\"T_f07a6_row25_col3\" class=\"data row25 col3\" >0</td>\n",
              "      <td id=\"T_f07a6_row25_col4\" class=\"data row25 col4\" >0</td>\n",
              "      <td id=\"T_f07a6_row25_col5\" class=\"data row25 col5\" >0</td>\n",
              "      <td id=\"T_f07a6_row25_col6\" class=\"data row25 col6\" >0</td>\n",
              "      <td id=\"T_f07a6_row25_col7\" class=\"data row25 col7\" >0</td>\n",
              "      <td id=\"T_f07a6_row25_col8\" class=\"data row25 col8\" >0</td>\n",
              "      <td id=\"T_f07a6_row25_col9\" class=\"data row25 col9\" >0</td>\n",
              "      <td id=\"T_f07a6_row25_col10\" class=\"data row25 col10\" >0</td>\n",
              "      <td id=\"T_f07a6_row25_col11\" class=\"data row25 col11\" >0</td>\n",
              "      <td id=\"T_f07a6_row25_col12\" class=\"data row25 col12\" >177</td>\n",
              "      <td id=\"T_f07a6_row25_col13\" class=\"data row25 col13\" >253</td>\n",
              "      <td id=\"T_f07a6_row25_col14\" class=\"data row25 col14\" >253</td>\n",
              "      <td id=\"T_f07a6_row25_col15\" class=\"data row25 col15\" >156</td>\n",
              "      <td id=\"T_f07a6_row25_col16\" class=\"data row25 col16\" >1</td>\n",
              "      <td id=\"T_f07a6_row25_col17\" class=\"data row25 col17\" >0</td>\n",
              "      <td id=\"T_f07a6_row25_col18\" class=\"data row25 col18\" >0</td>\n",
              "      <td id=\"T_f07a6_row25_col19\" class=\"data row25 col19\" >0</td>\n",
              "      <td id=\"T_f07a6_row25_col20\" class=\"data row25 col20\" >0</td>\n",
              "      <td id=\"T_f07a6_row25_col21\" class=\"data row25 col21\" >0</td>\n",
              "      <td id=\"T_f07a6_row25_col22\" class=\"data row25 col22\" >0</td>\n",
              "      <td id=\"T_f07a6_row25_col23\" class=\"data row25 col23\" >0</td>\n",
              "      <td id=\"T_f07a6_row25_col24\" class=\"data row25 col24\" >0</td>\n",
              "      <td id=\"T_f07a6_row25_col25\" class=\"data row25 col25\" >0</td>\n",
              "      <td id=\"T_f07a6_row25_col26\" class=\"data row25 col26\" >0</td>\n",
              "      <td id=\"T_f07a6_row25_col27\" class=\"data row25 col27\" >0</td>\n",
              "    </tr>\n",
              "    <tr>\n",
              "      <th id=\"T_f07a6_level0_row26\" class=\"row_heading level0 row26\" >26</th>\n",
              "      <td id=\"T_f07a6_row26_col0\" class=\"data row26 col0\" >0</td>\n",
              "      <td id=\"T_f07a6_row26_col1\" class=\"data row26 col1\" >0</td>\n",
              "      <td id=\"T_f07a6_row26_col2\" class=\"data row26 col2\" >0</td>\n",
              "      <td id=\"T_f07a6_row26_col3\" class=\"data row26 col3\" >0</td>\n",
              "      <td id=\"T_f07a6_row26_col4\" class=\"data row26 col4\" >0</td>\n",
              "      <td id=\"T_f07a6_row26_col5\" class=\"data row26 col5\" >0</td>\n",
              "      <td id=\"T_f07a6_row26_col6\" class=\"data row26 col6\" >0</td>\n",
              "      <td id=\"T_f07a6_row26_col7\" class=\"data row26 col7\" >0</td>\n",
              "      <td id=\"T_f07a6_row26_col8\" class=\"data row26 col8\" >0</td>\n",
              "      <td id=\"T_f07a6_row26_col9\" class=\"data row26 col9\" >0</td>\n",
              "      <td id=\"T_f07a6_row26_col10\" class=\"data row26 col10\" >0</td>\n",
              "      <td id=\"T_f07a6_row26_col11\" class=\"data row26 col11\" >0</td>\n",
              "      <td id=\"T_f07a6_row26_col12\" class=\"data row26 col12\" >40</td>\n",
              "      <td id=\"T_f07a6_row26_col13\" class=\"data row26 col13\" >226</td>\n",
              "      <td id=\"T_f07a6_row26_col14\" class=\"data row26 col14\" >253</td>\n",
              "      <td id=\"T_f07a6_row26_col15\" class=\"data row26 col15\" >141</td>\n",
              "      <td id=\"T_f07a6_row26_col16\" class=\"data row26 col16\" >0</td>\n",
              "      <td id=\"T_f07a6_row26_col17\" class=\"data row26 col17\" >0</td>\n",
              "      <td id=\"T_f07a6_row26_col18\" class=\"data row26 col18\" >0</td>\n",
              "      <td id=\"T_f07a6_row26_col19\" class=\"data row26 col19\" >0</td>\n",
              "      <td id=\"T_f07a6_row26_col20\" class=\"data row26 col20\" >0</td>\n",
              "      <td id=\"T_f07a6_row26_col21\" class=\"data row26 col21\" >0</td>\n",
              "      <td id=\"T_f07a6_row26_col22\" class=\"data row26 col22\" >0</td>\n",
              "      <td id=\"T_f07a6_row26_col23\" class=\"data row26 col23\" >0</td>\n",
              "      <td id=\"T_f07a6_row26_col24\" class=\"data row26 col24\" >0</td>\n",
              "      <td id=\"T_f07a6_row26_col25\" class=\"data row26 col25\" >0</td>\n",
              "      <td id=\"T_f07a6_row26_col26\" class=\"data row26 col26\" >0</td>\n",
              "      <td id=\"T_f07a6_row26_col27\" class=\"data row26 col27\" >0</td>\n",
              "    </tr>\n",
              "    <tr>\n",
              "      <th id=\"T_f07a6_level0_row27\" class=\"row_heading level0 row27\" >27</th>\n",
              "      <td id=\"T_f07a6_row27_col0\" class=\"data row27 col0\" >0</td>\n",
              "      <td id=\"T_f07a6_row27_col1\" class=\"data row27 col1\" >0</td>\n",
              "      <td id=\"T_f07a6_row27_col2\" class=\"data row27 col2\" >0</td>\n",
              "      <td id=\"T_f07a6_row27_col3\" class=\"data row27 col3\" >0</td>\n",
              "      <td id=\"T_f07a6_row27_col4\" class=\"data row27 col4\" >0</td>\n",
              "      <td id=\"T_f07a6_row27_col5\" class=\"data row27 col5\" >0</td>\n",
              "      <td id=\"T_f07a6_row27_col6\" class=\"data row27 col6\" >0</td>\n",
              "      <td id=\"T_f07a6_row27_col7\" class=\"data row27 col7\" >0</td>\n",
              "      <td id=\"T_f07a6_row27_col8\" class=\"data row27 col8\" >0</td>\n",
              "      <td id=\"T_f07a6_row27_col9\" class=\"data row27 col9\" >0</td>\n",
              "      <td id=\"T_f07a6_row27_col10\" class=\"data row27 col10\" >0</td>\n",
              "      <td id=\"T_f07a6_row27_col11\" class=\"data row27 col11\" >0</td>\n",
              "      <td id=\"T_f07a6_row27_col12\" class=\"data row27 col12\" >0</td>\n",
              "      <td id=\"T_f07a6_row27_col13\" class=\"data row27 col13\" >0</td>\n",
              "      <td id=\"T_f07a6_row27_col14\" class=\"data row27 col14\" >0</td>\n",
              "      <td id=\"T_f07a6_row27_col15\" class=\"data row27 col15\" >0</td>\n",
              "      <td id=\"T_f07a6_row27_col16\" class=\"data row27 col16\" >0</td>\n",
              "      <td id=\"T_f07a6_row27_col17\" class=\"data row27 col17\" >0</td>\n",
              "      <td id=\"T_f07a6_row27_col18\" class=\"data row27 col18\" >0</td>\n",
              "      <td id=\"T_f07a6_row27_col19\" class=\"data row27 col19\" >0</td>\n",
              "      <td id=\"T_f07a6_row27_col20\" class=\"data row27 col20\" >0</td>\n",
              "      <td id=\"T_f07a6_row27_col21\" class=\"data row27 col21\" >0</td>\n",
              "      <td id=\"T_f07a6_row27_col22\" class=\"data row27 col22\" >0</td>\n",
              "      <td id=\"T_f07a6_row27_col23\" class=\"data row27 col23\" >0</td>\n",
              "      <td id=\"T_f07a6_row27_col24\" class=\"data row27 col24\" >0</td>\n",
              "      <td id=\"T_f07a6_row27_col25\" class=\"data row27 col25\" >0</td>\n",
              "      <td id=\"T_f07a6_row27_col26\" class=\"data row27 col26\" >0</td>\n",
              "      <td id=\"T_f07a6_row27_col27\" class=\"data row27 col27\" >0</td>\n",
              "    </tr>\n",
              "  </tbody>\n",
              "</table>\n"
            ]
          },
          "metadata": {},
          "execution_count": 14
        }
      ]
    },
    {
      "cell_type": "markdown",
      "metadata": {
        "id": "jMdNhmiXpojy"
      },
      "source": [
        "## ดูว่ามี pixel เหมือนกันแค่ไหน"
      ]
    },
    {
      "cell_type": "code",
      "execution_count": 15,
      "metadata": {
        "colab": {
          "base_uri": "https://localhost:8080/"
        },
        "id": "JDsXZWi8pojy",
        "outputId": "2b7699b9-0d6b-4faa-f645-ccb718167bf3"
      },
      "outputs": [
        {
          "output_type": "execute_result",
          "data": {
            "text/plain": [
              "(6131, 6265)"
            ]
          },
          "metadata": {},
          "execution_count": 15
        }
      ],
      "source": [
        "seven_tensors = [tensor(Image.open(o)) for o in sevens]\n",
        "three_tensors = [tensor(Image.open(o)) for o in threes]\n",
        "len(three_tensors),len(seven_tensors)"
      ]
    },
    {
      "cell_type": "code",
      "execution_count": 16,
      "metadata": {
        "colab": {
          "base_uri": "https://localhost:8080/",
          "height": 114
        },
        "id": "9h_vpbbvpojy",
        "outputId": "2888a2b7-26d9-47d6-8e76-ca1e68ad5756"
      },
      "outputs": [
        {
          "output_type": "display_data",
          "data": {
            "text/plain": [
              "<Figure size 100x100 with 1 Axes>"
            ],
            "image/png": "[encoded data removed]"
          },
          "metadata": {}
        }
      ],
      "source": [
        "show_image(three_tensors[1]);"
      ]
    },
    {
      "cell_type": "code",
      "execution_count": 17,
      "metadata": {
        "colab": {
          "base_uri": "https://localhost:8080/"
        },
        "id": "D5B7mZNspojy",
        "outputId": "5ffbd378-ed09-4732-908d-e5d10b54729e"
      },
      "outputs": [
        {
          "output_type": "execute_result",
          "data": {
            "text/plain": [
              "(torch.Size([6131, 28, 28]), torch.Size([6265, 28, 28]))"
            ]
          },
          "metadata": {},
          "execution_count": 17
        }
      ],
      "source": [
        "#เรามัดเลข 3 และ 7 ทั้งหมดรวมกันตามคลาสแล้วหารมันด้วย 255 เพื่อให้ได้ค่าระหว่าง 0 และ 1\n",
        "stacked_sevens = torch.stack(seven_tensors).float()/255\n",
        "stacked_threes = torch.stack(three_tensors).float()/255\n",
        "stacked_threes.shape, stacked_sevens.shape"
      ]
    },
    {
      "cell_type": "code",
      "execution_count": 18,
      "metadata": {
        "colab": {
          "base_uri": "https://localhost:8080/"
        },
        "id": "K4mmFyngpojz",
        "outputId": "a7193af1-5eb1-4f02-b2e7-d2c1e37018ec"
      },
      "outputs": [
        {
          "output_type": "execute_result",
          "data": {
            "text/plain": [
              "3"
            ]
          },
          "metadata": {},
          "execution_count": 18
        }
      ],
      "source": [
        "len(stacked_threes.shape)"
      ]
    },
    {
      "cell_type": "code",
      "execution_count": 19,
      "metadata": {
        "colab": {
          "base_uri": "https://localhost:8080/"
        },
        "id": "Jck_enHBpojz",
        "outputId": "c8717cb6-2974-472e-e721-a5eab2b94ad8"
      },
      "outputs": [
        {
          "output_type": "execute_result",
          "data": {
            "text/plain": [
              "3"
            ]
          },
          "metadata": {},
          "execution_count": 19
        }
      ],
      "source": [
        "stacked_threes.ndim"
      ]
    },
    {
      "cell_type": "code",
      "execution_count": 20,
      "metadata": {
        "colab": {
          "base_uri": "https://localhost:8080/",
          "height": 132
        },
        "id": "cxcx0MIlg-fI",
        "outputId": "f0686959-89ca-4282-f4fb-c51e6eea2586"
      },
      "outputs": [
        {
          "output_type": "execute_result",
          "data": {
            "text/plain": [
              "<Axes: >"
            ]
          },
          "metadata": {},
          "execution_count": 20
        },
        {
          "output_type": "display_data",
          "data": {
            "text/plain": [
              "<Figure size 100x100 with 1 Axes>"
            ],
            "image/png": "[encoded data removed]"
          },
          "metadata": {}
        }
      ],
      "source": [
        "#เลข 3 ที่ index 0\n",
        "show_image(stacked_threes[0,:,:])"
      ]
    },
    {
      "cell_type": "code",
      "execution_count": 21,
      "metadata": {
        "colab": {
          "base_uri": "https://localhost:8080/",
          "height": 114
        },
        "id": "2Es3hPcXpojz",
        "outputId": "37b70766-48b2-4fbe-e10c-4480281361c6"
      },
      "outputs": [
        {
          "output_type": "display_data",
          "data": {
            "text/plain": [
              "<Figure size 100x100 with 1 Axes>"
            ],
            "image/png": "[encoded data removed]"
          },
          "metadata": {}
        }
      ],
      "source": [
        "#เลข 3 โดยเฉลี่ย\n",
        "mean3 = stacked_threes.mean(0)\n",
        "show_image(mean3);"
      ]
    },
    {
      "cell_type": "code",
      "execution_count": 22,
      "metadata": {
        "colab": {
          "base_uri": "https://localhost:8080/",
          "height": 114
        },
        "id": "ambkeHzzpojz",
        "outputId": "4663f704-4168-48ec-d8df-988edf1c5ce6"
      },
      "outputs": [
        {
          "output_type": "display_data",
          "data": {
            "text/plain": [
              "<Figure size 100x100 with 1 Axes>"
            ],
            "image/png": "[encoded data removed]"
          },
          "metadata": {}
        }
      ],
      "source": [
        "#เลข 7 โดยเฉลี่ย\n",
        "mean7 = stacked_sevens.mean(0)\n",
        "show_image(mean7);"
      ]
    },
    {
      "cell_type": "code",
      "execution_count": 23,
      "metadata": {
        "colab": {
          "base_uri": "https://localhost:8080/",
          "height": 114
        },
        "id": "aKESuqYHpojz",
        "outputId": "d942cf4c-bcdc-4413-fbfd-100d8005f6d4"
      },
      "outputs": [
        {
          "output_type": "display_data",
          "data": {
            "text/plain": [
              "<Figure size 100x100 with 1 Axes>"
            ],
            "image/png": "[encoded data removed]"
          },
          "metadata": {}
        }
      ],
      "source": [
        "#เลข 3 อันที่ 125\n",
        "a_3 = stacked_threes[125]\n",
        "show_image(a_3);"
      ]
    },
    {
      "cell_type": "code",
      "execution_count": 24,
      "metadata": {
        "colab": {
          "base_uri": "https://localhost:8080/"
        },
        "id": "JbfdH2zWpoj0",
        "outputId": "76f57b35-a1a9-4587-f418-8715658096ae"
      },
      "outputs": [
        {
          "output_type": "execute_result",
          "data": {
            "text/plain": [
              "(tensor(0.1259), tensor(0.2290))"
            ]
          },
          "metadata": {},
          "execution_count": 24
        }
      ],
      "source": [
        "#ความห่างระหว่า \"เลข 3 อันที่ 125\" กับ \"เลข 3 โดยเฉลี่ย\"\n",
        "dist_3_abs = (a_3 - mean3).abs().mean()\n",
        "dist_3_sqr = ((a_3 - mean3)**2).mean().sqrt()\n",
        "dist_3_abs,dist_3_sqr"
      ]
    },
    {
      "cell_type": "code",
      "execution_count": 25,
      "metadata": {
        "colab": {
          "base_uri": "https://localhost:8080/"
        },
        "id": "s5xmB8f1poj0",
        "outputId": "e6e33544-31f9-4677-ae4d-423c0c8e18be"
      },
      "outputs": [
        {
          "output_type": "execute_result",
          "data": {
            "text/plain": [
              "(tensor(0.1836), tensor(0.3390))"
            ]
          },
          "metadata": {},
          "execution_count": 25
        }
      ],
      "source": [
        "#ความห่างระหว่า \"เลข 3 อันที่ 125\" กับ \"เลข 7 โดยเฉลี่ย\"\n",
        "dist_7_abs = (a_3 - mean7).abs().mean()\n",
        "dist_7_sqr = ((a_3 - mean7)**2).mean().sqrt()\n",
        "dist_7_abs,dist_7_sqr"
      ]
    },
    {
      "cell_type": "code",
      "execution_count": 26,
      "metadata": {
        "colab": {
          "base_uri": "https://localhost:8080/"
        },
        "id": "lDlxHuO8Vazc",
        "outputId": "1e05c5f6-e2ff-4f5e-884e-f0935832e2af"
      },
      "outputs": [
        {
          "output_type": "execute_result",
          "data": {
            "text/plain": [
              "(tensor(0.1836), tensor(0.3390))"
            ]
          },
          "metadata": {},
          "execution_count": 26
        }
      ],
      "source": [
        "#ใช้ function ของ pytorch คิดก็ได้\n",
        "F.l1_loss(a_3.float(), mean7), F.mse_loss(a_3, mean7).sqrt()"
      ]
    },
    {
      "cell_type": "markdown",
      "metadata": {
        "id": "4Lx6GAdSVgD2"
      },
      "source": [
        "ความแตกต่างระหว่าง mean squared error และ mean absolute error"
      ]
    },
    {
      "cell_type": "code",
      "execution_count": 27,
      "metadata": {
        "colab": {
          "base_uri": "https://localhost:8080/"
        },
        "id": "IcAtO7IwDzUp",
        "outputId": "8eb993fc-907b-4700-ebca-0b750185892a"
      },
      "outputs": [
        {
          "output_type": "execute_result",
          "data": {
            "text/plain": [
              "(1.1666666269302368, 1.1902379989624023)"
            ]
          },
          "metadata": {},
          "execution_count": 27
        }
      ],
      "source": [
        "a = torch.tensor([1, 2, 3]).float()\n",
        "b = torch.tensor([2.,3.,4.5])\n",
        "c = torch.tensor([2.,3.,40.])\n",
        "\n",
        "#mse และ mae ไม่ต่างกันเท่าไหร่สำหรับ a และ b\n",
        "(a-b).abs().mean().item(), \\\n",
        "((a-b)**2).mean().sqrt().item(),"
      ]
    },
    {
      "cell_type": "code",
      "execution_count": 28,
      "metadata": {
        "colab": {
          "base_uri": "https://localhost:8080/"
        },
        "id": "y5zmXGk2poj0",
        "outputId": "51afcc8d-77b4-491c-fa49-44e2a6581c36"
      },
      "outputs": [
        {
          "output_type": "execute_result",
          "data": {
            "text/plain": [
              "(13.0, 21.3775577545166)"
            ]
          },
          "metadata": {},
          "execution_count": 28
        }
      ],
      "source": [
        "#mse และ mae ต่างกันเกือบเท่าตัวสำหรับ a และ c\n",
        "(a-c).abs().mean().item(),\\\n",
        "((a-c)**2).mean().sqrt().item()"
      ]
    },
    {
      "cell_type": "markdown",
      "metadata": {
        "id": "ErTcHuGkpoj4"
      },
      "source": [
        "## Stochastic Gradient Descent (SGD)"
      ]
    },
    {
      "cell_type": "markdown",
      "metadata": {
        "id": "OISepsl-poj5"
      },
      "source": [
        "### คำนวณ Gradients เพื่อทำ Backpropagation"
      ]
    },
    {
      "cell_type": "code",
      "execution_count": 29,
      "metadata": {
        "colab": {
          "base_uri": "https://localhost:8080/"
        },
        "id": "VXdDIlJl6jYC",
        "outputId": "05ef3749-9687-4c6a-e308-7619848ab675"
      },
      "outputs": [
        {
          "output_type": "execute_result",
          "data": {
            "text/plain": [
              "(-4.0, -4.0)"
            ]
          },
          "metadata": {},
          "execution_count": 29
        }
      ],
      "source": [
        "# set some inputs\n",
        "x = -2; y = 5; z = -4\n",
        "\n",
        "# perform the forward pass\n",
        "q = x + y # q becomes 3\n",
        "f = q * z # f becomes -12\n",
        "\n",
        "# perform the backward pass (backpropagation) in reverse order:\n",
        "# first backprop through f = q * z\n",
        "dfdz = q # df/dz = q, so gradient on z becomes 3\n",
        "dfdq = z # df/dq = z, so gradient on q becomes -4\n",
        "# now backprop through q = x + y\n",
        "dfdx = 1.0 * dfdq # dq/dx = 1. And the multiplication here is the chain rule!\n",
        "dfdy = 1.0 * dfdq # dq/dy = 1\n",
        "\n",
        "dfdx, dfdy"
      ]
    },
    {
      "cell_type": "code",
      "execution_count": 30,
      "metadata": {
        "colab": {
          "base_uri": "https://localhost:8080/"
        },
        "id": "SWg90ZHApoj6",
        "outputId": "9a92ff30-6d31-43e5-f293-c25d46bf979b"
      },
      "outputs": [
        {
          "output_type": "execute_result",
          "data": {
            "text/plain": [
              "tensor([ 3.,  4., 10.], requires_grad=True)"
            ]
          },
          "metadata": {},
          "execution_count": 30
        }
      ],
      "source": [
        "xt = torch.tensor([3.,4.,10.]).requires_grad_()\n",
        "xt"
      ]
    },
    {
      "cell_type": "code",
      "execution_count": 31,
      "metadata": {
        "colab": {
          "base_uri": "https://localhost:8080/"
        },
        "id": "WpM1Q5nApoj6",
        "outputId": "9d8c0afa-de27-4b8b-e7e4-9544558ea996"
      },
      "outputs": [
        {
          "output_type": "execute_result",
          "data": {
            "text/plain": [
              "tensor(125., grad_fn=<SumBackward0>)"
            ]
          },
          "metadata": {},
          "execution_count": 31
        }
      ],
      "source": [
        "#ฟังชั่น f(x) = (x1^2 + x2^2 +...+xn^2)\n",
        "def f(x): return (x**2).sum()\n",
        "\n",
        "yt = f(xt) #ใส่ 3, 4, 10 เข้าไปได้ 3^2+4^2+10^2 = 125\n",
        "yt"
      ]
    },
    {
      "cell_type": "code",
      "execution_count": 32,
      "metadata": {
        "colab": {
          "base_uri": "https://localhost:8080/"
        },
        "id": "POJB2ewmpoj6",
        "outputId": "5d4e72b6-4051-4f72-8351-4e49fd135984"
      },
      "outputs": [
        {
          "output_type": "execute_result",
          "data": {
            "text/plain": [
              "tensor([ 6.,  8., 20.])"
            ]
          },
          "metadata": {},
          "execution_count": 32
        }
      ],
      "source": [
        "#ถ้าคิดด้วยมือ df(x)/dx = 2x\n",
        "#สำหรับ x1=3, x2=4, x3=10 ก็จะเป็น\n",
        "#df(x1)/dx1 = 6, df(x2)/dx2 = 8, df(x3)/dx3 = 20\n",
        "\n",
        "#ใช้ autograd หา df(x1)/dx1, df(x2)/dx2, df(x3)/dx3\n",
        "yt.backward()\n",
        "xt.grad"
      ]
    },
    {
      "cell_type": "markdown",
      "metadata": {
        "id": "mHHqwvz2poj_"
      },
      "source": [
        "## สร้าง Loss Function สำหรับจำแนกรูปเลข 3 และเลข 7"
      ]
    },
    {
      "cell_type": "markdown",
      "metadata": {
        "id": "U0EQ6WD4zEf0"
      },
      "source": [
        "#### สร้าง X และ y"
      ]
    },
    {
      "cell_type": "code",
      "execution_count": 33,
      "metadata": {
        "id": "-4LTBmPcpoj_"
      },
      "outputs": [],
      "source": [
        "train_x = torch.cat([stacked_threes, stacked_sevens]).view(-1, 28*28)"
      ]
    },
    {
      "cell_type": "code",
      "execution_count": 34,
      "metadata": {
        "colab": {
          "base_uri": "https://localhost:8080/"
        },
        "id": "Q5bU0JpipokA",
        "outputId": "cb186ca9-6764-4eca-ed96-57b5724cae12"
      },
      "outputs": [
        {
          "output_type": "execute_result",
          "data": {
            "text/plain": [
              "(torch.Size([12396, 784]), torch.Size([12396, 1]))"
            ]
          },
          "metadata": {},
          "execution_count": 34
        }
      ],
      "source": [
        "train_y = tensor([1]*len(threes) + [0]*len(sevens)).unsqueeze(1)\n",
        "train_x.shape,train_y.shape"
      ]
    },
    {
      "cell_type": "code",
      "execution_count": 35,
      "metadata": {
        "colab": {
          "base_uri": "https://localhost:8080/"
        },
        "id": "rkavLIe1IcmD",
        "outputId": "ec05e9c3-7d02-4f52-f20b-e42ac454e78e"
      },
      "outputs": [
        {
          "output_type": "execute_result",
          "data": {
            "text/plain": [
              "[(1, 4), (2, 5), (3, 6)]"
            ]
          },
          "metadata": {},
          "execution_count": 35
        }
      ],
      "source": [
        "#เราสามารถนำ iterables สองอันมาต่อกันแบบนี้ได้ด้วย zip\n",
        "a = [1,2,3]\n",
        "b = [4,5,6]\n",
        "list(zip(a,b))"
      ]
    },
    {
      "cell_type": "code",
      "execution_count": 36,
      "metadata": {
        "colab": {
          "base_uri": "https://localhost:8080/"
        },
        "id": "08BIemoApokA",
        "outputId": "bcd1fcdb-73e6-4097-9a33-fd3de2887160"
      },
      "outputs": [
        {
          "output_type": "execute_result",
          "data": {
            "text/plain": [
              "(torch.Size([784]), torch.Size([1]))"
            ]
          },
          "metadata": {},
          "execution_count": 36
        }
      ],
      "source": [
        "dset = list(zip(train_x,train_y))\n",
        "example = dset[0]\n",
        "\n",
        "#คู่ Inputs　และ Labels\n",
        "example[0].shape, example[1].shape"
      ]
    },
    {
      "cell_type": "code",
      "execution_count": 37,
      "metadata": {
        "id": "Y6ImID5ApokA"
      },
      "outputs": [],
      "source": [
        "#สร้าง validation set ในแบบเดียวกัน\n",
        "valid_3_tens = torch.stack([tensor(Image.open(o))\n",
        "                            for o in (path/'valid'/'3').ls()])\n",
        "valid_3_tens = valid_3_tens.float()/255\n",
        "valid_7_tens = torch.stack([tensor(Image.open(o))\n",
        "                            for o in (path/'valid'/'7').ls()])\n",
        "valid_7_tens = valid_7_tens.float()/255\n",
        "\n",
        "valid_x = torch.cat([valid_3_tens, valid_7_tens]).view(-1, 28*28)\n",
        "valid_y = tensor([1]*len(valid_3_tens) + [0]*len(valid_7_tens)).unsqueeze(1)\n",
        "valid_dset = list(zip(valid_x,valid_y))"
      ]
    },
    {
      "cell_type": "markdown",
      "metadata": {
        "id": "RR1v1Z2tzHmo"
      },
      "source": [
        "#### Initiate `Weights`"
      ]
    },
    {
      "cell_type": "code",
      "execution_count": 38,
      "metadata": {
        "id": "WQ9vpYHIpokA"
      },
      "outputs": [],
      "source": [
        "def init_params(size, std=1.0): return (torch.randn(size)*std).requires_grad_()"
      ]
    },
    {
      "cell_type": "code",
      "execution_count": 39,
      "metadata": {
        "colab": {
          "base_uri": "https://localhost:8080/"
        },
        "id": "itXv1TZ9pokA",
        "outputId": "0740d3bd-3167-4e88-8aa1-07ebde65cf4c"
      },
      "outputs": [
        {
          "output_type": "execute_result",
          "data": {
            "text/plain": [
              "torch.Size([784, 1])"
            ]
          },
          "metadata": {},
          "execution_count": 39
        }
      ],
      "source": [
        "#Inputs มี dimension (batch_size, 28*28)\n",
        "#เพราะงั้นถ้าเราจะคูณรายตัว (element-wise multiplication)\n",
        "#ด้วย W^T, W ต้องมี dimension (28*28,1)\n",
        "weights = init_params((28*28,1))\n",
        "weights.shape"
      ]
    },
    {
      "cell_type": "code",
      "execution_count": 40,
      "metadata": {
        "colab": {
          "base_uri": "https://localhost:8080/"
        },
        "id": "7Ef5fK0KpokA",
        "outputId": "614d70c1-0f47-400d-e8d1-fa12af50fd57"
      },
      "outputs": [
        {
          "output_type": "execute_result",
          "data": {
            "text/plain": [
              "tensor([0.3472], requires_grad=True)"
            ]
          },
          "metadata": {},
          "execution_count": 40
        }
      ],
      "source": [
        "#bias มีแค่ (1) dimension แล้วจะถูก broadcast ไปทุก dimension ของ batch size เอง\n",
        "# (1) -> (batch_size,1)\n",
        "bias = init_params(1)\n",
        "bias"
      ]
    },
    {
      "cell_type": "code",
      "execution_count": 41,
      "metadata": {
        "colab": {
          "base_uri": "https://localhost:8080/"
        },
        "id": "pnMvUz7kFoIU",
        "outputId": "20d548e4-9a86-47bb-f252-1d0e58a87e72"
      },
      "outputs": [
        {
          "output_type": "execute_result",
          "data": {
            "text/plain": [
              "(torch.Size([784, 1]),\n",
              " torch.Size([1]),\n",
              " torch.Size([12396, 784]),\n",
              " torch.Size([784]))"
            ]
          },
          "metadata": {},
          "execution_count": 41
        }
      ],
      "source": [
        "weights.shape, bias.shape, train_x.shape, train_x[7].shape"
      ]
    },
    {
      "cell_type": "markdown",
      "metadata": {
        "id": "KXK2LAZqzLYk"
      },
      "source": [
        "#### Forward Pass"
      ]
    },
    {
      "cell_type": "code",
      "execution_count": 42,
      "metadata": {
        "colab": {
          "base_uri": "https://localhost:8080/"
        },
        "id": "S9md33qTEu6n",
        "outputId": "a1d524a2-4597-4585-f86c-3cec37c89381"
      },
      "outputs": [
        {
          "output_type": "execute_result",
          "data": {
            "text/plain": [
              "tensor([[-15.2588]], grad_fn=<AddBackward0>)"
            ]
          },
          "metadata": {},
          "execution_count": 42
        }
      ],
      "source": [
        "#คำนวณ forward pass สำหรับตัวอย่าง 7\n",
        "(train_x[7]*weights.T).sum(1)[:,None] + bias"
      ]
    },
    {
      "cell_type": "code",
      "execution_count": 43,
      "metadata": {
        "colab": {
          "base_uri": "https://localhost:8080/"
        },
        "id": "22qYPEQDEwjC",
        "outputId": "31a9de52-d1ad-4d0e-a0a9-c50443f1bc16"
      },
      "outputs": [
        {
          "output_type": "execute_result",
          "data": {
            "text/plain": [
              "tensor([[ -6.2330],\n",
              "        [-10.6388],\n",
              "        [-20.8865],\n",
              "        ...,\n",
              "        [-15.9176],\n",
              "        [ -1.6866],\n",
              "        [-11.3568]], grad_fn=<AddBackward0>)"
            ]
          },
          "metadata": {},
          "execution_count": 43
        }
      ],
      "source": [
        "#คำนวณ forward pass สำหรับทุกตัวอย่าง\n",
        "(train_x*weights.T).sum(1)[:,None] + bias"
      ]
    },
    {
      "cell_type": "code",
      "execution_count": 44,
      "metadata": {
        "colab": {
          "base_uri": "https://localhost:8080/"
        },
        "id": "I65On42BpokB",
        "outputId": "efe1ac54-8032-4eb5-f482-01edc8594391"
      },
      "outputs": [
        {
          "output_type": "execute_result",
          "data": {
            "text/plain": [
              "tensor([[ -6.2330],\n",
              "        [-10.6388],\n",
              "        [-20.8865],\n",
              "        ...,\n",
              "        [-15.9176],\n",
              "        [ -1.6866],\n",
              "        [-11.3568]], grad_fn=<AddBackward0>)"
            ]
          },
          "metadata": {},
          "execution_count": 44
        }
      ],
      "source": [
        "#เขียนเป็นฟังชั่น; @ คือ matrix multiplication ใน pytorch\n",
        "def linear1(xb): return xb@weights + bias\n",
        "preds = linear1(train_x)\n",
        "preds"
      ]
    },
    {
      "cell_type": "markdown",
      "metadata": {
        "id": "XJKeTmrPzOr3"
      },
      "source": [
        "#### Metric ใช้ Accuracy"
      ]
    },
    {
      "cell_type": "code",
      "execution_count": 45,
      "metadata": {
        "colab": {
          "base_uri": "https://localhost:8080/"
        },
        "id": "SLnbggPopokB",
        "outputId": "0e1ac2d4-ae88-41cd-a1c7-a07e2b8fac43"
      },
      "outputs": [
        {
          "output_type": "execute_result",
          "data": {
            "text/plain": [
              "tensor([[False],\n",
              "        [False],\n",
              "        [False],\n",
              "        ...,\n",
              "        [ True],\n",
              "        [ True],\n",
              "        [ True]])"
            ]
          },
          "metadata": {},
          "execution_count": 45
        }
      ],
      "source": [
        "#ถ้าสมมุติว่า Predictions >0 ให้ทายเป็น 1 (เลข 3)\n",
        "corrects = (preds>0.0).float() == train_y\n",
        "corrects"
      ]
    },
    {
      "cell_type": "code",
      "execution_count": 46,
      "metadata": {
        "colab": {
          "base_uri": "https://localhost:8080/"
        },
        "id": "5DVZlAVzJqbV",
        "outputId": "6ba341dd-a8ab-41db-ce49-ddf98e0e367d"
      },
      "outputs": [
        {
          "output_type": "execute_result",
          "data": {
            "text/plain": [
              "Counter({0.0: 10788, 1.0: 1608})"
            ]
          },
          "metadata": {},
          "execution_count": 46
        }
      ],
      "source": [
        "from collections import Counter\n",
        "Counter((preds>0.0).float().numpy()[:,0])"
      ]
    },
    {
      "cell_type": "code",
      "execution_count": 47,
      "metadata": {
        "colab": {
          "base_uri": "https://localhost:8080/"
        },
        "id": "CiSVOFonpokB",
        "outputId": "337a2bf7-64fd-4677-d4a3-3a92ce155656"
      },
      "outputs": [
        {
          "output_type": "execute_result",
          "data": {
            "text/plain": [
              "0.5379961133003235"
            ]
          },
          "metadata": {},
          "execution_count": 47
        }
      ],
      "source": [
        "#จะเห็นได้ว่ามันถูกเครื่องๆ (เพราะเราเดาสุ่มด้วย weights ที่สุ่มมา)\n",
        "corrects.float().mean().item()"
      ]
    },
    {
      "cell_type": "code",
      "execution_count": 48,
      "metadata": {
        "id": "RwkizTBqpokC"
      },
      "outputs": [],
      "source": [
        "#ถ้าเราเปลี่ยน weights เล็กน้อย\n",
        "with torch.no_grad():\n",
        "    weights *= 5.0001\n",
        "    bias+=10"
      ]
    },
    {
      "cell_type": "code",
      "execution_count": 49,
      "metadata": {
        "colab": {
          "base_uri": "https://localhost:8080/"
        },
        "id": "d5Kv_vFrpokC",
        "outputId": "12d59604-e8c9-4e57-8ec1-be75f6c52c5a"
      },
      "outputs": [
        {
          "output_type": "execute_result",
          "data": {
            "text/plain": [
              "0.548402726650238"
            ]
          },
          "metadata": {},
          "execution_count": 49
        }
      ],
      "source": [
        "#ความแม่นยำก็เปลี่ยนนิดนึง\n",
        "preds = linear1(train_x)\n",
        "((preds>0.0).float() == train_y).float().mean().item()"
      ]
    },
    {
      "cell_type": "markdown",
      "metadata": {
        "id": "PTOZYvLRy-Vz"
      },
      "source": [
        "#### Loss Function อย่างง่าย"
      ]
    },
    {
      "cell_type": "code",
      "execution_count": 50,
      "metadata": {
        "id": "w7wVT8TjpokC"
      },
      "outputs": [],
      "source": [
        "trgts  = tensor([1,0,1])\n",
        "prds   = tensor([0.9, 0.4, 0.2])"
      ]
    },
    {
      "cell_type": "code",
      "execution_count": 51,
      "metadata": {
        "id": "9HgV5HQppokC"
      },
      "outputs": [],
      "source": [
        "#loss function ที่จะเป็นจะเป็น Predictions ของ class ที่ผิด\n",
        "#เพราะงั้นยิ่งทาย class ที่ผิดแบบมั่นใจมาก Loss ก็จะยิ่งสูง\n",
        "def mnist_loss(predictions, targets):\n",
        "    return torch.where(targets==1, 1-predictions, predictions).mean()"
      ]
    },
    {
      "cell_type": "code",
      "execution_count": 52,
      "metadata": {
        "colab": {
          "base_uri": "https://localhost:8080/"
        },
        "id": "5xGnIzeHpokC",
        "outputId": "e4be8da8-3d88-46e5-ea32-86745118789c"
      },
      "outputs": [
        {
          "output_type": "execute_result",
          "data": {
            "text/plain": [
              "tensor([0.1000, 0.4000, 0.8000])"
            ]
          },
          "metadata": {},
          "execution_count": 52
        }
      ],
      "source": [
        "#ถ้าเป้าหมาย == 1 ดังนั้น loss คือห่างจาก 1 แค่ไหน\n",
        "#ถ้าเป้าหมาย == 0 ดังนั้น lossคือห่างจาก 0 แค่ไหน\n",
        "torch.where(trgts==1, 1-prds, prds)"
      ]
    },
    {
      "cell_type": "code",
      "execution_count": 53,
      "metadata": {
        "colab": {
          "base_uri": "https://localhost:8080/"
        },
        "id": "dhQH45dYpokC",
        "outputId": "a8455de1-1a4c-4d6b-8187-b95bc38c4fbe"
      },
      "outputs": [
        {
          "output_type": "execute_result",
          "data": {
            "text/plain": [
              "tensor(0.4333)"
            ]
          },
          "metadata": {},
          "execution_count": 53
        }
      ],
      "source": [
        "mnist_loss(prds,trgts)"
      ]
    },
    {
      "cell_type": "code",
      "execution_count": 54,
      "metadata": {
        "colab": {
          "base_uri": "https://localhost:8080/"
        },
        "id": "uiUjD7aJpokD",
        "outputId": "787e5688-b389-439e-8285-176b615d2139"
      },
      "outputs": [
        {
          "output_type": "execute_result",
          "data": {
            "text/plain": [
              "tensor(0.2333)"
            ]
          },
          "metadata": {},
          "execution_count": 54
        }
      ],
      "source": [
        "#ถ้าทายแม่นขึ้น loss ก็ลดลง\n",
        "mnist_loss(tensor([0.9, 0.4, 0.8]), trgts)"
      ]
    },
    {
      "cell_type": "markdown",
      "metadata": {
        "id": "dqsrmegupokD"
      },
      "source": [
        "### Activation Function - Sigmoid"
      ]
    },
    {
      "cell_type": "code",
      "execution_count": 55,
      "metadata": {
        "id": "sQIUTk5ZpokD"
      },
      "outputs": [],
      "source": [
        "def sigmoid(x): return 1/(1+torch.exp(-x))"
      ]
    },
    {
      "cell_type": "code",
      "execution_count": 56,
      "metadata": {
        "colab": {
          "base_uri": "https://localhost:8080/",
          "height": 372
        },
        "id": "TY9tdedYpokD",
        "outputId": "0db969ae-d845-4cb6-884d-30a286b7446e"
      },
      "outputs": [
        {
          "output_type": "display_data",
          "data": {
            "text/plain": [
              "<Figure size 600x400 with 1 Axes>"
            ],
            "image/png": "[encoded data removed]"
          },
          "metadata": {}
        }
      ],
      "source": [
        "plot_function(torch.sigmoid, title='Sigmoid', min=-4, max=4)"
      ]
    },
    {
      "cell_type": "code",
      "execution_count": 57,
      "metadata": {
        "id": "htbxxyxlpokD"
      },
      "outputs": [],
      "source": [
        "def mnist_loss(predictions, targets):\n",
        "    predictions = predictions.sigmoid()\n",
        "    #ใส่ sigmoid ไป; pytorch tensor มี built-in function ให้แล้ว\n",
        "    return torch.where(targets==1, 1-predictions, predictions).mean()"
      ]
    },
    {
      "cell_type": "markdown",
      "metadata": {
        "id": "UUxkL3_2pokD"
      },
      "source": [
        "### SGD and Mini-Batches"
      ]
    },
    {
      "cell_type": "code",
      "execution_count": 58,
      "metadata": {
        "colab": {
          "base_uri": "https://localhost:8080/"
        },
        "id": "2-twSiAspokD",
        "outputId": "1b02a683-6911-4250-80e5-64b29e7e8a60"
      },
      "outputs": [
        {
          "output_type": "execute_result",
          "data": {
            "text/plain": [
              "[tensor([ 3, 12,  8, 10,  2]),\n",
              " tensor([ 9,  4,  7, 14,  5]),\n",
              " tensor([ 1, 13,  0,  6, 11])]"
            ]
          },
          "metadata": {},
          "execution_count": 58
        }
      ],
      "source": [
        "#ทดลองใช้ Dataloader สุ่มตัวเลขจาก 0-14; batch ละ 5 ตัวอย่าง; ให้สุ่มด้วย\n",
        "coll = range(15)\n",
        "dl = DataLoader(coll, batch_size=5, shuffle=True)\n",
        "list(dl)"
      ]
    },
    {
      "cell_type": "code",
      "execution_count": 59,
      "metadata": {
        "colab": {
          "base_uri": "https://localhost:8080/"
        },
        "id": "7W43iIU_pokE",
        "outputId": "80e71807-01e9-4938-d105-5ed1c341bfdd"
      },
      "outputs": [
        {
          "output_type": "execute_result",
          "data": {
            "text/plain": [
              "(#26) [(0, 'a'),(1, 'b'),(2, 'c'),(3, 'd'),(4, 'e'),(5, 'f'),(6, 'g'),(7, 'h'),(8, 'i'),(9, 'j')...]"
            ]
          },
          "metadata": {},
          "execution_count": 59
        }
      ],
      "source": [
        "#สมมุติเรามี DataSet　แบบนี้\n",
        "ds = L(enumerate(string.ascii_lowercase))\n",
        "ds"
      ]
    },
    {
      "cell_type": "code",
      "execution_count": 60,
      "metadata": {
        "colab": {
          "base_uri": "https://localhost:8080/"
        },
        "id": "GOccHc_rpokE",
        "outputId": "9e565372-9827-4358-d2bc-dfb0c5ff4471"
      },
      "outputs": [
        {
          "output_type": "execute_result",
          "data": {
            "text/plain": [
              "[(tensor([17, 18, 10, 22,  8, 14]), ('r', 's', 'k', 'w', 'i', 'o')),\n",
              " (tensor([20, 15,  9, 13, 21, 12]), ('u', 'p', 'j', 'n', 'v', 'm')),\n",
              " (tensor([ 7, 25,  6,  5, 11, 23]), ('h', 'z', 'g', 'f', 'l', 'x')),\n",
              " (tensor([ 1,  3,  0, 24, 19, 16]), ('b', 'd', 'a', 'y', 't', 'q')),\n",
              " (tensor([2, 4]), ('c', 'e'))]"
            ]
          },
          "metadata": {},
          "execution_count": 60
        }
      ],
      "source": [
        "#ก็ใส่เข้าไปใน dataloader ได้เช่นกัน\n",
        "dl = DataLoader(ds, batch_size=6, shuffle=True)\n",
        "list(dl)"
      ]
    },
    {
      "cell_type": "markdown",
      "metadata": {
        "id": "tvWlUYU8pokE"
      },
      "source": [
        "## Putting It All Together"
      ]
    },
    {
      "cell_type": "markdown",
      "metadata": {
        "id": "fjUk_EOS0deu"
      },
      "source": [
        "#### Initialize weights"
      ]
    },
    {
      "cell_type": "code",
      "execution_count": 61,
      "metadata": {
        "id": "lK9dlPP4pokE"
      },
      "outputs": [],
      "source": [
        "weights = init_params((28*28,1))\n",
        "bias = init_params(1)"
      ]
    },
    {
      "cell_type": "markdown",
      "metadata": {
        "id": "L4ejZTDi0fds"
      },
      "source": [
        "#### Initialize dataloader"
      ]
    },
    {
      "cell_type": "code",
      "execution_count": 62,
      "metadata": {
        "colab": {
          "base_uri": "https://localhost:8080/"
        },
        "id": "XesYQeEUpokE",
        "outputId": "3bb4125e-8a50-4ecf-abac-b7630181a90b"
      },
      "outputs": [
        {
          "output_type": "execute_result",
          "data": {
            "text/plain": [
              "(torch.Size([256, 784]), torch.Size([256, 1]))"
            ]
          },
          "metadata": {},
          "execution_count": 62
        }
      ],
      "source": [
        "#สร้าง dataloader สำหรับ train\n",
        "dl = DataLoader(dset, batch_size=256, shuffle=True)\n",
        "xb,yb = first(dl)\n",
        "xb.shape,yb.shape"
      ]
    },
    {
      "cell_type": "code",
      "execution_count": 63,
      "metadata": {
        "id": "hlw0qizVpokE"
      },
      "outputs": [],
      "source": [
        "#เราจะไม่ shuffle validation set\n",
        "valid_dl = DataLoader(valid_dset, batch_size=256, shuffle=False)"
      ]
    },
    {
      "cell_type": "code",
      "execution_count": 64,
      "metadata": {
        "colab": {
          "base_uri": "https://localhost:8080/"
        },
        "id": "opSgyb70pokF",
        "outputId": "cb04d1f5-7008-480c-c452-e3ebfcff46d6"
      },
      "outputs": [
        {
          "output_type": "execute_result",
          "data": {
            "text/plain": [
              "torch.Size([4, 784])"
            ]
          },
          "metadata": {},
          "execution_count": 64
        }
      ],
      "source": [
        "#(batch size, 28*28)\n",
        "batch = train_x[:4]\n",
        "batch.shape"
      ]
    },
    {
      "cell_type": "markdown",
      "metadata": {
        "id": "d_OZXa2l0iwq"
      },
      "source": [
        "#### Forward pass"
      ]
    },
    {
      "cell_type": "code",
      "execution_count": 65,
      "metadata": {
        "colab": {
          "base_uri": "https://localhost:8080/"
        },
        "id": "IQ5eVzE5pokF",
        "outputId": "83b96eb6-7ad5-4af9-a77a-bdfdf235c36d"
      },
      "outputs": [
        {
          "output_type": "execute_result",
          "data": {
            "text/plain": [
              "torch.Size([256, 1])"
            ]
          },
          "metadata": {},
          "execution_count": 65
        }
      ],
      "source": [
        "def linear1(xb): return xb@weights + bias\n",
        "preds = linear1(xb)\n",
        "preds.shape"
      ]
    },
    {
      "cell_type": "markdown",
      "metadata": {
        "id": "P0dawUHM0kpf"
      },
      "source": [
        "#### Calculate loss"
      ]
    },
    {
      "cell_type": "code",
      "execution_count": 66,
      "metadata": {
        "colab": {
          "base_uri": "https://localhost:8080/"
        },
        "id": "_zK9HJE7pokF",
        "outputId": "3b5e5f33-e7ca-4e83-a146-42d6d6a2b86e"
      },
      "outputs": [
        {
          "output_type": "execute_result",
          "data": {
            "text/plain": [
              "tensor(0.7690, grad_fn=<MeanBackward0>)"
            ]
          },
          "metadata": {},
          "execution_count": 66
        }
      ],
      "source": [
        "def mnist_loss(predictions, targets):\n",
        "    predictions = predictions.sigmoid()\n",
        "    return torch.where(targets==1, 1-predictions, predictions).mean()\n",
        "loss = mnist_loss(preds, xb)\n",
        "loss"
      ]
    },
    {
      "cell_type": "markdown",
      "metadata": {
        "id": "tMIHxJcw0mW5"
      },
      "source": [
        "#### Backward pass - get gradients and update weights"
      ]
    },
    {
      "cell_type": "code",
      "execution_count": 67,
      "metadata": {
        "colab": {
          "base_uri": "https://localhost:8080/"
        },
        "id": "lMdSQrorpokF",
        "outputId": "45427aef-d852-4e07-b3f9-8c2837229766"
      },
      "outputs": [
        {
          "output_type": "execute_result",
          "data": {
            "text/plain": [
              "(torch.Size([784, 1]), tensor(0.0049), tensor([0.0425]))"
            ]
          },
          "metadata": {},
          "execution_count": 67
        }
      ],
      "source": [
        "loss.backward()\n",
        "weights.grad.shape,weights.grad.mean(), bias.grad"
      ]
    },
    {
      "cell_type": "code",
      "execution_count": 68,
      "metadata": {
        "id": "K4x5HLp4pokF"
      },
      "outputs": [],
      "source": [
        "#คำนวณ gradient ด้วย .backward()\n",
        "def calc_grad(xb, yb, model):\n",
        "    preds = model(xb)\n",
        "    loss = mnist_loss(preds, yb)\n",
        "    loss.backward()"
      ]
    },
    {
      "cell_type": "code",
      "execution_count": 69,
      "metadata": {
        "colab": {
          "base_uri": "https://localhost:8080/"
        },
        "id": "CZzqYNtgpokF",
        "outputId": "16f1b06b-4cf0-449a-944a-ab68cd5c83a8"
      },
      "outputs": [
        {
          "output_type": "execute_result",
          "data": {
            "text/plain": [
              "(tensor(-0.0007), tensor([0.0070]))"
            ]
          },
          "metadata": {},
          "execution_count": 69
        }
      ],
      "source": [
        "calc_grad(batch, train_y[:4], linear1)\n",
        "weights.grad.mean(),bias.grad"
      ]
    },
    {
      "cell_type": "code",
      "execution_count": 70,
      "metadata": {
        "colab": {
          "base_uri": "https://localhost:8080/"
        },
        "id": "R5yY7Az-pokF",
        "outputId": "685342e7-a7a2-48bf-db7f-965d6530f324"
      },
      "outputs": [
        {
          "output_type": "execute_result",
          "data": {
            "text/plain": [
              "(tensor(-0.0064), tensor([-0.0285]))"
            ]
          },
          "metadata": {},
          "execution_count": 70
        }
      ],
      "source": [
        "calc_grad(batch, train_y[:4], linear1)\n",
        "weights.grad.mean(),bias.grad"
      ]
    },
    {
      "cell_type": "code",
      "execution_count": 71,
      "metadata": {
        "id": "R-Bzu26wpokG"
      },
      "outputs": [],
      "source": [
        "#เราจำเป็นต้อง reset gradients เพื่อไม่ให้มันบวกเพิ่มขึ้นเรือ่ยๆ\n",
        "weights.grad.zero_();\n",
        "bias.grad.zero_();"
      ]
    },
    {
      "cell_type": "code",
      "execution_count": 72,
      "metadata": {
        "id": "gKkqYbaqpokG"
      },
      "outputs": [],
      "source": [
        "#เทรน 1 epoch\n",
        "def train_epoch(model, lr, params):\n",
        "    #โยนทุก batch ให้โมเดลที่ละ batch จนหมด\n",
        "    for xb,yb in dl:\n",
        "        #คำนวน loss และ gradients\n",
        "        calc_grad(xb, yb, model)\n",
        "        #เปลี่ยน weights ด้วย gradient * learning rate (lr)\n",
        "        for p in params:\n",
        "            p.data -= p.grad*lr\n",
        "            p.grad.zero_()"
      ]
    },
    {
      "cell_type": "code",
      "execution_count": 73,
      "metadata": {
        "colab": {
          "base_uri": "https://localhost:8080/"
        },
        "id": "2XWh1J1ppokG",
        "outputId": "c8430151-6837-437d-c44e-d6c9ad4f8b88"
      },
      "outputs": [
        {
          "output_type": "execute_result",
          "data": {
            "text/plain": [
              "tensor(0.5469)"
            ]
          },
          "metadata": {},
          "execution_count": 73
        }
      ],
      "source": [
        "#คิด accuracy\n",
        "((preds>0.0).float() == yb).float().mean()"
      ]
    },
    {
      "cell_type": "markdown",
      "metadata": {
        "id": "4ZfrHoey0w2z"
      },
      "source": [
        "###  Calculate metric (accuracy in this case)"
      ]
    },
    {
      "cell_type": "code",
      "execution_count": 74,
      "metadata": {
        "id": "5QPI55L4pokG"
      },
      "outputs": [],
      "source": [
        "def batch_accuracy(xb, yb):\n",
        "    preds = xb.sigmoid()\n",
        "    correct = (preds>0.5) == yb\n",
        "    return correct.float().mean()"
      ]
    },
    {
      "cell_type": "code",
      "execution_count": 75,
      "metadata": {
        "colab": {
          "base_uri": "https://localhost:8080/"
        },
        "id": "8UVCx6RApokG",
        "outputId": "a8ffeab5-fabc-4dee-8d5d-31af60c17355"
      },
      "outputs": [
        {
          "output_type": "execute_result",
          "data": {
            "text/plain": [
              "tensor(0.5000)"
            ]
          },
          "metadata": {},
          "execution_count": 75
        }
      ],
      "source": [
        "batch_accuracy(linear1(batch), train_y[:4])"
      ]
    },
    {
      "cell_type": "code",
      "execution_count": 76,
      "metadata": {
        "id": "GbJQiOgIpokG"
      },
      "outputs": [],
      "source": [
        "#ทำการ validate ด้วย validation set\n",
        "def validate_epoch(model):\n",
        "    accs = [batch_accuracy(model(xb), yb) for xb,yb in valid_dl]\n",
        "    return round(torch.stack(accs).mean().item(), 4)"
      ]
    },
    {
      "cell_type": "code",
      "execution_count": 77,
      "metadata": {
        "colab": {
          "base_uri": "https://localhost:8080/"
        },
        "id": "txrLkdJQpokH",
        "outputId": "bdab4573-36ba-4806-d5aa-072aae5e10c6"
      },
      "outputs": [
        {
          "output_type": "execute_result",
          "data": {
            "text/plain": [
              "0.5485"
            ]
          },
          "metadata": {},
          "execution_count": 77
        }
      ],
      "source": [
        "validate_epoch(linear1)"
      ]
    },
    {
      "cell_type": "code",
      "execution_count": 78,
      "metadata": {
        "colab": {
          "base_uri": "https://localhost:8080/"
        },
        "id": "HRIapIkfpokH",
        "outputId": "784dc72f-1096-4ac3-ace8-f556c6758d33"
      },
      "outputs": [
        {
          "output_type": "execute_result",
          "data": {
            "text/plain": [
              "0.9252"
            ]
          },
          "metadata": {},
          "execution_count": 78
        }
      ],
      "source": [
        "#เทรนไป 1 epoch; accuracy เพิ่มเกือบเท่าตัว!\n",
        "lr = 1.\n",
        "\n",
        "params = weights, bias\n",
        "train_epoch(linear1, lr, params)\n",
        "validate_epoch(linear1)"
      ]
    },
    {
      "cell_type": "code",
      "execution_count": 79,
      "metadata": {
        "colab": {
          "base_uri": "https://localhost:8080/"
        },
        "id": "hvBUTwULpokH",
        "outputId": "a612a244-3b92-439f-a58a-d8672df33995"
      },
      "outputs": [
        {
          "output_type": "stream",
          "name": "stdout",
          "text": [
            "0.9554 0.9608 0.9633 0.9657 0.9681 0.9696 0.9716 0.973 0.974 0.974 0.975 0.9775 0.9745 0.976 0.9779 0.9779 0.9784 0.9784 0.9784 0.9789 "
          ]
        }
      ],
      "source": [
        "#เทรนไป 20 epoch; ทายถูกเกือบหมด\n",
        "for i in range(20):\n",
        "    train_epoch(linear1, lr, params)\n",
        "    print(validate_epoch(linear1), end=' ')"
      ]
    },
    {
      "cell_type": "markdown",
      "metadata": {
        "id": "uVt65caepokH"
      },
      "source": [
        "### Optimizer as a class"
      ]
    },
    {
      "cell_type": "code",
      "execution_count": 80,
      "metadata": {
        "colab": {
          "base_uri": "https://localhost:8080/"
        },
        "id": "ETZ0sdlXpokH",
        "outputId": "cf0a3477-5290-44ae-a107-ad938683d1bd"
      },
      "outputs": [
        {
          "output_type": "execute_result",
          "data": {
            "text/plain": [
              "Linear(in_features=784, out_features=1, bias=True)"
            ]
          },
          "metadata": {},
          "execution_count": 80
        }
      ],
      "source": [
        "#nn.Linear ก็คือฟังชั่นที่ x*W.T + b เราเขียนเมื่อกี้เลย\n",
        "linear_model = nn.Linear(28*28,1, bias=True)\n",
        "linear_model"
      ]
    },
    {
      "cell_type": "code",
      "execution_count": 81,
      "metadata": {
        "colab": {
          "base_uri": "https://localhost:8080/"
        },
        "id": "Op_9VxfipokH",
        "outputId": "37226c91-a00f-4d3f-f2cd-3939c4e1c7d5"
      },
      "outputs": [
        {
          "output_type": "execute_result",
          "data": {
            "text/plain": [
              "(torch.Size([1, 784]), torch.Size([1]))"
            ]
          },
          "metadata": {},
          "execution_count": 81
        }
      ],
      "source": [
        "w,b = linear_model.parameters()\n",
        "w.shape,b.shape"
      ]
    },
    {
      "cell_type": "code",
      "execution_count": 82,
      "metadata": {
        "id": "HDPzEqO-pokI"
      },
      "outputs": [],
      "source": [
        "#optimizer　แบบง่ายที่สุด\n",
        "class BasicOptim:\n",
        "    def __init__(self,params,lr):\n",
        "        self.params,self.lr = list(params),lr\n",
        "\n",
        "    #step ทำการ update weights\n",
        "    def step(self, *args, **kwargs):\n",
        "        for p in self.params: p.data -= p.grad.data * self.lr\n",
        "\n",
        "    #zero grad เพื่อทำการรีเซต gradients\n",
        "    def zero_grad(self, *args, **kwargs):\n",
        "        for p in self.params: p.grad = None"
      ]
    },
    {
      "cell_type": "code",
      "execution_count": 83,
      "metadata": {
        "id": "UIAhC389pokI"
      },
      "outputs": [],
      "source": [
        "opt = BasicOptim(linear_model.parameters(), lr)"
      ]
    },
    {
      "cell_type": "code",
      "execution_count": 84,
      "metadata": {
        "id": "zNokDJCupokI"
      },
      "outputs": [],
      "source": [
        "def train_epoch(model):\n",
        "    for xb,yb in dl:\n",
        "        calc_grad(xb, yb, model)\n",
        "        #เปลี่ยนโค้ดเป็น optimizer แทน\n",
        "        opt.step()\n",
        "        opt.zero_grad()"
      ]
    },
    {
      "cell_type": "code",
      "execution_count": 85,
      "metadata": {
        "colab": {
          "base_uri": "https://localhost:8080/"
        },
        "id": "pUr7KQecpokI",
        "outputId": "0a878a4e-11f2-41da-f16d-fb5bb36111c7"
      },
      "outputs": [
        {
          "output_type": "execute_result",
          "data": {
            "text/plain": [
              "0.3569"
            ]
          },
          "metadata": {},
          "execution_count": 85
        }
      ],
      "source": [
        "validate_epoch(linear_model)"
      ]
    },
    {
      "cell_type": "code",
      "execution_count": 86,
      "metadata": {
        "id": "wQptVRJfpokI"
      },
      "outputs": [],
      "source": [
        "def train_model(model, epochs):\n",
        "    for i in range(epochs):\n",
        "        train_epoch(model)\n",
        "        print(validate_epoch(model), end=' ')"
      ]
    },
    {
      "cell_type": "code",
      "execution_count": 87,
      "metadata": {
        "colab": {
          "base_uri": "https://localhost:8080/"
        },
        "id": "kRbgjPURpokI",
        "outputId": "ea08c8f3-d9ea-4a01-926d-16ae3683d460"
      },
      "outputs": [
        {
          "output_type": "stream",
          "name": "stdout",
          "text": [
            "0.9706 0.975 0.975 0.978 0.978 0.9784 0.9794 0.9794 0.9799 0.9804 0.9804 0.9804 0.9804 0.9814 0.9819 0.9823 0.9823 0.9819 0.9823 0.9828 "
          ]
        }
      ],
      "source": [
        "#ได้ผลดีเหมือนเดิม\n",
        "train_model(linear_model, 20)"
      ]
    }
  ],
  "metadata": {
    "accelerator": "GPU",
    "colab": {
      "provenance": []
    },
    "jupytext": {
      "split_at_heading": true
    },
    "kernelspec": {
      "display_name": "Python 3 (ipykernel)",
      "language": "python",
      "name": "python3"
    },
    "language_info": {
      "codemirror_mode": {
        "name": "ipython",
        "version": 3
      },
      "file_extension": ".py",
      "mimetype": "text/x-python",
      "name": "python",
      "nbconvert_exporter": "python",
      "pygments_lexer": "ipython3",
      "version": "3.9.12"
    }
  },
  "nbformat": 4,
  "nbformat_minor": 0
}